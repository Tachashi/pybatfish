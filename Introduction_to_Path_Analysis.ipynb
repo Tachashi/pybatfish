{
  "nbformat": 4,
  "nbformat_minor": 0,
  "metadata": {
    "colab": {
      "name": "Introduction to Path Analysis.ipynb",
      "version": "0.3.2",
      "provenance": [],
      "collapsed_sections": [],
      "include_colab_link": true
    },
    "kernelspec": {
      "display_name": "Python 3",
      "language": "python",
      "name": "python3"
    }
  },
  "cells": [
    {
      "cell_type": "markdown",
      "metadata": {
        "id": "view-in-github",
        "colab_type": "text"
      },
      "source": [
        "[View in Colaboratory](https://colab.research.google.com/github/progwriter/pybatfish/blob/victor-path-analysis/Introduction_to_Path_Analysis.ipynb)"
      ]
    },
    {
      "metadata": {
        "id": "-rmC-zu0WYjw",
        "colab_type": "text"
      },
      "cell_type": "markdown",
      "source": [
        "# Introduction to Path Analysis using Batfish"
      ]
    },
    {
      "metadata": {
        "hide_input": true,
        "id": "HkCLyRtHWYjx",
        "colab_type": "text"
      },
      "cell_type": "markdown",
      "source": [
        "Analyzing the paths of packets through the network is one of the most common tasks that network engineers undertake. Typically, this analysis is performed by running `traceroute` between multiple sources and destinations. This process is highly complex even in a moderately-sized network. It also fails to provide strong assurance as only some of the source-destination pairs and some of the packets can be feasibly tested.  \n",
        "\n",
        "Batfish makes path analysis extremely simple by providing 1) easy-to-use queries over a centralized view of the network; and 2) ability to reason comprehensively about entire spaces of packets and locations. Further,  it can perform this analysis proactively, that is, analyze the impact of configuration changes *before* they are pushed to the network. \n",
        "\n",
        "In this notebook, we will show you how to perform path analysis with Batfish. ![](https://ga-beacon.appspot.com/UA-100596389-3/open-source/pybatfish/jupyter_notebooks/intro-path-analysis?pixel&useReferer)"
      ]
    },
    {
      "metadata": {
        "id": "_17kNqJdWYjz",
        "colab_type": "code",
        "colab": {
          "base_uri": "https://localhost:8080/",
          "height": 51
        },
        "outputId": "cd7d6fb6-6114-454d-f443-ba4c52ec93c0"
      },
      "cell_type": "code",
      "source": [
        "# Import packages and load questions\n",
        "%run startup.py"
      ],
      "execution_count": 1,
      "outputs": [
        {
          "output_type": "stream",
          "text": [
            "/Users/dhalperin/git-workspace/pybatfish/pybatfish/client/commands.py:50: UserWarning: Pybatfish public API is being updated, note that API names and parameters will soon change.\n",
            "  \"Pybatfish public API is being updated, note that API names and parameters will soon change.\")\n"
          ],
          "name": "stderr"
        }
      ]
    },
    {
      "metadata": {
        "id": "dMyqKGtNWYj2",
        "colab_type": "text"
      },
      "cell_type": "markdown",
      "source": [
        "## Setup: Initializing the Network and Snapshot"
      ]
    },
    {
      "metadata": {
        "id": "zYSQebDoWYj3",
        "colab_type": "text"
      },
      "cell_type": "markdown",
      "source": [
        "`SNAPSHOT_PATH` below can be updated to point to a custom snapshot directory. See the [Batfish instructions](https://github.com/batfish/batfish/wiki/Packaging-snapshots-for-analysis) for how to package data for analysis.\n",
        "\n",
        "More example networks are available in the [networks](https://github.com/batfish/batfish/tree/master/networks) folder of the Batfish repository."
      ]
    },
    {
      "metadata": {
        "id": "kaVuyCn8WYj4",
        "colab_type": "code",
        "colab": {
          "base_uri": "https://localhost:8080/",
          "height": 34
        },
        "outputId": "64438260-0fb7-4145-fe24-2f507eb58fc8"
      },
      "cell_type": "code",
      "source": [
        "NETWORK_NAME = \"example_network\"\n",
        "SNAPSHOT_NAME = \"example_snapshot\"\n",
        "\n",
        "SNAPSHOT_PATH = \"networks/example\"\n",
        "\n",
        "bf_set_network(NETWORK_NAME)\n",
        "bf_init_snapshot(SNAPSHOT_PATH, name=SNAPSHOT_NAME, overwrite=True)"
      ],
      "execution_count": 2,
      "outputs": [
        {
          "output_type": "execute_result",
          "data": {
            "text/plain": [
              "'example_snapshot'"
            ]
          },
          "metadata": {
            "tags": []
          },
          "execution_count": 2
        }
      ]
    },
    {
      "metadata": {
        "id": "wNbL4P6HWYj7",
        "colab_type": "text"
      },
      "cell_type": "markdown",
      "source": [
        "The network snapshot that we initialized above is illustrated below. You can view or download the devices' configuration files [here](https://github.com/batfish/pybatfish/tree/master/jupyter_notebooks/networks/example).\n",
        "\n",
        "![example-network](https://raw.githubusercontent.com/batfish/pybatfish/master/jupyter_notebooks/networks/example/example-network.png)"
      ]
    },
    {
      "metadata": {
        "id": "qxvp9hQmWYj8",
        "colab_type": "text"
      },
      "cell_type": "markdown",
      "source": [
        "All of the information we will show you in this notebook is dynamically computed by Batfish based on the configuration files for the network devices.\n",
        "\n",
        "---\n",
        "\n"
      ]
    },
    {
      "metadata": {
        "id": "XXDxhAFzWYj8",
        "colab_type": "text"
      },
      "cell_type": "markdown",
      "source": [
        "## Batfish Smart Traceroute: Detailed analysis of path(s) of a flow"
      ]
    },
    {
      "metadata": {
        "id": "fbkcVCMGWYj9",
        "colab_type": "text"
      },
      "cell_type": "markdown",
      "source": [
        "In this section, we will use the [`traceroute` question](https://pybatfish.readthedocs.io/en/latest/questions.html#pybatfish.question.bfq.traceroute) to find the path taken by AS3 core routers to reach the DNS Server (`host1`) in AS2. Traceroute has three (composite) parameters that you can specify, allowing for a variety of queries. We will focus on the two main ones:\n",
        "\n",
        "* `startLocation` - where in the network the flow starts\n",
        "* `headers` - [packet headers](https://pybatfish.readthedocs.io/en/latest/datamodel.html#pybatfish.datamodel.flow.HeaderConstraints) for the flow you are interested in tracing. This is **not** just limited to UDP or ICMP.\n",
        "\n",
        "We want the trace to start from the `Loopback0` interface on `as3core1`, and we want to use the IP address of that interface as the source address. For this we set the `startLocation` to `as3core1[Loopback0]`. Batfish automatically chooses the IP address of `Loopback0` as the source IP.\n",
        "\n",
        "Let's set the destination IP address of our virtual packet by specifying `dstIps='ofLocation(host1)'`. Batfish will automatically pick *one of the* IP addresses for `host1` as the destination IP address.\n",
        "\n",
        "To run the query:"
      ]
    },
    {
      "metadata": {
        "id": "DeDA8yNMWYj-",
        "colab_type": "code",
        "colab": {}
      },
      "cell_type": "code",
      "source": [
        "# start the traceroute from the Loopback0 interface of as3core1 to host1\n",
        "headers = HeaderConstraints(dstIps='ofLocation(host1)')\n",
        "tracert = bfq.traceroute(startLocation=\"as3core1[Loopback0]\", headers=headers).answer().frame()"
      ],
      "execution_count": 0,
      "outputs": []
    },
    {
      "metadata": {
        "id": "tHGTLc1QWYkA",
        "colab_type": "text"
      },
      "cell_type": "markdown",
      "source": [
        "To pretty-print the traces in HTML use the `display_html` function. We will show you how to extract more detailed information below."
      ]
    },
    {
      "metadata": {
        "id": "dYuBiclQWYkC",
        "colab_type": "code",
        "colab": {
          "base_uri": "https://localhost:8080/",
          "height": 1931
        },
        "outputId": "c2b26c1f-ea43-431a-de10-bea36fc3468e"
      },
      "cell_type": "code",
      "source": [
        "display_html(tracert)"
      ],
      "execution_count": 21,
      "outputs": [
        {
          "output_type": "display_data",
          "data": {
            "text/plain": [
              "<pandas.io.formats.style.Styler at 0x11a1d36a0>"
            ],
            "text/html": [
              "<style  type=\"text/css\" >\n",
              "    #T_3a90ec1c_d887_11e8_8e50_fe00b950d601row0_col0 {\n",
              "            text-align:  left;\n",
              "            vertical-align:  top;\n",
              "        }    #T_3a90ec1c_d887_11e8_8e50_fe00b950d601row0_col1 {\n",
              "            text-align:  left;\n",
              "            vertical-align:  top;\n",
              "        }    #T_3a90ec1c_d887_11e8_8e50_fe00b950d601row0_col2 {\n",
              "            text-align:  left;\n",
              "            vertical-align:  top;\n",
              "        }</style>  \n",
              "<table id=\"T_3a90ec1c_d887_11e8_8e50_fe00b950d601\" > \n",
              "<thead>    <tr> \n",
              "        <th class=\"blank level0\" ></th> \n",
              "        <th class=\"col_heading level0 col0\" >Flow</th> \n",
              "        <th class=\"col_heading level0 col1\" >Traces</th> \n",
              "        <th class=\"col_heading level0 col2\" >TraceCount</th> \n",
              "    </tr></thead> \n",
              "<tbody>    <tr> \n",
              "        <th id=\"T_3a90ec1c_d887_11e8_8e50_fe00b950d601level0_row0\" class=\"row_heading level0 row0\" >0</th> \n",
              "        <td id=\"T_3a90ec1c_d887_11e8_8e50_fe00b950d601row0_col0\" class=\"data row0 col0\" >Src IP: 3.10.1.1<br>Src Port: 49152<br>Dst IP: 2.128.0.101<br>Dst Port: 33434<br>IP Protocol: UDP<br>Start Location: as3core1</td> \n",
              "        <td id=\"T_3a90ec1c_d887_11e8_8e50_fe00b950d601row0_col1\" class=\"data row0 col1\" ><span style=\"color:#7c020e; text-weight:bold;\">DENIED_IN</span><br><strong>1</strong>. node: as3core1<br>&nbsp;&nbsp;ORIGINATED(default)<br>&nbsp;&nbsp;FORWARDED(Routes: ibgp [Network: 2.128.0.0/16, Next Hop IP:10.23.21.2])<br>&nbsp;&nbsp;TRANSMITTED(GigabitEthernet1/0)<br><strong>2</strong>. node: as3border1<br>&nbsp;&nbsp;RECEIVED(GigabitEthernet0/0)<br>&nbsp;&nbsp;FORWARDED(Routes: bgp [Network: 2.128.0.0/16, Next Hop IP:10.23.21.2])<br>&nbsp;&nbsp;TRANSMITTED(GigabitEthernet1/0)<br><strong>3</strong>. node: as2border2<br>&nbsp;&nbsp;RECEIVED(GigabitEthernet0/0: OUTSIDE_TO_INSIDE)<br>&nbsp;&nbsp;FORWARDED(Routes: ibgp [Network: 2.128.0.0/24, Next Hop IP:2.34.101.4],ibgp [Network: 2.128.0.0/24, Next Hop IP:2.34.201.4])<br>&nbsp;&nbsp;TRANSMITTED(GigabitEthernet1/0)<br><strong>4</strong>. node: as2core2<br>&nbsp;&nbsp;RECEIVED(GigabitEthernet0/0)<br>&nbsp;&nbsp;FORWARDED(Routes: ibgp [Network: 2.128.0.0/24, Next Hop IP:2.34.201.4])<br>&nbsp;&nbsp;TRANSMITTED(GigabitEthernet2/0)<br><strong>5</strong>. node: as2dist2<br>&nbsp;&nbsp;RECEIVED(GigabitEthernet0/0)<br>&nbsp;&nbsp;FORWARDED(Routes: bgp [Network: 2.128.0.0/24, Next Hop IP:2.34.201.4])<br>&nbsp;&nbsp;TRANSMITTED(GigabitEthernet2/0)<br><strong>6</strong>. node: as2dept1<br>&nbsp;&nbsp;RECEIVED(GigabitEthernet1/0)<br>&nbsp;&nbsp;FORWARDED(Routes: connected [Network: 2.128.0.0/24, Next Hop IP:AUTO/NONE(-1l)])<br>&nbsp;&nbsp;TRANSMITTED(GigabitEthernet2/0)<br><strong>7</strong>. node: host1<br>&nbsp;&nbsp;DENIED(eth0: filter::INPUT)<br><br><span style=\"color:#7c020e; text-weight:bold;\">DENIED_IN</span><br><strong>1</strong>. node: as3core1<br>&nbsp;&nbsp;ORIGINATED(default)<br>&nbsp;&nbsp;FORWARDED(Routes: ibgp [Network: 2.128.0.0/16, Next Hop IP:10.23.21.2])<br>&nbsp;&nbsp;TRANSMITTED(GigabitEthernet1/0)<br><strong>2</strong>. node: as3border1<br>&nbsp;&nbsp;RECEIVED(GigabitEthernet0/0)<br>&nbsp;&nbsp;FORWARDED(Routes: bgp [Network: 2.128.0.0/16, Next Hop IP:10.23.21.2])<br>&nbsp;&nbsp;TRANSMITTED(GigabitEthernet1/0)<br><strong>3</strong>. node: as2border2<br>&nbsp;&nbsp;RECEIVED(GigabitEthernet0/0: OUTSIDE_TO_INSIDE)<br>&nbsp;&nbsp;FORWARDED(Routes: ibgp [Network: 2.128.0.0/24, Next Hop IP:2.34.101.4],ibgp [Network: 2.128.0.0/24, Next Hop IP:2.34.201.4])<br>&nbsp;&nbsp;TRANSMITTED(GigabitEthernet1/0)<br><strong>4</strong>. node: as2core2<br>&nbsp;&nbsp;RECEIVED(GigabitEthernet0/0)<br>&nbsp;&nbsp;FORWARDED(Routes: ibgp [Network: 2.128.0.0/24, Next Hop IP:2.34.101.4])<br>&nbsp;&nbsp;TRANSMITTED(GigabitEthernet3/0)<br><strong>5</strong>. node: as2dist1<br>&nbsp;&nbsp;RECEIVED(GigabitEthernet1/0)<br>&nbsp;&nbsp;FORWARDED(Routes: bgp [Network: 2.128.0.0/24, Next Hop IP:2.34.101.4])<br>&nbsp;&nbsp;TRANSMITTED(GigabitEthernet2/0)<br><strong>6</strong>. node: as2dept1<br>&nbsp;&nbsp;RECEIVED(GigabitEthernet0/0)<br>&nbsp;&nbsp;FORWARDED(Routes: connected [Network: 2.128.0.0/24, Next Hop IP:AUTO/NONE(-1l)])<br>&nbsp;&nbsp;TRANSMITTED(GigabitEthernet2/0)<br><strong>7</strong>. node: host1<br>&nbsp;&nbsp;DENIED(eth0: filter::INPUT)<br><br><span style=\"color:#7c020e; text-weight:bold;\">DENIED_IN</span><br><strong>1</strong>. node: as3core1<br>&nbsp;&nbsp;ORIGINATED(default)<br>&nbsp;&nbsp;FORWARDED(Routes: ibgp [Network: 2.128.0.0/16, Next Hop IP:10.23.21.2])<br>&nbsp;&nbsp;TRANSMITTED(GigabitEthernet1/0)<br><strong>2</strong>. node: as3border1<br>&nbsp;&nbsp;RECEIVED(GigabitEthernet0/0)<br>&nbsp;&nbsp;FORWARDED(Routes: bgp [Network: 2.128.0.0/16, Next Hop IP:10.23.21.2])<br>&nbsp;&nbsp;TRANSMITTED(GigabitEthernet1/0)<br><strong>3</strong>. node: as2border2<br>&nbsp;&nbsp;RECEIVED(GigabitEthernet0/0: OUTSIDE_TO_INSIDE)<br>&nbsp;&nbsp;FORWARDED(Routes: ibgp [Network: 2.128.0.0/24, Next Hop IP:2.34.101.4],ibgp [Network: 2.128.0.0/24, Next Hop IP:2.34.201.4])<br>&nbsp;&nbsp;TRANSMITTED(GigabitEthernet2/0)<br><strong>4</strong>. node: as2core1<br>&nbsp;&nbsp;RECEIVED(GigabitEthernet1/0)<br>&nbsp;&nbsp;FORWARDED(Routes: ibgp [Network: 2.128.0.0/24, Next Hop IP:2.34.101.4])<br>&nbsp;&nbsp;TRANSMITTED(GigabitEthernet2/0)<br><strong>5</strong>. node: as2dist1<br>&nbsp;&nbsp;RECEIVED(GigabitEthernet0/0)<br>&nbsp;&nbsp;FORWARDED(Routes: bgp [Network: 2.128.0.0/24, Next Hop IP:2.34.101.4])<br>&nbsp;&nbsp;TRANSMITTED(GigabitEthernet2/0)<br><strong>6</strong>. node: as2dept1<br>&nbsp;&nbsp;RECEIVED(GigabitEthernet0/0)<br>&nbsp;&nbsp;FORWARDED(Routes: connected [Network: 2.128.0.0/24, Next Hop IP:AUTO/NONE(-1l)])<br>&nbsp;&nbsp;TRANSMITTED(GigabitEthernet2/0)<br><strong>7</strong>. node: host1<br>&nbsp;&nbsp;DENIED(eth0: filter::INPUT)<br><br><span style=\"color:#7c020e; text-weight:bold;\">DENIED_IN</span><br><strong>1</strong>. node: as3core1<br>&nbsp;&nbsp;ORIGINATED(default)<br>&nbsp;&nbsp;FORWARDED(Routes: ibgp [Network: 2.128.0.0/16, Next Hop IP:10.23.21.2])<br>&nbsp;&nbsp;TRANSMITTED(GigabitEthernet1/0)<br><strong>2</strong>. node: as3border1<br>&nbsp;&nbsp;RECEIVED(GigabitEthernet0/0)<br>&nbsp;&nbsp;FORWARDED(Routes: bgp [Network: 2.128.0.0/16, Next Hop IP:10.23.21.2])<br>&nbsp;&nbsp;TRANSMITTED(GigabitEthernet1/0)<br><strong>3</strong>. node: as2border2<br>&nbsp;&nbsp;RECEIVED(GigabitEthernet0/0: OUTSIDE_TO_INSIDE)<br>&nbsp;&nbsp;FORWARDED(Routes: ibgp [Network: 2.128.0.0/24, Next Hop IP:2.34.101.4],ibgp [Network: 2.128.0.0/24, Next Hop IP:2.34.201.4])<br>&nbsp;&nbsp;TRANSMITTED(GigabitEthernet2/0)<br><strong>4</strong>. node: as2core1<br>&nbsp;&nbsp;RECEIVED(GigabitEthernet1/0)<br>&nbsp;&nbsp;FORWARDED(Routes: ibgp [Network: 2.128.0.0/24, Next Hop IP:2.34.201.4])<br>&nbsp;&nbsp;TRANSMITTED(GigabitEthernet3/0)<br><strong>5</strong>. node: as2dist2<br>&nbsp;&nbsp;RECEIVED(GigabitEthernet1/0)<br>&nbsp;&nbsp;FORWARDED(Routes: bgp [Network: 2.128.0.0/24, Next Hop IP:2.34.201.4])<br>&nbsp;&nbsp;TRANSMITTED(GigabitEthernet2/0)<br><strong>6</strong>. node: as2dept1<br>&nbsp;&nbsp;RECEIVED(GigabitEthernet1/0)<br>&nbsp;&nbsp;FORWARDED(Routes: connected [Network: 2.128.0.0/24, Next Hop IP:AUTO/NONE(-1l)])<br>&nbsp;&nbsp;TRANSMITTED(GigabitEthernet2/0)<br><strong>7</strong>. node: host1<br>&nbsp;&nbsp;DENIED(eth0: filter::INPUT)</td> \n",
              "        <td id=\"T_3a90ec1c_d887_11e8_8e50_fe00b950d601row0_col2\" class=\"data row0 col2\" >4</td> \n",
              "    </tr></tbody> \n",
              "</table> "
            ]
          },
          "metadata": {
            "tags": []
          }
        }
      ]
    },
    {
      "metadata": {
        "id": "7Hy_Z_dIWYkG",
        "colab_type": "text"
      },
      "cell_type": "markdown",
      "source": [
        "The `Flow` column describes the packet being traced: it starts at `as3core1` using source IP  `3.10.1.1` (of `Loopback0`) and and destination IP `2.128.0.101`. By default, `bfq.traceroute` uses the standard UDP traceroute to destination port `33434`, and Batfish arbitrarily picks the lowest ephemeral source port of  `49152`."
      ]
    },
    {
      "metadata": {
        "id": "DtxVV-ZnjgOx",
        "colab_type": "code",
        "colab": {
          "base_uri": "https://localhost:8080/",
          "height": 119
        },
        "outputId": "184c9575-2650-4b24-f274-e1c8c0ec4393"
      },
      "cell_type": "code",
      "source": [
        "tracert['Flow'][0]"
      ],
      "execution_count": 14,
      "outputs": [
        {
          "output_type": "execute_result",
          "data": {
            "text/plain": [
              "Flow(dscp=0, dstIp='2.128.0.101', dstPort=33434, ecn=0, fragmentOffset=0, icmpCode=255, icmpVar=255, ingressInterface=None, ingressNode='as3core1', ingressVrf='default', ipProtocol='UDP', packetLength=512, srcIp='3.10.1.1', srcPort=49152, state='NEW', tag='BASE', tcpFlagsAck=0, tcpFlagsCwr=0, tcpFlagsEce=0, tcpFlagsFin=0, tcpFlagsPsh=0, tcpFlagsRst=0, tcpFlagsSyn=0, tcpFlagsUrg=0)"
            ],
            "text/html": [
              "Src IP: 3.10.1.1<br>Src Port: 49152<br>Dst IP: 2.128.0.101<br>Dst Port: 33434<br>IP Protocol: UDP<br>Start Location: as3core1"
            ]
          },
          "metadata": {
            "tags": []
          },
          "execution_count": 14
        }
      ]
    },
    {
      "metadata": {
        "id": "F3bag96LkZUv",
        "colab_type": "text"
      },
      "cell_type": "markdown",
      "source": [
        "The `Trace` column contains the detailed information provided by Batfish about the paths through the network for each flow. Let's look in detail on the first path:"
      ]
    },
    {
      "metadata": {
        "id": "Y3ByWH_WkZ0k",
        "colab_type": "code",
        "colab": {
          "base_uri": "https://localhost:8080/",
          "height": 476
        },
        "outputId": "f959067c-137e-4ae1-f980-7bc0b3bdab7b"
      },
      "cell_type": "code",
      "source": [
        "tracert['Traces'][0][0] # Get the trace for the first path of the first flow"
      ],
      "execution_count": 19,
      "outputs": [
        {
          "output_type": "execute_result",
          "data": {
            "text/plain": [
              "Trace(disposition='DENIED_IN', hops=[Hop(node='as3core1', steps=[Step(detail=OriginateStepDetail(originatingVrf='default'), action='ORIGINATED'), Step(detail=RoutingStepDetail(routes=[{'network': '2.128.0.0/16', 'nextHopIp': '10.23.21.2', 'protocol': 'ibgp'}]), action='FORWARDED'), Step(detail=ExitOutputIfaceStepDetail(outputInterface='GigabitEthernet1/0', outputFilter=None, transformedFlow=None), action='TRANSMITTED')]), Hop(node='as3border1', steps=[Step(detail=EnterInputIfaceStepDetail(inputInterface='GigabitEthernet0/0', inputVrf='default', inputFilter=None), action='RECEIVED'), Step(detail=RoutingStepDetail(routes=[{'network': '2.128.0.0/16', 'nextHopIp': '10.23.21.2', 'protocol': 'bgp'}]), action='FORWARDED'), Step(detail=ExitOutputIfaceStepDetail(outputInterface='GigabitEthernet1/0', outputFilter=None, transformedFlow=None), action='TRANSMITTED')]), Hop(node='as2border2', steps=[Step(detail=EnterInputIfaceStepDetail(inputInterface='GigabitEthernet0/0', inputVrf='default', inputFilter='OUTSIDE_TO_INSIDE'), action='RECEIVED'), Step(detail=RoutingStepDetail(routes=[{'network': '2.128.0.0/24', 'nextHopIp': '2.34.101.4', 'protocol': 'ibgp'}, {'network': '2.128.0.0/24', 'nextHopIp': '2.34.201.4', 'protocol': 'ibgp'}]), action='FORWARDED'), Step(detail=ExitOutputIfaceStepDetail(outputInterface='GigabitEthernet1/0', outputFilter=None, transformedFlow=None), action='TRANSMITTED')]), Hop(node='as2core2', steps=[Step(detail=EnterInputIfaceStepDetail(inputInterface='GigabitEthernet0/0', inputVrf='default', inputFilter=None), action='RECEIVED'), Step(detail=RoutingStepDetail(routes=[{'network': '2.128.0.0/24', 'nextHopIp': '2.34.201.4', 'protocol': 'ibgp'}]), action='FORWARDED'), Step(detail=ExitOutputIfaceStepDetail(outputInterface='GigabitEthernet2/0', outputFilter=None, transformedFlow=None), action='TRANSMITTED')]), Hop(node='as2dist2', steps=[Step(detail=EnterInputIfaceStepDetail(inputInterface='GigabitEthernet0/0', inputVrf='default', inputFilter=None), action='RECEIVED'), Step(detail=RoutingStepDetail(routes=[{'network': '2.128.0.0/24', 'nextHopIp': '2.34.201.4', 'protocol': 'bgp'}]), action='FORWARDED'), Step(detail=ExitOutputIfaceStepDetail(outputInterface='GigabitEthernet2/0', outputFilter=None, transformedFlow=None), action='TRANSMITTED')]), Hop(node='as2dept1', steps=[Step(detail=EnterInputIfaceStepDetail(inputInterface='GigabitEthernet1/0', inputVrf='default', inputFilter=None), action='RECEIVED'), Step(detail=RoutingStepDetail(routes=[{'network': '2.128.0.0/24', 'nextHopIp': 'AUTO/NONE(-1l)', 'protocol': 'connected'}]), action='FORWARDED'), Step(detail=ExitOutputIfaceStepDetail(outputInterface='GigabitEthernet2/0', outputFilter=None, transformedFlow=None), action='TRANSMITTED')]), Hop(node='host1', steps=[Step(detail=EnterInputIfaceStepDetail(inputInterface='eth0', inputVrf='default', inputFilter='filter::INPUT'), action='DENIED')])])"
            ],
            "text/html": [
              "<span style=\"color:#7c020e; text-weight:bold;\">DENIED_IN</span><br><strong>1</strong>. node: as3core1<br>&nbsp;&nbsp;ORIGINATED(default)<br>&nbsp;&nbsp;FORWARDED(Routes: ibgp [Network: 2.128.0.0/16, Next Hop IP:10.23.21.2])<br>&nbsp;&nbsp;TRANSMITTED(GigabitEthernet1/0)<br><strong>2</strong>. node: as3border1<br>&nbsp;&nbsp;RECEIVED(GigabitEthernet0/0)<br>&nbsp;&nbsp;FORWARDED(Routes: bgp [Network: 2.128.0.0/16, Next Hop IP:10.23.21.2])<br>&nbsp;&nbsp;TRANSMITTED(GigabitEthernet1/0)<br><strong>3</strong>. node: as2border2<br>&nbsp;&nbsp;RECEIVED(GigabitEthernet0/0: OUTSIDE_TO_INSIDE)<br>&nbsp;&nbsp;FORWARDED(Routes: ibgp [Network: 2.128.0.0/24, Next Hop IP:2.34.101.4],ibgp [Network: 2.128.0.0/24, Next Hop IP:2.34.201.4])<br>&nbsp;&nbsp;TRANSMITTED(GigabitEthernet1/0)<br><strong>4</strong>. node: as2core2<br>&nbsp;&nbsp;RECEIVED(GigabitEthernet0/0)<br>&nbsp;&nbsp;FORWARDED(Routes: ibgp [Network: 2.128.0.0/24, Next Hop IP:2.34.201.4])<br>&nbsp;&nbsp;TRANSMITTED(GigabitEthernet2/0)<br><strong>5</strong>. node: as2dist2<br>&nbsp;&nbsp;RECEIVED(GigabitEthernet0/0)<br>&nbsp;&nbsp;FORWARDED(Routes: bgp [Network: 2.128.0.0/24, Next Hop IP:2.34.201.4])<br>&nbsp;&nbsp;TRANSMITTED(GigabitEthernet2/0)<br><strong>6</strong>. node: as2dept1<br>&nbsp;&nbsp;RECEIVED(GigabitEthernet1/0)<br>&nbsp;&nbsp;FORWARDED(Routes: connected [Network: 2.128.0.0/24, Next Hop IP:AUTO/NONE(-1l)])<br>&nbsp;&nbsp;TRANSMITTED(GigabitEthernet2/0)<br><strong>7</strong>. node: host1<br>&nbsp;&nbsp;DENIED(eth0: filter::INPUT)"
            ]
          },
          "metadata": {
            "tags": []
          },
          "execution_count": 19
        }
      ]
    },
    {
      "metadata": {
        "id": "wdw4qcKVkI4J",
        "colab_type": "text"
      },
      "cell_type": "markdown",
      "source": [
        "This flow starts at `as3core1` and crosses from AS3 into AS2 via the border routers `as3border1` and `as2border2`; on `as2border2`, the flow is permitted by the inbound ACL `OUTSIDE_TO_INSIDE`.\n",
        "\n",
        "Once inside AS2, the flow is forwarded through AS2's core and distribution servers to the department router. The flow does reach `host1`, but is blocked by that server iptables rule `filter::INPUT`."
      ]
    },
    {
      "metadata": {
        "id": "FHA2Hk0tjp-8",
        "colab_type": "text"
      },
      "cell_type": "markdown",
      "source": [
        "The `TraceCount` column reports the total number of paths for each flow. In this example, the count `4` matches the four paths we saw in the `Traces` column. If you look at the full table output above, you can see that the four paths These correspond to ECMP inside AS2 across `as2core1`/`2` and `as2dist1`/`2`.\n",
        "\n",
        "<small>Detail: `TraceCount` may not always match the `TracesColumn`, this may not always be the case: in networks with high ECMP, there may be hundreds or even thousands of traces even for a single flow, in which case the `Traces` column will produce fewer results.</small>\n",
        "\n"
      ]
    },
    {
      "metadata": {
        "id": "lWTFGXHij5hY",
        "colab_type": "code",
        "colab": {
          "base_uri": "https://localhost:8080/",
          "height": 34
        },
        "outputId": "c9a54484-3e92-4598-9ef9-39f5137c1811"
      },
      "cell_type": "code",
      "source": [
        "tracert['TraceCount'][0]"
      ],
      "execution_count": 15,
      "outputs": [
        {
          "output_type": "execute_result",
          "data": {
            "text/plain": [
              "4"
            ]
          },
          "metadata": {
            "tags": []
          },
          "execution_count": 15
        }
      ]
    },
    {
      "metadata": {
        "id": "yFqtR22ppcsX",
        "colab_type": "text"
      },
      "cell_type": "markdown",
      "source": [
        "Note that compared to running traceroute on a router, Batfish is able to provide much more detail about the trace:\n",
        "\n",
        "1. All active parallel paths between the source and destination\n",
        "1. The reason why each hop in a path is taken (the specific routing entry that was matched)\n",
        "1. All processing steps inside each hop on the path\n",
        "1. All interfaces visited and filters encountered during the trace\n",
        "1. The disposition of the flow for each path"
      ]
    },
    {
      "metadata": {
        "id": "FQpr_NzRWYkI",
        "colab_type": "text"
      },
      "cell_type": "markdown",
      "source": [
        "Of course, the traces are Python objects that are programmatically accessible as well. To get the detailed information about the final hop of the first trace in pure Python form:"
      ]
    },
    {
      "metadata": {
        "id": "BLU5X1lyWYkI",
        "colab_type": "code",
        "colab": {
          "base_uri": "https://localhost:8080/",
          "height": 34
        },
        "outputId": "c92d65b6-4b4a-4641-fe6e-7f819e0c9205"
      },
      "cell_type": "code",
      "source": [
        "flow_num = 0 # flow number we want to see\n",
        "path_num = 0 # path number we want to see\n",
        "last_hop = tracert['Traces'][flow_num][path_num].hops[-1]\n",
        "repr(last_hop)"
      ],
      "execution_count": 5,
      "outputs": [
        {
          "output_type": "execute_result",
          "data": {
            "text/plain": [
              "\"Hop(node='host1', steps=[Step(detail=EnterInputIfaceStepDetail(inputInterface='eth0', inputVrf='default', inputFilter='filter::INPUT'), action='DENIED')])\""
            ]
          },
          "metadata": {
            "tags": []
          },
          "execution_count": 5
        }
      ]
    },
    {
      "metadata": {
        "id": "gB9YQN4SWYkM",
        "colab_type": "text"
      },
      "cell_type": "markdown",
      "source": [
        "What we see from the above output is that the packet was sent all the way to `host1`, but blocked at the host itself. In fact, the iptables filter on the inbound interface `eth0` blocked the packet."
      ]
    },
    {
      "metadata": {
        "id": "-EoqIm7TWYkO",
        "colab_type": "text"
      },
      "cell_type": "markdown",
      "source": [
        "## Abstract Path Analysis with Batfish Reachability\n",
        "\n",
        "Batfish's smart traceroute allows you to find detailed information about all paths taken by a specified flow through the network, but what if you want to check **every** possible flow, without trying them all? Batfish's\n",
        "[`reachability` question](https://pybatfish.readthedocs.io/en/latest/questions.html#pybatfish.question.bfq.reachability) \n",
        "allows you to do that.\n",
        "\n",
        "This abstract analysis is very useful when you want to build a set of tests for the network to ensure security and reliability.\n",
        "\n",
        "Let's start by constructing a query that checks if **any** flow from the IPv4 address space (`srcIps='0.0.0.0/0`) originating inside AS2 can reach `host1`. \n",
        "We specify the destination IPs using the `ofLocation` function (see [documentation](https://github.com/batfish/batfish/blob/master/questions/Parameters.md#ip-specifier) for more detail)."
      ]
    },
    {
      "metadata": {
        "id": "bo_ROYp1WYkO",
        "colab_type": "code",
        "colab": {
          "base_uri": "https://localhost:8080/",
          "height": 4556
        },
        "outputId": "bac11fef-77c1-4c7b-df14-ace394884dfe"
      },
      "cell_type": "code",
      "source": [
        "path = PathConstraints(startLocation=\"as2.*\")\n",
        "headers = HeaderConstraints(srcIps=\"0.0.0.0/0\", dstIps=\"ofLocation(host1)\")\n",
        "reach = bfq.reachability(pathConstraints=path, headers=headers, actions=\"success\").answer().frame()\n",
        "display_html(reach)"
      ],
      "execution_count": 6,
      "outputs": [
        {
          "output_type": "display_data",
          "data": {
            "text/plain": [
              "<pandas.io.formats.style.Styler at 0x119f10898>"
            ],
            "text/html": [
              "<style  type=\"text/css\" >\n",
              "    #T_521be334_d885_11e8_8e50_fe00b950d601row0_col0 {\n",
              "            text-align:  left;\n",
              "            vertical-align:  top;\n",
              "        }    #T_521be334_d885_11e8_8e50_fe00b950d601row0_col1 {\n",
              "            text-align:  left;\n",
              "            vertical-align:  top;\n",
              "        }    #T_521be334_d885_11e8_8e50_fe00b950d601row0_col2 {\n",
              "            text-align:  left;\n",
              "            vertical-align:  top;\n",
              "        }    #T_521be334_d885_11e8_8e50_fe00b950d601row1_col0 {\n",
              "            text-align:  left;\n",
              "            vertical-align:  top;\n",
              "        }    #T_521be334_d885_11e8_8e50_fe00b950d601row1_col1 {\n",
              "            text-align:  left;\n",
              "            vertical-align:  top;\n",
              "        }    #T_521be334_d885_11e8_8e50_fe00b950d601row1_col2 {\n",
              "            text-align:  left;\n",
              "            vertical-align:  top;\n",
              "        }    #T_521be334_d885_11e8_8e50_fe00b950d601row2_col0 {\n",
              "            text-align:  left;\n",
              "            vertical-align:  top;\n",
              "        }    #T_521be334_d885_11e8_8e50_fe00b950d601row2_col1 {\n",
              "            text-align:  left;\n",
              "            vertical-align:  top;\n",
              "        }    #T_521be334_d885_11e8_8e50_fe00b950d601row2_col2 {\n",
              "            text-align:  left;\n",
              "            vertical-align:  top;\n",
              "        }    #T_521be334_d885_11e8_8e50_fe00b950d601row3_col0 {\n",
              "            text-align:  left;\n",
              "            vertical-align:  top;\n",
              "        }    #T_521be334_d885_11e8_8e50_fe00b950d601row3_col1 {\n",
              "            text-align:  left;\n",
              "            vertical-align:  top;\n",
              "        }    #T_521be334_d885_11e8_8e50_fe00b950d601row3_col2 {\n",
              "            text-align:  left;\n",
              "            vertical-align:  top;\n",
              "        }    #T_521be334_d885_11e8_8e50_fe00b950d601row4_col0 {\n",
              "            text-align:  left;\n",
              "            vertical-align:  top;\n",
              "        }    #T_521be334_d885_11e8_8e50_fe00b950d601row4_col1 {\n",
              "            text-align:  left;\n",
              "            vertical-align:  top;\n",
              "        }    #T_521be334_d885_11e8_8e50_fe00b950d601row4_col2 {\n",
              "            text-align:  left;\n",
              "            vertical-align:  top;\n",
              "        }    #T_521be334_d885_11e8_8e50_fe00b950d601row5_col0 {\n",
              "            text-align:  left;\n",
              "            vertical-align:  top;\n",
              "        }    #T_521be334_d885_11e8_8e50_fe00b950d601row5_col1 {\n",
              "            text-align:  left;\n",
              "            vertical-align:  top;\n",
              "        }    #T_521be334_d885_11e8_8e50_fe00b950d601row5_col2 {\n",
              "            text-align:  left;\n",
              "            vertical-align:  top;\n",
              "        }    #T_521be334_d885_11e8_8e50_fe00b950d601row6_col0 {\n",
              "            text-align:  left;\n",
              "            vertical-align:  top;\n",
              "        }    #T_521be334_d885_11e8_8e50_fe00b950d601row6_col1 {\n",
              "            text-align:  left;\n",
              "            vertical-align:  top;\n",
              "        }    #T_521be334_d885_11e8_8e50_fe00b950d601row6_col2 {\n",
              "            text-align:  left;\n",
              "            vertical-align:  top;\n",
              "        }</style>  \n",
              "<table id=\"T_521be334_d885_11e8_8e50_fe00b950d601\" > \n",
              "<thead>    <tr> \n",
              "        <th class=\"blank level0\" ></th> \n",
              "        <th class=\"col_heading level0 col0\" >Flow</th> \n",
              "        <th class=\"col_heading level0 col1\" >Traces</th> \n",
              "        <th class=\"col_heading level0 col2\" >TraceCount</th> \n",
              "    </tr></thead> \n",
              "<tbody>    <tr> \n",
              "        <th id=\"T_521be334_d885_11e8_8e50_fe00b950d601level0_row0\" class=\"row_heading level0 row0\" >0</th> \n",
              "        <td id=\"T_521be334_d885_11e8_8e50_fe00b950d601row0_col0\" class=\"data row0 col0\" >Src IP: 0.0.0.0<br>Src Port: 0<br>Dst IP: 2.128.0.101<br>Dst Port: 22<br>IP Protocol: TCP<br>Start Location: as2border1</td> \n",
              "        <td id=\"T_521be334_d885_11e8_8e50_fe00b950d601row0_col1\" class=\"data row0 col1\" ><span style=\"color:#019612; text-weight:bold;\">ACCEPTED</span><br><strong>1</strong>. node: as2border1<br>&nbsp;&nbsp;ORIGINATED(default)<br>&nbsp;&nbsp;FORWARDED(Routes: ibgp [Network: 2.128.0.0/24, Next Hop IP:2.34.101.4],ibgp [Network: 2.128.0.0/24, Next Hop IP:2.34.201.4])<br>&nbsp;&nbsp;TRANSMITTED(GigabitEthernet1/0)<br><strong>2</strong>. node: as2core1<br>&nbsp;&nbsp;RECEIVED(GigabitEthernet0/0)<br>&nbsp;&nbsp;FORWARDED(Routes: ibgp [Network: 2.128.0.0/24, Next Hop IP:2.34.101.4])<br>&nbsp;&nbsp;TRANSMITTED(GigabitEthernet2/0)<br><strong>3</strong>. node: as2dist1<br>&nbsp;&nbsp;RECEIVED(GigabitEthernet0/0)<br>&nbsp;&nbsp;FORWARDED(Routes: bgp [Network: 2.128.0.0/24, Next Hop IP:2.34.101.4])<br>&nbsp;&nbsp;TRANSMITTED(GigabitEthernet2/0)<br><strong>4</strong>. node: as2dept1<br>&nbsp;&nbsp;RECEIVED(GigabitEthernet0/0)<br>&nbsp;&nbsp;FORWARDED(Routes: connected [Network: 2.128.0.0/24, Next Hop IP:AUTO/NONE(-1l)])<br>&nbsp;&nbsp;TRANSMITTED(GigabitEthernet2/0)<br><strong>5</strong>. node: host1<br>&nbsp;&nbsp;RECEIVED(eth0: filter::INPUT)<br>&nbsp;&nbsp;ACCEPTED(InboundStep)<br><br><span style=\"color:#019612; text-weight:bold;\">ACCEPTED</span><br><strong>1</strong>. node: as2border1<br>&nbsp;&nbsp;ORIGINATED(default)<br>&nbsp;&nbsp;FORWARDED(Routes: ibgp [Network: 2.128.0.0/24, Next Hop IP:2.34.101.4],ibgp [Network: 2.128.0.0/24, Next Hop IP:2.34.201.4])<br>&nbsp;&nbsp;TRANSMITTED(GigabitEthernet1/0)<br><strong>2</strong>. node: as2core1<br>&nbsp;&nbsp;RECEIVED(GigabitEthernet0/0)<br>&nbsp;&nbsp;FORWARDED(Routes: ibgp [Network: 2.128.0.0/24, Next Hop IP:2.34.201.4])<br>&nbsp;&nbsp;TRANSMITTED(GigabitEthernet3/0)<br><strong>3</strong>. node: as2dist2<br>&nbsp;&nbsp;RECEIVED(GigabitEthernet1/0)<br>&nbsp;&nbsp;FORWARDED(Routes: bgp [Network: 2.128.0.0/24, Next Hop IP:2.34.201.4])<br>&nbsp;&nbsp;TRANSMITTED(GigabitEthernet2/0)<br><strong>4</strong>. node: as2dept1<br>&nbsp;&nbsp;RECEIVED(GigabitEthernet1/0)<br>&nbsp;&nbsp;FORWARDED(Routes: connected [Network: 2.128.0.0/24, Next Hop IP:AUTO/NONE(-1l)])<br>&nbsp;&nbsp;TRANSMITTED(GigabitEthernet2/0)<br><strong>5</strong>. node: host1<br>&nbsp;&nbsp;RECEIVED(eth0: filter::INPUT)<br>&nbsp;&nbsp;ACCEPTED(InboundStep)<br><br><span style=\"color:#019612; text-weight:bold;\">ACCEPTED</span><br><strong>1</strong>. node: as2border1<br>&nbsp;&nbsp;ORIGINATED(default)<br>&nbsp;&nbsp;FORWARDED(Routes: ibgp [Network: 2.128.0.0/24, Next Hop IP:2.34.101.4],ibgp [Network: 2.128.0.0/24, Next Hop IP:2.34.201.4])<br>&nbsp;&nbsp;TRANSMITTED(GigabitEthernet2/0)<br><strong>2</strong>. node: as2core2<br>&nbsp;&nbsp;RECEIVED(GigabitEthernet1/0)<br>&nbsp;&nbsp;FORWARDED(Routes: ibgp [Network: 2.128.0.0/24, Next Hop IP:2.34.201.4])<br>&nbsp;&nbsp;TRANSMITTED(GigabitEthernet2/0)<br><strong>3</strong>. node: as2dist2<br>&nbsp;&nbsp;RECEIVED(GigabitEthernet0/0)<br>&nbsp;&nbsp;FORWARDED(Routes: bgp [Network: 2.128.0.0/24, Next Hop IP:2.34.201.4])<br>&nbsp;&nbsp;TRANSMITTED(GigabitEthernet2/0)<br><strong>4</strong>. node: as2dept1<br>&nbsp;&nbsp;RECEIVED(GigabitEthernet1/0)<br>&nbsp;&nbsp;FORWARDED(Routes: connected [Network: 2.128.0.0/24, Next Hop IP:AUTO/NONE(-1l)])<br>&nbsp;&nbsp;TRANSMITTED(GigabitEthernet2/0)<br><strong>5</strong>. node: host1<br>&nbsp;&nbsp;RECEIVED(eth0: filter::INPUT)<br>&nbsp;&nbsp;ACCEPTED(InboundStep)<br><br><span style=\"color:#019612; text-weight:bold;\">ACCEPTED</span><br><strong>1</strong>. node: as2border1<br>&nbsp;&nbsp;ORIGINATED(default)<br>&nbsp;&nbsp;FORWARDED(Routes: ibgp [Network: 2.128.0.0/24, Next Hop IP:2.34.101.4],ibgp [Network: 2.128.0.0/24, Next Hop IP:2.34.201.4])<br>&nbsp;&nbsp;TRANSMITTED(GigabitEthernet2/0)<br><strong>2</strong>. node: as2core2<br>&nbsp;&nbsp;RECEIVED(GigabitEthernet1/0)<br>&nbsp;&nbsp;FORWARDED(Routes: ibgp [Network: 2.128.0.0/24, Next Hop IP:2.34.101.4])<br>&nbsp;&nbsp;TRANSMITTED(GigabitEthernet3/0)<br><strong>3</strong>. node: as2dist1<br>&nbsp;&nbsp;RECEIVED(GigabitEthernet1/0)<br>&nbsp;&nbsp;FORWARDED(Routes: bgp [Network: 2.128.0.0/24, Next Hop IP:2.34.101.4])<br>&nbsp;&nbsp;TRANSMITTED(GigabitEthernet2/0)<br><strong>4</strong>. node: as2dept1<br>&nbsp;&nbsp;RECEIVED(GigabitEthernet0/0)<br>&nbsp;&nbsp;FORWARDED(Routes: connected [Network: 2.128.0.0/24, Next Hop IP:AUTO/NONE(-1l)])<br>&nbsp;&nbsp;TRANSMITTED(GigabitEthernet2/0)<br><strong>5</strong>. node: host1<br>&nbsp;&nbsp;RECEIVED(eth0: filter::INPUT)<br>&nbsp;&nbsp;ACCEPTED(InboundStep)</td> \n",
              "        <td id=\"T_521be334_d885_11e8_8e50_fe00b950d601row0_col2\" class=\"data row0 col2\" >4</td> \n",
              "    </tr>    <tr> \n",
              "        <th id=\"T_521be334_d885_11e8_8e50_fe00b950d601level0_row1\" class=\"row_heading level0 row1\" >1</th> \n",
              "        <td id=\"T_521be334_d885_11e8_8e50_fe00b950d601row1_col0\" class=\"data row1 col0\" >Src IP: 0.0.0.0<br>Src Port: 0<br>Dst IP: 2.128.0.101<br>Dst Port: 22<br>IP Protocol: TCP<br>Start Location: as2border2</td> \n",
              "        <td id=\"T_521be334_d885_11e8_8e50_fe00b950d601row1_col1\" class=\"data row1 col1\" ><span style=\"color:#019612; text-weight:bold;\">ACCEPTED</span><br><strong>1</strong>. node: as2border2<br>&nbsp;&nbsp;ORIGINATED(default)<br>&nbsp;&nbsp;FORWARDED(Routes: ibgp [Network: 2.128.0.0/24, Next Hop IP:2.34.101.4],ibgp [Network: 2.128.0.0/24, Next Hop IP:2.34.201.4])<br>&nbsp;&nbsp;TRANSMITTED(GigabitEthernet1/0)<br><strong>2</strong>. node: as2core2<br>&nbsp;&nbsp;RECEIVED(GigabitEthernet0/0)<br>&nbsp;&nbsp;FORWARDED(Routes: ibgp [Network: 2.128.0.0/24, Next Hop IP:2.34.201.4])<br>&nbsp;&nbsp;TRANSMITTED(GigabitEthernet2/0)<br><strong>3</strong>. node: as2dist2<br>&nbsp;&nbsp;RECEIVED(GigabitEthernet0/0)<br>&nbsp;&nbsp;FORWARDED(Routes: bgp [Network: 2.128.0.0/24, Next Hop IP:2.34.201.4])<br>&nbsp;&nbsp;TRANSMITTED(GigabitEthernet2/0)<br><strong>4</strong>. node: as2dept1<br>&nbsp;&nbsp;RECEIVED(GigabitEthernet1/0)<br>&nbsp;&nbsp;FORWARDED(Routes: connected [Network: 2.128.0.0/24, Next Hop IP:AUTO/NONE(-1l)])<br>&nbsp;&nbsp;TRANSMITTED(GigabitEthernet2/0)<br><strong>5</strong>. node: host1<br>&nbsp;&nbsp;RECEIVED(eth0: filter::INPUT)<br>&nbsp;&nbsp;ACCEPTED(InboundStep)<br><br><span style=\"color:#019612; text-weight:bold;\">ACCEPTED</span><br><strong>1</strong>. node: as2border2<br>&nbsp;&nbsp;ORIGINATED(default)<br>&nbsp;&nbsp;FORWARDED(Routes: ibgp [Network: 2.128.0.0/24, Next Hop IP:2.34.101.4],ibgp [Network: 2.128.0.0/24, Next Hop IP:2.34.201.4])<br>&nbsp;&nbsp;TRANSMITTED(GigabitEthernet1/0)<br><strong>2</strong>. node: as2core2<br>&nbsp;&nbsp;RECEIVED(GigabitEthernet0/0)<br>&nbsp;&nbsp;FORWARDED(Routes: ibgp [Network: 2.128.0.0/24, Next Hop IP:2.34.101.4])<br>&nbsp;&nbsp;TRANSMITTED(GigabitEthernet3/0)<br><strong>3</strong>. node: as2dist1<br>&nbsp;&nbsp;RECEIVED(GigabitEthernet1/0)<br>&nbsp;&nbsp;FORWARDED(Routes: bgp [Network: 2.128.0.0/24, Next Hop IP:2.34.101.4])<br>&nbsp;&nbsp;TRANSMITTED(GigabitEthernet2/0)<br><strong>4</strong>. node: as2dept1<br>&nbsp;&nbsp;RECEIVED(GigabitEthernet0/0)<br>&nbsp;&nbsp;FORWARDED(Routes: connected [Network: 2.128.0.0/24, Next Hop IP:AUTO/NONE(-1l)])<br>&nbsp;&nbsp;TRANSMITTED(GigabitEthernet2/0)<br><strong>5</strong>. node: host1<br>&nbsp;&nbsp;RECEIVED(eth0: filter::INPUT)<br>&nbsp;&nbsp;ACCEPTED(InboundStep)<br><br><span style=\"color:#019612; text-weight:bold;\">ACCEPTED</span><br><strong>1</strong>. node: as2border2<br>&nbsp;&nbsp;ORIGINATED(default)<br>&nbsp;&nbsp;FORWARDED(Routes: ibgp [Network: 2.128.0.0/24, Next Hop IP:2.34.101.4],ibgp [Network: 2.128.0.0/24, Next Hop IP:2.34.201.4])<br>&nbsp;&nbsp;TRANSMITTED(GigabitEthernet2/0)<br><strong>2</strong>. node: as2core1<br>&nbsp;&nbsp;RECEIVED(GigabitEthernet1/0)<br>&nbsp;&nbsp;FORWARDED(Routes: ibgp [Network: 2.128.0.0/24, Next Hop IP:2.34.101.4])<br>&nbsp;&nbsp;TRANSMITTED(GigabitEthernet2/0)<br><strong>3</strong>. node: as2dist1<br>&nbsp;&nbsp;RECEIVED(GigabitEthernet0/0)<br>&nbsp;&nbsp;FORWARDED(Routes: bgp [Network: 2.128.0.0/24, Next Hop IP:2.34.101.4])<br>&nbsp;&nbsp;TRANSMITTED(GigabitEthernet2/0)<br><strong>4</strong>. node: as2dept1<br>&nbsp;&nbsp;RECEIVED(GigabitEthernet0/0)<br>&nbsp;&nbsp;FORWARDED(Routes: connected [Network: 2.128.0.0/24, Next Hop IP:AUTO/NONE(-1l)])<br>&nbsp;&nbsp;TRANSMITTED(GigabitEthernet2/0)<br><strong>5</strong>. node: host1<br>&nbsp;&nbsp;RECEIVED(eth0: filter::INPUT)<br>&nbsp;&nbsp;ACCEPTED(InboundStep)<br><br><span style=\"color:#019612; text-weight:bold;\">ACCEPTED</span><br><strong>1</strong>. node: as2border2<br>&nbsp;&nbsp;ORIGINATED(default)<br>&nbsp;&nbsp;FORWARDED(Routes: ibgp [Network: 2.128.0.0/24, Next Hop IP:2.34.101.4],ibgp [Network: 2.128.0.0/24, Next Hop IP:2.34.201.4])<br>&nbsp;&nbsp;TRANSMITTED(GigabitEthernet2/0)<br><strong>2</strong>. node: as2core1<br>&nbsp;&nbsp;RECEIVED(GigabitEthernet1/0)<br>&nbsp;&nbsp;FORWARDED(Routes: ibgp [Network: 2.128.0.0/24, Next Hop IP:2.34.201.4])<br>&nbsp;&nbsp;TRANSMITTED(GigabitEthernet3/0)<br><strong>3</strong>. node: as2dist2<br>&nbsp;&nbsp;RECEIVED(GigabitEthernet1/0)<br>&nbsp;&nbsp;FORWARDED(Routes: bgp [Network: 2.128.0.0/24, Next Hop IP:2.34.201.4])<br>&nbsp;&nbsp;TRANSMITTED(GigabitEthernet2/0)<br><strong>4</strong>. node: as2dept1<br>&nbsp;&nbsp;RECEIVED(GigabitEthernet1/0)<br>&nbsp;&nbsp;FORWARDED(Routes: connected [Network: 2.128.0.0/24, Next Hop IP:AUTO/NONE(-1l)])<br>&nbsp;&nbsp;TRANSMITTED(GigabitEthernet2/0)<br><strong>5</strong>. node: host1<br>&nbsp;&nbsp;RECEIVED(eth0: filter::INPUT)<br>&nbsp;&nbsp;ACCEPTED(InboundStep)</td> \n",
              "        <td id=\"T_521be334_d885_11e8_8e50_fe00b950d601row1_col2\" class=\"data row1 col2\" >4</td> \n",
              "    </tr>    <tr> \n",
              "        <th id=\"T_521be334_d885_11e8_8e50_fe00b950d601level0_row2\" class=\"row_heading level0 row2\" >2</th> \n",
              "        <td id=\"T_521be334_d885_11e8_8e50_fe00b950d601row2_col0\" class=\"data row2 col0\" >Src IP: 0.0.0.0<br>Src Port: 0<br>Dst IP: 2.128.0.101<br>Dst Port: 22<br>IP Protocol: TCP<br>Start Location: as2core1</td> \n",
              "        <td id=\"T_521be334_d885_11e8_8e50_fe00b950d601row2_col1\" class=\"data row2 col1\" ><span style=\"color:#019612; text-weight:bold;\">ACCEPTED</span><br><strong>1</strong>. node: as2core1<br>&nbsp;&nbsp;ORIGINATED(default)<br>&nbsp;&nbsp;FORWARDED(Routes: ibgp [Network: 2.128.0.0/24, Next Hop IP:2.34.101.4])<br>&nbsp;&nbsp;TRANSMITTED(GigabitEthernet2/0)<br><strong>2</strong>. node: as2dist1<br>&nbsp;&nbsp;RECEIVED(GigabitEthernet0/0)<br>&nbsp;&nbsp;FORWARDED(Routes: bgp [Network: 2.128.0.0/24, Next Hop IP:2.34.101.4])<br>&nbsp;&nbsp;TRANSMITTED(GigabitEthernet2/0)<br><strong>3</strong>. node: as2dept1<br>&nbsp;&nbsp;RECEIVED(GigabitEthernet0/0)<br>&nbsp;&nbsp;FORWARDED(Routes: connected [Network: 2.128.0.0/24, Next Hop IP:AUTO/NONE(-1l)])<br>&nbsp;&nbsp;TRANSMITTED(GigabitEthernet2/0)<br><strong>4</strong>. node: host1<br>&nbsp;&nbsp;RECEIVED(eth0: filter::INPUT)<br>&nbsp;&nbsp;ACCEPTED(InboundStep)<br><br><span style=\"color:#019612; text-weight:bold;\">ACCEPTED</span><br><strong>1</strong>. node: as2core1<br>&nbsp;&nbsp;ORIGINATED(default)<br>&nbsp;&nbsp;FORWARDED(Routes: ibgp [Network: 2.128.0.0/24, Next Hop IP:2.34.201.4])<br>&nbsp;&nbsp;TRANSMITTED(GigabitEthernet3/0)<br><strong>2</strong>. node: as2dist2<br>&nbsp;&nbsp;RECEIVED(GigabitEthernet1/0)<br>&nbsp;&nbsp;FORWARDED(Routes: bgp [Network: 2.128.0.0/24, Next Hop IP:2.34.201.4])<br>&nbsp;&nbsp;TRANSMITTED(GigabitEthernet2/0)<br><strong>3</strong>. node: as2dept1<br>&nbsp;&nbsp;RECEIVED(GigabitEthernet1/0)<br>&nbsp;&nbsp;FORWARDED(Routes: connected [Network: 2.128.0.0/24, Next Hop IP:AUTO/NONE(-1l)])<br>&nbsp;&nbsp;TRANSMITTED(GigabitEthernet2/0)<br><strong>4</strong>. node: host1<br>&nbsp;&nbsp;RECEIVED(eth0: filter::INPUT)<br>&nbsp;&nbsp;ACCEPTED(InboundStep)</td> \n",
              "        <td id=\"T_521be334_d885_11e8_8e50_fe00b950d601row2_col2\" class=\"data row2 col2\" >2</td> \n",
              "    </tr>    <tr> \n",
              "        <th id=\"T_521be334_d885_11e8_8e50_fe00b950d601level0_row3\" class=\"row_heading level0 row3\" >3</th> \n",
              "        <td id=\"T_521be334_d885_11e8_8e50_fe00b950d601row3_col0\" class=\"data row3 col0\" >Src IP: 0.0.0.0<br>Src Port: 0<br>Dst IP: 2.128.0.101<br>Dst Port: 22<br>IP Protocol: TCP<br>Start Location: as2core2</td> \n",
              "        <td id=\"T_521be334_d885_11e8_8e50_fe00b950d601row3_col1\" class=\"data row3 col1\" ><span style=\"color:#019612; text-weight:bold;\">ACCEPTED</span><br><strong>1</strong>. node: as2core2<br>&nbsp;&nbsp;ORIGINATED(default)<br>&nbsp;&nbsp;FORWARDED(Routes: ibgp [Network: 2.128.0.0/24, Next Hop IP:2.34.201.4])<br>&nbsp;&nbsp;TRANSMITTED(GigabitEthernet2/0)<br><strong>2</strong>. node: as2dist2<br>&nbsp;&nbsp;RECEIVED(GigabitEthernet0/0)<br>&nbsp;&nbsp;FORWARDED(Routes: bgp [Network: 2.128.0.0/24, Next Hop IP:2.34.201.4])<br>&nbsp;&nbsp;TRANSMITTED(GigabitEthernet2/0)<br><strong>3</strong>. node: as2dept1<br>&nbsp;&nbsp;RECEIVED(GigabitEthernet1/0)<br>&nbsp;&nbsp;FORWARDED(Routes: connected [Network: 2.128.0.0/24, Next Hop IP:AUTO/NONE(-1l)])<br>&nbsp;&nbsp;TRANSMITTED(GigabitEthernet2/0)<br><strong>4</strong>. node: host1<br>&nbsp;&nbsp;RECEIVED(eth0: filter::INPUT)<br>&nbsp;&nbsp;ACCEPTED(InboundStep)<br><br><span style=\"color:#019612; text-weight:bold;\">ACCEPTED</span><br><strong>1</strong>. node: as2core2<br>&nbsp;&nbsp;ORIGINATED(default)<br>&nbsp;&nbsp;FORWARDED(Routes: ibgp [Network: 2.128.0.0/24, Next Hop IP:2.34.101.4])<br>&nbsp;&nbsp;TRANSMITTED(GigabitEthernet3/0)<br><strong>2</strong>. node: as2dist1<br>&nbsp;&nbsp;RECEIVED(GigabitEthernet1/0)<br>&nbsp;&nbsp;FORWARDED(Routes: bgp [Network: 2.128.0.0/24, Next Hop IP:2.34.101.4])<br>&nbsp;&nbsp;TRANSMITTED(GigabitEthernet2/0)<br><strong>3</strong>. node: as2dept1<br>&nbsp;&nbsp;RECEIVED(GigabitEthernet0/0)<br>&nbsp;&nbsp;FORWARDED(Routes: connected [Network: 2.128.0.0/24, Next Hop IP:AUTO/NONE(-1l)])<br>&nbsp;&nbsp;TRANSMITTED(GigabitEthernet2/0)<br><strong>4</strong>. node: host1<br>&nbsp;&nbsp;RECEIVED(eth0: filter::INPUT)<br>&nbsp;&nbsp;ACCEPTED(InboundStep)</td> \n",
              "        <td id=\"T_521be334_d885_11e8_8e50_fe00b950d601row3_col2\" class=\"data row3 col2\" >2</td> \n",
              "    </tr>    <tr> \n",
              "        <th id=\"T_521be334_d885_11e8_8e50_fe00b950d601level0_row4\" class=\"row_heading level0 row4\" >4</th> \n",
              "        <td id=\"T_521be334_d885_11e8_8e50_fe00b950d601row4_col0\" class=\"data row4 col0\" >Src IP: 0.0.0.0<br>Src Port: 0<br>Dst IP: 2.128.0.101<br>Dst Port: 22<br>IP Protocol: TCP<br>Start Location: as2dept1</td> \n",
              "        <td id=\"T_521be334_d885_11e8_8e50_fe00b950d601row4_col1\" class=\"data row4 col1\" ><span style=\"color:#019612; text-weight:bold;\">ACCEPTED</span><br><strong>1</strong>. node: as2dept1<br>&nbsp;&nbsp;ORIGINATED(default)<br>&nbsp;&nbsp;FORWARDED(Routes: connected [Network: 2.128.0.0/24, Next Hop IP:AUTO/NONE(-1l)])<br>&nbsp;&nbsp;TRANSMITTED(GigabitEthernet2/0)<br><strong>2</strong>. node: host1<br>&nbsp;&nbsp;RECEIVED(eth0: filter::INPUT)<br>&nbsp;&nbsp;ACCEPTED(InboundStep)</td> \n",
              "        <td id=\"T_521be334_d885_11e8_8e50_fe00b950d601row4_col2\" class=\"data row4 col2\" >1</td> \n",
              "    </tr>    <tr> \n",
              "        <th id=\"T_521be334_d885_11e8_8e50_fe00b950d601level0_row5\" class=\"row_heading level0 row5\" >5</th> \n",
              "        <td id=\"T_521be334_d885_11e8_8e50_fe00b950d601row5_col0\" class=\"data row5 col0\" >Src IP: 0.0.0.0<br>Src Port: 0<br>Dst IP: 2.128.0.101<br>Dst Port: 22<br>IP Protocol: TCP<br>Start Location: as2dist1</td> \n",
              "        <td id=\"T_521be334_d885_11e8_8e50_fe00b950d601row5_col1\" class=\"data row5 col1\" ><span style=\"color:#019612; text-weight:bold;\">ACCEPTED</span><br><strong>1</strong>. node: as2dist1<br>&nbsp;&nbsp;ORIGINATED(default)<br>&nbsp;&nbsp;FORWARDED(Routes: bgp [Network: 2.128.0.0/24, Next Hop IP:2.34.101.4])<br>&nbsp;&nbsp;TRANSMITTED(GigabitEthernet2/0)<br><strong>2</strong>. node: as2dept1<br>&nbsp;&nbsp;RECEIVED(GigabitEthernet0/0)<br>&nbsp;&nbsp;FORWARDED(Routes: connected [Network: 2.128.0.0/24, Next Hop IP:AUTO/NONE(-1l)])<br>&nbsp;&nbsp;TRANSMITTED(GigabitEthernet2/0)<br><strong>3</strong>. node: host1<br>&nbsp;&nbsp;RECEIVED(eth0: filter::INPUT)<br>&nbsp;&nbsp;ACCEPTED(InboundStep)</td> \n",
              "        <td id=\"T_521be334_d885_11e8_8e50_fe00b950d601row5_col2\" class=\"data row5 col2\" >1</td> \n",
              "    </tr>    <tr> \n",
              "        <th id=\"T_521be334_d885_11e8_8e50_fe00b950d601level0_row6\" class=\"row_heading level0 row6\" >6</th> \n",
              "        <td id=\"T_521be334_d885_11e8_8e50_fe00b950d601row6_col0\" class=\"data row6 col0\" >Src IP: 0.0.0.0<br>Src Port: 0<br>Dst IP: 2.128.0.101<br>Dst Port: 22<br>IP Protocol: TCP<br>Start Location: as2dist2</td> \n",
              "        <td id=\"T_521be334_d885_11e8_8e50_fe00b950d601row6_col1\" class=\"data row6 col1\" ><span style=\"color:#019612; text-weight:bold;\">ACCEPTED</span><br><strong>1</strong>. node: as2dist2<br>&nbsp;&nbsp;ORIGINATED(default)<br>&nbsp;&nbsp;FORWARDED(Routes: bgp [Network: 2.128.0.0/24, Next Hop IP:2.34.201.4])<br>&nbsp;&nbsp;TRANSMITTED(GigabitEthernet2/0)<br><strong>2</strong>. node: as2dept1<br>&nbsp;&nbsp;RECEIVED(GigabitEthernet1/0)<br>&nbsp;&nbsp;FORWARDED(Routes: connected [Network: 2.128.0.0/24, Next Hop IP:AUTO/NONE(-1l)])<br>&nbsp;&nbsp;TRANSMITTED(GigabitEthernet2/0)<br><strong>3</strong>. node: host1<br>&nbsp;&nbsp;RECEIVED(eth0: filter::INPUT)<br>&nbsp;&nbsp;ACCEPTED(InboundStep)</td> \n",
              "        <td id=\"T_521be334_d885_11e8_8e50_fe00b950d601row6_col2\" class=\"data row6 col2\" >1</td> \n",
              "    </tr></tbody> \n",
              "</table> "
            ]
          },
          "metadata": {
            "tags": []
          }
        }
      ]
    },
    {
      "metadata": {
        "id": "SPp-llYPWYkS",
        "colab_type": "text"
      },
      "cell_type": "markdown",
      "source": [
        "As you can see, this query identified *some* flow entering the network at *each* `as2...` node destined for `host1` that would be delivered.\n",
        "And in all cases, the flows all happened to be SSH traffic. However, this does not guarantee that all SSH traffic from AS2 is delivered, or that no other traffic is delivered.\n",
        "\n",
        "For guarantees like that, we have to search for bugs: flows we expect to have an action but that have the **opposite** action.\n",
        "\n",
        "Let's verify DNS is accessible inside of AS2 and blocked to external devices. For accessibility, to guarantee that all DNS traffic from AS2 to `host1` is *accepted*, we look for the opposite: *any* DNS traffic from AS2 to `host1` that is *dropped*. Here, if Batfish is able to find any flow that is blocked, this would indicate a bug."
      ]
    },
    {
      "metadata": {
        "id": "5MlHXsXsWYkS",
        "colab_type": "code",
        "colab": {
          "base_uri": "https://localhost:8080/",
          "height": 49
        },
        "outputId": "24896161-1be0-4f7f-e7e7-3969ee6f3acd"
      },
      "cell_type": "code",
      "source": [
        "path = PathConstraints(startLocation=\"as2.*\")\n",
        "headers = HeaderConstraints(dstIps=\"ofLocation(host1)\", applications=\"SSH\")\n",
        "reach = bfq.reachability(pathConstraints=path, headers=headers, actions=\"failure\").answer().frame()\n",
        "display_html(reach)"
      ],
      "execution_count": 7,
      "outputs": [
        {
          "output_type": "display_data",
          "data": {
            "text/plain": [
              "Empty DataFrame\n",
              "Columns: [Flow, Traces, TraceCount]\n",
              "Index: []"
            ],
            "text/html": [
              "<div>\n",
              "<style scoped>\n",
              "    .dataframe tbody tr th:only-of-type {\n",
              "        vertical-align: middle;\n",
              "    }\n",
              "\n",
              "    .dataframe tbody tr th {\n",
              "        vertical-align: top;\n",
              "    }\n",
              "\n",
              "    .dataframe thead th {\n",
              "        text-align: right;\n",
              "    }\n",
              "</style>\n",
              "<table border=\"1\" class=\"dataframe\">\n",
              "  <thead>\n",
              "    <tr style=\"text-align: right;\">\n",
              "      <th></th>\n",
              "      <th>Flow</th>\n",
              "      <th>Traces</th>\n",
              "      <th>TraceCount</th>\n",
              "    </tr>\n",
              "  </thead>\n",
              "  <tbody>\n",
              "  </tbody>\n",
              "</table>\n",
              "</div>"
            ]
          },
          "metadata": {
            "tags": []
          }
        }
      ]
    },
    {
      "metadata": {
        "id": "5uJddJLAWYkU",
        "colab_type": "text"
      },
      "cell_type": "markdown",
      "source": [
        "The fact that Batfish returned 0 flows guarantees that `host1` is reachable via DNS from everywhere within AS2. We've assured availability.\n",
        "\n",
        "But let's also verify security: no DNS traffic from *outside* of AS2 can reach `host1`. We'll search for flows starting from the border interfaces (`GigabitEthernet0/0` on AS2 border routers), and relax the source IP address to be any valid IP (`0.0.0.0/0`).\n",
        "\n",
        "<small>_Details_: We use the [`enter` function](https://github.com/batfish/batfish/blob/master/questions/Parameters.md#interface-specifier) to model that traffic is received on the interface rather than starting from a border router. If we did not relax source IP to `0.0.0.0/0`, only source IP addresses within the connected subnet of the border interfaces would be included in the search.</small>"
      ]
    },
    {
      "metadata": {
        "id": "11Xr5oicWYkV",
        "colab_type": "code",
        "colab": {
          "base_uri": "https://localhost:8080/",
          "height": 2870
        },
        "outputId": "c235d09b-4984-43ba-b47e-a5bb8582d477"
      },
      "cell_type": "code",
      "source": [
        "path = PathConstraints(startLocation=\"enter(as2border.*[GigabitEthernet0/0])\")\n",
        "headers = HeaderConstraints(srcIps=\"0.0.0.0/0\", dstIps=\"ofLocation(host1)\", applications=\"DNS\")\n",
        "reach = bfq.reachability(pathConstraints=path, headers=headers, actions=\"success\").answer().frame()\n",
        "display_html(reach)"
      ],
      "execution_count": 8,
      "outputs": [
        {
          "output_type": "display_data",
          "data": {
            "text/plain": [
              "<pandas.io.formats.style.Styler at 0x11a1b7748>"
            ],
            "text/html": [
              "<style  type=\"text/css\" >\n",
              "    #T_5421e1d8_d885_11e8_8e50_fe00b950d601row0_col0 {\n",
              "            text-align:  left;\n",
              "            vertical-align:  top;\n",
              "        }    #T_5421e1d8_d885_11e8_8e50_fe00b950d601row0_col1 {\n",
              "            text-align:  left;\n",
              "            vertical-align:  top;\n",
              "        }    #T_5421e1d8_d885_11e8_8e50_fe00b950d601row0_col2 {\n",
              "            text-align:  left;\n",
              "            vertical-align:  top;\n",
              "        }    #T_5421e1d8_d885_11e8_8e50_fe00b950d601row1_col0 {\n",
              "            text-align:  left;\n",
              "            vertical-align:  top;\n",
              "        }    #T_5421e1d8_d885_11e8_8e50_fe00b950d601row1_col1 {\n",
              "            text-align:  left;\n",
              "            vertical-align:  top;\n",
              "        }    #T_5421e1d8_d885_11e8_8e50_fe00b950d601row1_col2 {\n",
              "            text-align:  left;\n",
              "            vertical-align:  top;\n",
              "        }</style>  \n",
              "<table id=\"T_5421e1d8_d885_11e8_8e50_fe00b950d601\" > \n",
              "<thead>    <tr> \n",
              "        <th class=\"blank level0\" ></th> \n",
              "        <th class=\"col_heading level0 col0\" >Flow</th> \n",
              "        <th class=\"col_heading level0 col1\" >Traces</th> \n",
              "        <th class=\"col_heading level0 col2\" >TraceCount</th> \n",
              "    </tr></thead> \n",
              "<tbody>    <tr> \n",
              "        <th id=\"T_5421e1d8_d885_11e8_8e50_fe00b950d601level0_row0\" class=\"row_heading level0 row0\" >0</th> \n",
              "        <td id=\"T_5421e1d8_d885_11e8_8e50_fe00b950d601row0_col0\" class=\"data row0 col0\" >Src IP: 0.0.0.0<br>Src Port: 0<br>Dst IP: 2.128.0.101<br>Dst Port: 53<br>IP Protocol: UDP<br>Start Location: as2border1 interface=GigabitEthernet0/0</td> \n",
              "        <td id=\"T_5421e1d8_d885_11e8_8e50_fe00b950d601row0_col1\" class=\"data row0 col1\" ><span style=\"color:#019612; text-weight:bold;\">ACCEPTED</span><br><strong>1</strong>. node: as2border1<br>&nbsp;&nbsp;RECEIVED(GigabitEthernet0/0: OUTSIDE_TO_INSIDE)<br>&nbsp;&nbsp;FORWARDED(Routes: ibgp [Network: 2.128.0.0/24, Next Hop IP:2.34.101.4],ibgp [Network: 2.128.0.0/24, Next Hop IP:2.34.201.4])<br>&nbsp;&nbsp;TRANSMITTED(GigabitEthernet1/0)<br><strong>2</strong>. node: as2core1<br>&nbsp;&nbsp;RECEIVED(GigabitEthernet0/0)<br>&nbsp;&nbsp;FORWARDED(Routes: ibgp [Network: 2.128.0.0/24, Next Hop IP:2.34.101.4])<br>&nbsp;&nbsp;TRANSMITTED(GigabitEthernet2/0)<br><strong>3</strong>. node: as2dist1<br>&nbsp;&nbsp;RECEIVED(GigabitEthernet0/0)<br>&nbsp;&nbsp;FORWARDED(Routes: bgp [Network: 2.128.0.0/24, Next Hop IP:2.34.101.4])<br>&nbsp;&nbsp;TRANSMITTED(GigabitEthernet2/0)<br><strong>4</strong>. node: as2dept1<br>&nbsp;&nbsp;RECEIVED(GigabitEthernet0/0)<br>&nbsp;&nbsp;FORWARDED(Routes: connected [Network: 2.128.0.0/24, Next Hop IP:AUTO/NONE(-1l)])<br>&nbsp;&nbsp;TRANSMITTED(GigabitEthernet2/0)<br><strong>5</strong>. node: host1<br>&nbsp;&nbsp;RECEIVED(eth0: filter::INPUT)<br>&nbsp;&nbsp;ACCEPTED(InboundStep)<br><br><span style=\"color:#019612; text-weight:bold;\">ACCEPTED</span><br><strong>1</strong>. node: as2border1<br>&nbsp;&nbsp;RECEIVED(GigabitEthernet0/0: OUTSIDE_TO_INSIDE)<br>&nbsp;&nbsp;FORWARDED(Routes: ibgp [Network: 2.128.0.0/24, Next Hop IP:2.34.101.4],ibgp [Network: 2.128.0.0/24, Next Hop IP:2.34.201.4])<br>&nbsp;&nbsp;TRANSMITTED(GigabitEthernet1/0)<br><strong>2</strong>. node: as2core1<br>&nbsp;&nbsp;RECEIVED(GigabitEthernet0/0)<br>&nbsp;&nbsp;FORWARDED(Routes: ibgp [Network: 2.128.0.0/24, Next Hop IP:2.34.201.4])<br>&nbsp;&nbsp;TRANSMITTED(GigabitEthernet3/0)<br><strong>3</strong>. node: as2dist2<br>&nbsp;&nbsp;RECEIVED(GigabitEthernet1/0)<br>&nbsp;&nbsp;FORWARDED(Routes: bgp [Network: 2.128.0.0/24, Next Hop IP:2.34.201.4])<br>&nbsp;&nbsp;TRANSMITTED(GigabitEthernet2/0)<br><strong>4</strong>. node: as2dept1<br>&nbsp;&nbsp;RECEIVED(GigabitEthernet1/0)<br>&nbsp;&nbsp;FORWARDED(Routes: connected [Network: 2.128.0.0/24, Next Hop IP:AUTO/NONE(-1l)])<br>&nbsp;&nbsp;TRANSMITTED(GigabitEthernet2/0)<br><strong>5</strong>. node: host1<br>&nbsp;&nbsp;RECEIVED(eth0: filter::INPUT)<br>&nbsp;&nbsp;ACCEPTED(InboundStep)<br><br><span style=\"color:#019612; text-weight:bold;\">ACCEPTED</span><br><strong>1</strong>. node: as2border1<br>&nbsp;&nbsp;RECEIVED(GigabitEthernet0/0: OUTSIDE_TO_INSIDE)<br>&nbsp;&nbsp;FORWARDED(Routes: ibgp [Network: 2.128.0.0/24, Next Hop IP:2.34.101.4],ibgp [Network: 2.128.0.0/24, Next Hop IP:2.34.201.4])<br>&nbsp;&nbsp;TRANSMITTED(GigabitEthernet2/0)<br><strong>2</strong>. node: as2core2<br>&nbsp;&nbsp;RECEIVED(GigabitEthernet1/0)<br>&nbsp;&nbsp;FORWARDED(Routes: ibgp [Network: 2.128.0.0/24, Next Hop IP:2.34.201.4])<br>&nbsp;&nbsp;TRANSMITTED(GigabitEthernet2/0)<br><strong>3</strong>. node: as2dist2<br>&nbsp;&nbsp;RECEIVED(GigabitEthernet0/0)<br>&nbsp;&nbsp;FORWARDED(Routes: bgp [Network: 2.128.0.0/24, Next Hop IP:2.34.201.4])<br>&nbsp;&nbsp;TRANSMITTED(GigabitEthernet2/0)<br><strong>4</strong>. node: as2dept1<br>&nbsp;&nbsp;RECEIVED(GigabitEthernet1/0)<br>&nbsp;&nbsp;FORWARDED(Routes: connected [Network: 2.128.0.0/24, Next Hop IP:AUTO/NONE(-1l)])<br>&nbsp;&nbsp;TRANSMITTED(GigabitEthernet2/0)<br><strong>5</strong>. node: host1<br>&nbsp;&nbsp;RECEIVED(eth0: filter::INPUT)<br>&nbsp;&nbsp;ACCEPTED(InboundStep)<br><br><span style=\"color:#019612; text-weight:bold;\">ACCEPTED</span><br><strong>1</strong>. node: as2border1<br>&nbsp;&nbsp;RECEIVED(GigabitEthernet0/0: OUTSIDE_TO_INSIDE)<br>&nbsp;&nbsp;FORWARDED(Routes: ibgp [Network: 2.128.0.0/24, Next Hop IP:2.34.101.4],ibgp [Network: 2.128.0.0/24, Next Hop IP:2.34.201.4])<br>&nbsp;&nbsp;TRANSMITTED(GigabitEthernet2/0)<br><strong>2</strong>. node: as2core2<br>&nbsp;&nbsp;RECEIVED(GigabitEthernet1/0)<br>&nbsp;&nbsp;FORWARDED(Routes: ibgp [Network: 2.128.0.0/24, Next Hop IP:2.34.101.4])<br>&nbsp;&nbsp;TRANSMITTED(GigabitEthernet3/0)<br><strong>3</strong>. node: as2dist1<br>&nbsp;&nbsp;RECEIVED(GigabitEthernet1/0)<br>&nbsp;&nbsp;FORWARDED(Routes: bgp [Network: 2.128.0.0/24, Next Hop IP:2.34.101.4])<br>&nbsp;&nbsp;TRANSMITTED(GigabitEthernet2/0)<br><strong>4</strong>. node: as2dept1<br>&nbsp;&nbsp;RECEIVED(GigabitEthernet0/0)<br>&nbsp;&nbsp;FORWARDED(Routes: connected [Network: 2.128.0.0/24, Next Hop IP:AUTO/NONE(-1l)])<br>&nbsp;&nbsp;TRANSMITTED(GigabitEthernet2/0)<br><strong>5</strong>. node: host1<br>&nbsp;&nbsp;RECEIVED(eth0: filter::INPUT)<br>&nbsp;&nbsp;ACCEPTED(InboundStep)</td> \n",
              "        <td id=\"T_5421e1d8_d885_11e8_8e50_fe00b950d601row0_col2\" class=\"data row0 col2\" >4</td> \n",
              "    </tr>    <tr> \n",
              "        <th id=\"T_5421e1d8_d885_11e8_8e50_fe00b950d601level0_row1\" class=\"row_heading level0 row1\" >1</th> \n",
              "        <td id=\"T_5421e1d8_d885_11e8_8e50_fe00b950d601row1_col0\" class=\"data row1 col0\" >Src IP: 0.0.0.0<br>Src Port: 0<br>Dst IP: 2.128.0.101<br>Dst Port: 53<br>IP Protocol: UDP<br>Start Location: as2border2 interface=GigabitEthernet0/0</td> \n",
              "        <td id=\"T_5421e1d8_d885_11e8_8e50_fe00b950d601row1_col1\" class=\"data row1 col1\" ><span style=\"color:#019612; text-weight:bold;\">ACCEPTED</span><br><strong>1</strong>. node: as2border2<br>&nbsp;&nbsp;RECEIVED(GigabitEthernet0/0: OUTSIDE_TO_INSIDE)<br>&nbsp;&nbsp;FORWARDED(Routes: ibgp [Network: 2.128.0.0/24, Next Hop IP:2.34.101.4],ibgp [Network: 2.128.0.0/24, Next Hop IP:2.34.201.4])<br>&nbsp;&nbsp;TRANSMITTED(GigabitEthernet1/0)<br><strong>2</strong>. node: as2core2<br>&nbsp;&nbsp;RECEIVED(GigabitEthernet0/0)<br>&nbsp;&nbsp;FORWARDED(Routes: ibgp [Network: 2.128.0.0/24, Next Hop IP:2.34.201.4])<br>&nbsp;&nbsp;TRANSMITTED(GigabitEthernet2/0)<br><strong>3</strong>. node: as2dist2<br>&nbsp;&nbsp;RECEIVED(GigabitEthernet0/0)<br>&nbsp;&nbsp;FORWARDED(Routes: bgp [Network: 2.128.0.0/24, Next Hop IP:2.34.201.4])<br>&nbsp;&nbsp;TRANSMITTED(GigabitEthernet2/0)<br><strong>4</strong>. node: as2dept1<br>&nbsp;&nbsp;RECEIVED(GigabitEthernet1/0)<br>&nbsp;&nbsp;FORWARDED(Routes: connected [Network: 2.128.0.0/24, Next Hop IP:AUTO/NONE(-1l)])<br>&nbsp;&nbsp;TRANSMITTED(GigabitEthernet2/0)<br><strong>5</strong>. node: host1<br>&nbsp;&nbsp;RECEIVED(eth0: filter::INPUT)<br>&nbsp;&nbsp;ACCEPTED(InboundStep)<br><br><span style=\"color:#019612; text-weight:bold;\">ACCEPTED</span><br><strong>1</strong>. node: as2border2<br>&nbsp;&nbsp;RECEIVED(GigabitEthernet0/0: OUTSIDE_TO_INSIDE)<br>&nbsp;&nbsp;FORWARDED(Routes: ibgp [Network: 2.128.0.0/24, Next Hop IP:2.34.101.4],ibgp [Network: 2.128.0.0/24, Next Hop IP:2.34.201.4])<br>&nbsp;&nbsp;TRANSMITTED(GigabitEthernet1/0)<br><strong>2</strong>. node: as2core2<br>&nbsp;&nbsp;RECEIVED(GigabitEthernet0/0)<br>&nbsp;&nbsp;FORWARDED(Routes: ibgp [Network: 2.128.0.0/24, Next Hop IP:2.34.101.4])<br>&nbsp;&nbsp;TRANSMITTED(GigabitEthernet3/0)<br><strong>3</strong>. node: as2dist1<br>&nbsp;&nbsp;RECEIVED(GigabitEthernet1/0)<br>&nbsp;&nbsp;FORWARDED(Routes: bgp [Network: 2.128.0.0/24, Next Hop IP:2.34.101.4])<br>&nbsp;&nbsp;TRANSMITTED(GigabitEthernet2/0)<br><strong>4</strong>. node: as2dept1<br>&nbsp;&nbsp;RECEIVED(GigabitEthernet0/0)<br>&nbsp;&nbsp;FORWARDED(Routes: connected [Network: 2.128.0.0/24, Next Hop IP:AUTO/NONE(-1l)])<br>&nbsp;&nbsp;TRANSMITTED(GigabitEthernet2/0)<br><strong>5</strong>. node: host1<br>&nbsp;&nbsp;RECEIVED(eth0: filter::INPUT)<br>&nbsp;&nbsp;ACCEPTED(InboundStep)<br><br><span style=\"color:#019612; text-weight:bold;\">ACCEPTED</span><br><strong>1</strong>. node: as2border2<br>&nbsp;&nbsp;RECEIVED(GigabitEthernet0/0: OUTSIDE_TO_INSIDE)<br>&nbsp;&nbsp;FORWARDED(Routes: ibgp [Network: 2.128.0.0/24, Next Hop IP:2.34.101.4],ibgp [Network: 2.128.0.0/24, Next Hop IP:2.34.201.4])<br>&nbsp;&nbsp;TRANSMITTED(GigabitEthernet2/0)<br><strong>2</strong>. node: as2core1<br>&nbsp;&nbsp;RECEIVED(GigabitEthernet1/0)<br>&nbsp;&nbsp;FORWARDED(Routes: ibgp [Network: 2.128.0.0/24, Next Hop IP:2.34.101.4])<br>&nbsp;&nbsp;TRANSMITTED(GigabitEthernet2/0)<br><strong>3</strong>. node: as2dist1<br>&nbsp;&nbsp;RECEIVED(GigabitEthernet0/0)<br>&nbsp;&nbsp;FORWARDED(Routes: bgp [Network: 2.128.0.0/24, Next Hop IP:2.34.101.4])<br>&nbsp;&nbsp;TRANSMITTED(GigabitEthernet2/0)<br><strong>4</strong>. node: as2dept1<br>&nbsp;&nbsp;RECEIVED(GigabitEthernet0/0)<br>&nbsp;&nbsp;FORWARDED(Routes: connected [Network: 2.128.0.0/24, Next Hop IP:AUTO/NONE(-1l)])<br>&nbsp;&nbsp;TRANSMITTED(GigabitEthernet2/0)<br><strong>5</strong>. node: host1<br>&nbsp;&nbsp;RECEIVED(eth0: filter::INPUT)<br>&nbsp;&nbsp;ACCEPTED(InboundStep)<br><br><span style=\"color:#019612; text-weight:bold;\">ACCEPTED</span><br><strong>1</strong>. node: as2border2<br>&nbsp;&nbsp;RECEIVED(GigabitEthernet0/0: OUTSIDE_TO_INSIDE)<br>&nbsp;&nbsp;FORWARDED(Routes: ibgp [Network: 2.128.0.0/24, Next Hop IP:2.34.101.4],ibgp [Network: 2.128.0.0/24, Next Hop IP:2.34.201.4])<br>&nbsp;&nbsp;TRANSMITTED(GigabitEthernet2/0)<br><strong>2</strong>. node: as2core1<br>&nbsp;&nbsp;RECEIVED(GigabitEthernet1/0)<br>&nbsp;&nbsp;FORWARDED(Routes: ibgp [Network: 2.128.0.0/24, Next Hop IP:2.34.201.4])<br>&nbsp;&nbsp;TRANSMITTED(GigabitEthernet3/0)<br><strong>3</strong>. node: as2dist2<br>&nbsp;&nbsp;RECEIVED(GigabitEthernet1/0)<br>&nbsp;&nbsp;FORWARDED(Routes: bgp [Network: 2.128.0.0/24, Next Hop IP:2.34.201.4])<br>&nbsp;&nbsp;TRANSMITTED(GigabitEthernet2/0)<br><strong>4</strong>. node: as2dept1<br>&nbsp;&nbsp;RECEIVED(GigabitEthernet1/0)<br>&nbsp;&nbsp;FORWARDED(Routes: connected [Network: 2.128.0.0/24, Next Hop IP:AUTO/NONE(-1l)])<br>&nbsp;&nbsp;TRANSMITTED(GigabitEthernet2/0)<br><strong>5</strong>. node: host1<br>&nbsp;&nbsp;RECEIVED(eth0: filter::INPUT)<br>&nbsp;&nbsp;ACCEPTED(InboundStep)</td> \n",
              "        <td id=\"T_5421e1d8_d885_11e8_8e50_fe00b950d601row1_col2\" class=\"data row1 col2\" >4</td> \n",
              "    </tr></tbody> \n",
              "</table> "
            ]
          },
          "metadata": {
            "tags": []
          }
        }
      ]
    },
    {
      "metadata": {
        "id": "1XjQO3qJWYkY",
        "colab_type": "text"
      },
      "cell_type": "markdown",
      "source": [
        "We found that the DNS server is **not** secure: external DNS traffic can reach `host1`! However, we did find where to look: in all likelihood, the `OUTSIDE_TO_INSIDE` ACL on the border router should be blocking more DNS traffic."
      ]
    },
    {
      "metadata": {
        "id": "QKKLIHtuWYkY",
        "colab_type": "text"
      },
      "cell_type": "markdown",
      "source": [
        "Let's perform a slightly relaxed security check, searching for any flows **accepted** by `host1` that are **not** DNS or SSH:"
      ]
    },
    {
      "metadata": {
        "scrolled": true,
        "id": "v1JyjEWYWYkZ",
        "colab_type": "code",
        "colab": {
          "base_uri": "https://localhost:8080/",
          "height": 49
        },
        "outputId": "22a97a19-7a2b-4cda-ed4d-0461e820af8b"
      },
      "cell_type": "code",
      "source": [
        "path = PathConstraints(startLocation=\"enter(as2border.*[GigabitEthernet0/0])\")\n",
        "headers = HeaderConstraints(srcIps=\"0.0.0.0/0\", dstIps=\"ofLocation(host1)\", ipProtocols=\"TCP,UDP\", dstPorts=\"!22,!53\")\n",
        "reach = bfq.reachability(pathConstraints=path, headers=headers, actions=\"accepted\").answer().frame()\n",
        "display_html(reach)"
      ],
      "execution_count": 9,
      "outputs": [
        {
          "output_type": "display_data",
          "data": {
            "text/plain": [
              "Empty DataFrame\n",
              "Columns: [Flow, Traces, TraceCount]\n",
              "Index: []"
            ],
            "text/html": [
              "<div>\n",
              "<style scoped>\n",
              "    .dataframe tbody tr th:only-of-type {\n",
              "        vertical-align: middle;\n",
              "    }\n",
              "\n",
              "    .dataframe tbody tr th {\n",
              "        vertical-align: top;\n",
              "    }\n",
              "\n",
              "    .dataframe thead th {\n",
              "        text-align: right;\n",
              "    }\n",
              "</style>\n",
              "<table border=\"1\" class=\"dataframe\">\n",
              "  <thead>\n",
              "    <tr style=\"text-align: right;\">\n",
              "      <th></th>\n",
              "      <th>Flow</th>\n",
              "      <th>Traces</th>\n",
              "      <th>TraceCount</th>\n",
              "    </tr>\n",
              "  </thead>\n",
              "  <tbody>\n",
              "  </tbody>\n",
              "</table>\n",
              "</div>"
            ]
          },
          "metadata": {
            "tags": []
          }
        }
      ]
    },
    {
      "metadata": {
        "id": "n3E2nWY1cLTL",
        "colab_type": "text"
      },
      "cell_type": "markdown",
      "source": [
        "Sucess! No unauthorized flows (not SSH or DNS) will reach `host1`"
      ]
    },
    {
      "metadata": {
        "id": "PhlT_3Pms3Al",
        "colab_type": "text"
      },
      "cell_type": "markdown",
      "source": [
        "## Multipath Consistency"
      ]
    },
    {
      "metadata": {
        "id": "p4NKnRS8tB-S",
        "colab_type": "text"
      },
      "cell_type": "markdown",
      "source": [
        "Finally, we will demonstrate an **experimental** feature to detect reachability bugs in any network with *no* user input: the [`multipathconsistency`](https://pybatfish.readthedocs.io/en/latest/questions.html#pybatfish.question.bfq.multipathConsistency) check. This question will report multipath inconsistency: it will find *any* flows with multipath routing where some paths reach the destination and some paths fail."
      ]
    },
    {
      "metadata": {
        "id": "IpqXGVPVcV8n",
        "colab_type": "code",
        "colab": {
          "base_uri": "https://localhost:8080/",
          "height": 877
        },
        "outputId": "b3900b3f-1cae-404f-ecca-a9cc054c8a33"
      },
      "cell_type": "code",
      "source": [
        "multipath = bfq.multipathConsistency().answer().frame()\n",
        "first_result = multipath.head(1)  # this check returns many results, just show 1\n",
        "display_html(first_result)"
      ],
      "execution_count": 26,
      "outputs": [
        {
          "output_type": "display_data",
          "data": {
            "text/plain": [
              "<pandas.io.formats.style.Styler at 0x10b524eb8>"
            ],
            "text/html": [
              "<style  type=\"text/css\" >\n",
              "    #T_c47edef2_d88c_11e8_8e50_fe00b950d601row0_col0 {\n",
              "            text-align:  left;\n",
              "            vertical-align:  top;\n",
              "        }    #T_c47edef2_d88c_11e8_8e50_fe00b950d601row0_col1 {\n",
              "            text-align:  left;\n",
              "            vertical-align:  top;\n",
              "        }    #T_c47edef2_d88c_11e8_8e50_fe00b950d601row0_col2 {\n",
              "            text-align:  left;\n",
              "            vertical-align:  top;\n",
              "        }</style>  \n",
              "<table id=\"T_c47edef2_d88c_11e8_8e50_fe00b950d601\" > \n",
              "<thead>    <tr> \n",
              "        <th class=\"blank level0\" ></th> \n",
              "        <th class=\"col_heading level0 col0\" >Flow</th> \n",
              "        <th class=\"col_heading level0 col1\" >Traces</th> \n",
              "        <th class=\"col_heading level0 col2\" >TraceCount</th> \n",
              "    </tr></thead> \n",
              "<tbody>    <tr> \n",
              "        <th id=\"T_c47edef2_d88c_11e8_8e50_fe00b950d601level0_row0\" class=\"row_heading level0 row0\" >0</th> \n",
              "        <td id=\"T_c47edef2_d88c_11e8_8e50_fe00b950d601row0_col0\" class=\"data row0 col0\" >Src IP: 2.1.2.2<br>Src Port: 0<br>Dst IP: 2.1.2.1<br>Dst Port: 23<br>IP Protocol: TCP<br>Start Location: as2core2</td> \n",
              "        <td id=\"T_c47edef2_d88c_11e8_8e50_fe00b950d601row0_col1\" class=\"data row0 col1\" ><span style=\"color:#019612; text-weight:bold;\">ACCEPTED</span><br><strong>1</strong>. node: as2core2<br>&nbsp;&nbsp;ORIGINATED(default)<br>&nbsp;&nbsp;FORWARDED(Routes: ospf [Network: 2.1.2.1/32, Next Hop IP:2.12.22.1])<br>&nbsp;&nbsp;TRANSMITTED(GigabitEthernet0/0)<br><strong>2</strong>. node: as2border2<br>&nbsp;&nbsp;RECEIVED(GigabitEthernet1/0)<br>&nbsp;&nbsp;FORWARDED(Routes: ospf [Network: 2.1.2.1/32, Next Hop IP:2.12.21.2])<br>&nbsp;&nbsp;TRANSMITTED(GigabitEthernet2/0)<br><strong>3</strong>. node: as2core1<br>&nbsp;&nbsp;RECEIVED(GigabitEthernet1/0)<br>&nbsp;&nbsp;ACCEPTED(InboundStep)<br><br><span style=\"color:#019612; text-weight:bold;\">ACCEPTED</span><br><strong>1</strong>. node: as2core2<br>&nbsp;&nbsp;ORIGINATED(default)<br>&nbsp;&nbsp;FORWARDED(Routes: ospf [Network: 2.1.2.1/32, Next Hop IP:2.12.12.1])<br>&nbsp;&nbsp;TRANSMITTED(GigabitEthernet1/0)<br><strong>2</strong>. node: as2border1<br>&nbsp;&nbsp;RECEIVED(GigabitEthernet2/0)<br>&nbsp;&nbsp;FORWARDED(Routes: ospf [Network: 2.1.2.1/32, Next Hop IP:2.12.11.2])<br>&nbsp;&nbsp;TRANSMITTED(GigabitEthernet1/0)<br><strong>3</strong>. node: as2core1<br>&nbsp;&nbsp;RECEIVED(GigabitEthernet0/0)<br>&nbsp;&nbsp;ACCEPTED(InboundStep)<br><br><span style=\"color:#7c020e; text-weight:bold;\">DENIED_IN</span><br><strong>1</strong>. node: as2core2<br>&nbsp;&nbsp;ORIGINATED(default)<br>&nbsp;&nbsp;FORWARDED(Routes: ospf [Network: 2.1.2.1/32, Next Hop IP:2.23.22.3])<br>&nbsp;&nbsp;TRANSMITTED(GigabitEthernet2/0)<br><strong>2</strong>. node: as2dist2<br>&nbsp;&nbsp;RECEIVED(GigabitEthernet0/0)<br>&nbsp;&nbsp;FORWARDED(Routes: ospf [Network: 2.1.2.1/32, Next Hop IP:2.23.12.2])<br>&nbsp;&nbsp;TRANSMITTED(GigabitEthernet1/0)<br><strong>3</strong>. node: as2core1<br>&nbsp;&nbsp;DENIED(GigabitEthernet3/0: blocktelnet)<br><br><span style=\"color:#7c020e; text-weight:bold;\">DENIED_IN</span><br><strong>1</strong>. node: as2core2<br>&nbsp;&nbsp;ORIGINATED(default)<br>&nbsp;&nbsp;FORWARDED(Routes: ospf [Network: 2.1.2.1/32, Next Hop IP:2.23.21.3])<br>&nbsp;&nbsp;TRANSMITTED(GigabitEthernet3/0)<br><strong>2</strong>. node: as2dist1<br>&nbsp;&nbsp;RECEIVED(GigabitEthernet1/0)<br>&nbsp;&nbsp;FORWARDED(Routes: ospf [Network: 2.1.2.1/32, Next Hop IP:2.23.11.2])<br>&nbsp;&nbsp;TRANSMITTED(GigabitEthernet0/0)<br><strong>3</strong>. node: as2core1<br>&nbsp;&nbsp;DENIED(GigabitEthernet2/0: blocktelnet)</td> \n",
              "        <td id=\"T_c47edef2_d88c_11e8_8e50_fe00b950d601row0_col2\" class=\"data row0 col2\" >4</td> \n",
              "    </tr></tbody> \n",
              "</table> "
            ]
          },
          "metadata": {
            "tags": []
          }
        }
      ]
    },
    {
      "metadata": {
        "id": "h3H9Qjrxt5VH",
        "colab_type": "text"
      },
      "cell_type": "markdown",
      "source": [
        "The above trace shows that traffic from `as2core2` to `as2core1` can take four paths: through either of the two border routers or through either distribution router. However, telnet traffic will be blocked for only two of these four paths: the ones that traverse the distribution layer."
      ]
    },
    {
      "metadata": {
        "id": "mDbD6J5lWYkc",
        "colab_type": "text"
      },
      "cell_type": "markdown",
      "source": [
        "\n",
        "\n",
        "## Wrap-up\n",
        "\n",
        "This concludes the notebook. To recap, in this notebook we covered the foundational tasks for path analysis:\n",
        "\n",
        "1. We performed a traceroute to check connectivity to `host1`\n",
        "2. Analyzed detailed path & hop information for the traceroute\n",
        "3. Explored a space of flows with the reachablity question and found a ACL bug that allows some external clients to reach the DNS server\n",
        "4. Perfomed a security check that ensures that only SSH and DNS traffic can reach `host1`\n",
        "5. Found multipath inconsistency in the network, for which only some paths result in successful communication\n",
        "\n",
        "We hope you found this notebook useful and informative. Future notebooks will dive into more advanced topics ensuring planned configuration changes do not have unintended consequences. Stay tuned!\n",
        "\n",
        "### Want to know more? \n",
        "\n",
        "Reach out to us through [Slack](https://join.slack.com/t/batfish-org/shared_invite/enQtMzA0Nzg2OTAzNzQ1LTUxOTJlY2YyNTVlNGQ3MTJkOTIwZTU2YjY3YzRjZWFiYzE4ODE5ODZiNjA4NGI5NTJhZmU2ZTllOTMwZDhjMzA) or [Github](https://github.com/batfish/batfish) to learn more, or send feedback."
      ]
    },
    {
      "metadata": {
        "id": "fvh213_8fTsn",
        "colab_type": "code",
        "colab": {}
      },
      "cell_type": "code",
      "source": [
        ""
      ],
      "execution_count": 0,
      "outputs": []
    }
  ]
}