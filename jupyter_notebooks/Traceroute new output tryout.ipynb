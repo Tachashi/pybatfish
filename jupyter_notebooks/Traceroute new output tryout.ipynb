{
 "cells": [
  {
   "cell_type": "code",
   "execution_count": 1,
   "metadata": {},
   "outputs": [
    {
     "name": "stderr",
     "output_type": "stream",
     "text": [
      "/Users/harshverma/sprints/notebooks/pybatfish/venv/lib/python3.6/importlib/_bootstrap.py:219: RuntimeWarning: numpy.dtype size changed, may indicate binary incompatibility. Expected 96, got 88\n",
      "  return f(*args, **kwds)\n",
      "/Users/harshverma/sprints/notebooks/pybatfish/pybatfish/client/commands.py:49: UserWarning: Pybatfish public API is being updated, note that API names and parameters will soon change.\n",
      "  \"Pybatfish public API is being updated, note that API names and parameters will soon change.\")\n"
     ]
    }
   ],
   "source": [
    "# Import pybatfish and other needed packages\n",
    "%run startup.py"
   ]
  },
  {
   "cell_type": "code",
   "execution_count": 2,
   "metadata": {},
   "outputs": [
    {
     "data": {
      "text/plain": [
       "'example_snapshot'"
      ]
     },
     "execution_count": 2,
     "metadata": {},
     "output_type": "execute_result"
    }
   ],
   "source": [
    "# Assign a friendly name to your network and snapshot\n",
    "NETWORK_NAME = \"example_network\"\n",
    "SNAPSHOT_NAME = \"example_snapshot\"\n",
    "\n",
    "SNAPSHOT_PATH = \"networks/example\"\n",
    "\n",
    "# Now create the network and initialize the snapshot\n",
    "bf_set_network(NETWORK_NAME)\n",
    "bf_init_snapshot(SNAPSHOT_PATH, name=SNAPSHOT_NAME, overwrite=True)"
   ]
  },
  {
   "cell_type": "code",
   "execution_count": 4,
   "metadata": {},
   "outputs": [
    {
     "data": {
      "text/html": [
       "<style  type=\"text/css\" >\n",
       "    #T_4d4ab738_d26b_11e8_8ec9_8c8590052a8crow0_col0 {\n",
       "            text-align:  left;\n",
       "            vertical-align:  top;\n",
       "        }    #T_4d4ab738_d26b_11e8_8ec9_8c8590052a8crow0_col1 {\n",
       "            text-align:  left;\n",
       "            vertical-align:  top;\n",
       "        }</style>  \n",
       "<table id=\"T_4d4ab738_d26b_11e8_8ec9_8c8590052a8c\" > \n",
       "<thead>    <tr> \n",
       "        <th class=\"blank level0\" ></th> \n",
       "        <th class=\"col_heading level0 col0\" >Flow</th> \n",
       "        <th class=\"col_heading level0 col1\" >Traces</th> \n",
       "    </tr></thead> \n",
       "<tbody>    <tr> \n",
       "        <th id=\"T_4d4ab738_d26b_11e8_8ec9_8c8590052a8clevel0_row0\" class=\"row_heading level0 row0\" >0</th> \n",
       "        <td id=\"T_4d4ab738_d26b_11e8_8ec9_8c8590052a8crow0_col0\" class=\"data row0 col0\" >2.128.0.101:49152 &rarr; 1.0.2.2:33434<br>start=host1</td> \n",
       "        <td id=\"T_4d4ab738_d26b_11e8_8ec9_8c8590052a8crow0_col1\" class=\"data row0 col1\" >ACCEPTED<br><strong>1</strong>. node: host1<br>steps: Routing(FORWARDED) -> ExitOutputInterface(SENT_OUT)<br><strong>2</strong>. node: as2dept1<br>steps: EnterInputInterface(SENT_IN) -> Routing(FORWARDED) -> ExitOutputInterface(SENT_OUT)<br><strong>3</strong>. node: as2dist1<br>steps: EnterInputInterface(SENT_IN) -> Routing(FORWARDED) -> ExitOutputInterface(SENT_OUT)<br><strong>4</strong>. node: as2core1<br>steps: EnterInputInterface(SENT_IN) -> Routing(FORWARDED) -> ExitOutputInterface(SENT_OUT)<br><strong>5</strong>. node: as2border1<br>steps: EnterInputInterface(SENT_IN) -> Routing(FORWARDED) -> ExitOutputInterface(SENT_OUT)<br><strong>6</strong>. node: as1border1<br>steps: EnterInputInterface(SENT_IN) -> Routing(FORWARDED) -> ExitOutputInterface(SENT_OUT)<br><strong>7</strong>. node: as1core1<br>steps: EnterInputInterface(SENT_IN) -> Inbound(RECEIVED)<br><br>ACCEPTED<br><strong>1</strong>. node: host1<br>steps: Routing(FORWARDED) -> ExitOutputInterface(SENT_OUT)<br><strong>2</strong>. node: as2dept1<br>steps: EnterInputInterface(SENT_IN) -> Routing(FORWARDED) -> ExitOutputInterface(SENT_OUT)<br><strong>3</strong>. node: as2dist1<br>steps: EnterInputInterface(SENT_IN) -> Routing(FORWARDED) -> ExitOutputInterface(SENT_OUT)<br><strong>4</strong>. node: as2core2<br>steps: EnterInputInterface(SENT_IN) -> Routing(FORWARDED) -> ExitOutputInterface(SENT_OUT)<br><strong>5</strong>. node: as2border1<br>steps: EnterInputInterface(SENT_IN) -> Routing(FORWARDED) -> ExitOutputInterface(SENT_OUT)<br><strong>6</strong>. node: as1border1<br>steps: EnterInputInterface(SENT_IN) -> Routing(FORWARDED) -> ExitOutputInterface(SENT_OUT)<br><strong>7</strong>. node: as1core1<br>steps: EnterInputInterface(SENT_IN) -> Inbound(RECEIVED)<br><br>ACCEPTED<br><strong>1</strong>. node: host1<br>steps: Routing(FORWARDED) -> ExitOutputInterface(SENT_OUT)<br><strong>2</strong>. node: as2dept1<br>steps: EnterInputInterface(SENT_IN) -> Routing(FORWARDED) -> ExitOutputInterface(SENT_OUT)<br><strong>3</strong>. node: as2dist2<br>steps: EnterInputInterface(SENT_IN) -> Routing(FORWARDED) -> ExitOutputInterface(SENT_OUT)<br><strong>4</strong>. node: as2core2<br>steps: EnterInputInterface(SENT_IN) -> Routing(FORWARDED) -> ExitOutputInterface(SENT_OUT)<br><strong>5</strong>. node: as2border1<br>steps: EnterInputInterface(SENT_IN) -> Routing(FORWARDED) -> ExitOutputInterface(SENT_OUT)<br><strong>6</strong>. node: as1border1<br>steps: EnterInputInterface(SENT_IN) -> Routing(FORWARDED) -> ExitOutputInterface(SENT_OUT)<br><strong>7</strong>. node: as1core1<br>steps: EnterInputInterface(SENT_IN) -> Inbound(RECEIVED)<br><br>ACCEPTED<br><strong>1</strong>. node: host1<br>steps: Routing(FORWARDED) -> ExitOutputInterface(SENT_OUT)<br><strong>2</strong>. node: as2dept1<br>steps: EnterInputInterface(SENT_IN) -> Routing(FORWARDED) -> ExitOutputInterface(SENT_OUT)<br><strong>3</strong>. node: as2dist2<br>steps: EnterInputInterface(SENT_IN) -> Routing(FORWARDED) -> ExitOutputInterface(SENT_OUT)<br><strong>4</strong>. node: as2core1<br>steps: EnterInputInterface(SENT_IN) -> Routing(FORWARDED) -> ExitOutputInterface(SENT_OUT)<br><strong>5</strong>. node: as2border1<br>steps: EnterInputInterface(SENT_IN) -> Routing(FORWARDED) -> ExitOutputInterface(SENT_OUT)<br><strong>6</strong>. node: as1border1<br>steps: EnterInputInterface(SENT_IN) -> Routing(FORWARDED) -> ExitOutputInterface(SENT_OUT)<br><strong>7</strong>. node: as1core1<br>steps: EnterInputInterface(SENT_IN) -> Inbound(RECEIVED)</td> \n",
       "    </tr></tbody> \n",
       "</table> "
      ],
      "text/plain": [
       "<pandas.io.formats.style.Styler at 0x11fda9198>"
      ]
     },
     "metadata": {},
     "output_type": "display_data"
    }
   ],
   "source": [
    "bf_session.additionalArgs = {'debugflags':'traceroute'}\n",
    "# Do a traceroute from host1 to 1.0.2.2\n",
    "tr_frame = bfq.traceroute(startLocation=\"host1\", headers=HeaderConstraints(dstIps=\"1.0.2.2\")).answer().frame()\n",
    "\n",
    "# Display results using customizations to handle large string values\n",
    "display_html(tr_frame)"
   ]
  },
  {
   "cell_type": "code",
   "execution_count": null,
   "metadata": {},
   "outputs": [],
   "source": []
  }
 ],
 "metadata": {
  "kernelspec": {
   "display_name": "Python 3",
   "language": "python",
   "name": "python3"
  },
  "language_info": {
   "codemirror_mode": {
    "name": "ipython",
    "version": 3
   },
   "file_extension": ".py",
   "mimetype": "text/x-python",
   "name": "python",
   "nbconvert_exporter": "python",
   "pygments_lexer": "ipython3",
   "version": "3.6.3"
  }
 },
 "nbformat": 4,
 "nbformat_minor": 2
}
