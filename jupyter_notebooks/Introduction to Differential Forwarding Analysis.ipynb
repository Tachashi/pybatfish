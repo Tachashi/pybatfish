{
 "cells": [
  {
   "cell_type": "markdown",
   "metadata": {},
   "source": [
    "# Introduction to Differential Forwarding Analysis\n",
    "Intro sketch:\n",
    "* Network engineers frequently have to make changes to forwarding behavior: add new routes, opening or closing certain flows, moving flows around, etc.\n",
    "* These changes are hard to get right, and hard to validate.\n",
    "* This notebook will show how batfish can help validate changes to network forwarding.\n",
    "* Differential analyses answer questions about and/or validate changes between two snapshots of the network."
   ]
  },
  {
   "cell_type": "code",
   "execution_count": 3,
   "metadata": {},
   "outputs": [],
   "source": [
    "# Import packages and load questions\n",
    "%run startup.py"
   ]
  },
  {
   "cell_type": "markdown",
   "metadata": {},
   "source": [
    "## Example 1\n",
    "Intro: describe the network and the change we want to make.\n",
    "\n",
    "We want to cost out `as2core1` for maintenance.\n",
    "\n",
    "\n",
    "### Step 1: Test current behavior"
   ]
  },
  {
   "cell_type": "code",
   "execution_count": 41,
   "metadata": {},
   "outputs": [
    {
     "data": {
      "text/plain": [
       "'base'"
      ]
     },
     "execution_count": 41,
     "metadata": {},
     "output_type": "execute_result"
    }
   ],
   "source": [
    "EX1_NETWORK_NAME = \"differential-example1\"\n",
    "EX1_BASE_NAME = \"base\"\n",
    "EX1_BASE_PATH = \"networks/differential-ex1-base\"\n",
    "\n",
    "bf_set_network(EX1_NETWORK_NAME)\n",
    "bf_init_snapshot(EX1_BASE_PATH, name=EX1_BASE_NAME, overwrite=True)"
   ]
  },
  {
   "cell_type": "code",
   "execution_count": 42,
   "metadata": {},
   "outputs": [
    {
     "data": {
      "text/html": [
       "<style  type=\"text/css\" >\n",
       "    #T_pybfstylerow0_col0 {\n",
       "            text-align:  left;\n",
       "            vertical-align:  top;\n",
       "        }    #T_pybfstylerow0_col1 {\n",
       "            text-align:  left;\n",
       "            vertical-align:  top;\n",
       "        }    #T_pybfstylerow0_col2 {\n",
       "            text-align:  left;\n",
       "            vertical-align:  top;\n",
       "        }    #T_pybfstylerow1_col0 {\n",
       "            text-align:  left;\n",
       "            vertical-align:  top;\n",
       "        }    #T_pybfstylerow1_col1 {\n",
       "            text-align:  left;\n",
       "            vertical-align:  top;\n",
       "        }    #T_pybfstylerow1_col2 {\n",
       "            text-align:  left;\n",
       "            vertical-align:  top;\n",
       "        }</style>  \n",
       "<table id=\"T_pybfstyle\" > \n",
       "<thead>    <tr> \n",
       "        <th class=\"blank level0\" ></th> \n",
       "        <th class=\"col_heading level0 col0\" >Flow</th> \n",
       "        <th class=\"col_heading level0 col1\" >Traces</th> \n",
       "        <th class=\"col_heading level0 col2\" >TraceCount</th> \n",
       "    </tr></thead> \n",
       "<tbody>    <tr> \n",
       "        <th id=\"T_pybfstylelevel0_row0\" class=\"row_heading level0 row0\" >0</th> \n",
       "        <td id=\"T_pybfstylerow0_col0\" class=\"data row0 col0\" >Src IP: 10.12.11.0<br>Src Port: 0<br>Dst IP: 2.128.0.1<br>Dst Port: 22<br>IP Protocol: TCP<br>Start Location: as2border1 interface=GigabitEthernet0/0</td> \n",
       "        <td id=\"T_pybfstylerow0_col1\" class=\"data row0 col1\" ><span style=\"color:#019612; text-weight:bold;\">ACCEPTED</span><br><strong>1</strong>. node: as2border1<br>&nbsp;&nbsp;RECEIVED(GigabitEthernet0/0: OUTSIDE_TO_INSIDE)<br>&nbsp;&nbsp;FORWARDED(Routes: ibgp [Network: 2.128.0.0/24, Next Hop IP:2.34.201.4])<br>&nbsp;&nbsp;TRANSMITTED(GigabitEthernet1/0)<br><strong>2</strong>. node: as2core1<br>&nbsp;&nbsp;RECEIVED(GigabitEthernet0/0)<br>&nbsp;&nbsp;FORWARDED(Routes: ibgp [Network: 2.128.0.0/24, Next Hop IP:2.34.201.4])<br>&nbsp;&nbsp;TRANSMITTED(GigabitEthernet3/0)<br><strong>3</strong>. node: as2dist2<br>&nbsp;&nbsp;RECEIVED(GigabitEthernet1/0)<br>&nbsp;&nbsp;FORWARDED(Routes: bgp [Network: 2.128.0.0/24, Next Hop IP:2.34.201.4])<br>&nbsp;&nbsp;TRANSMITTED(GigabitEthernet2/0)<br><strong>4</strong>. node: as2dept1<br>&nbsp;&nbsp;RECEIVED(GigabitEthernet1/0)<br>&nbsp;&nbsp;ACCEPTED(InboundStep)</td> \n",
       "        <td id=\"T_pybfstylerow0_col2\" class=\"data row0 col2\" >1</td> \n",
       "    </tr>    <tr> \n",
       "        <th id=\"T_pybfstylelevel0_row1\" class=\"row_heading level0 row1\" >1</th> \n",
       "        <td id=\"T_pybfstylerow1_col0\" class=\"data row1 col0\" >Src IP: 10.23.21.0<br>Src Port: 0<br>Dst IP: 2.128.0.1<br>Dst Port: 22<br>IP Protocol: TCP<br>Start Location: as2border2 interface=GigabitEthernet0/0</td> \n",
       "        <td id=\"T_pybfstylerow1_col1\" class=\"data row1 col1\" ><span style=\"color:#019612; text-weight:bold;\">ACCEPTED</span><br><strong>1</strong>. node: as2border2<br>&nbsp;&nbsp;RECEIVED(GigabitEthernet0/0: OUTSIDE_TO_INSIDE)<br>&nbsp;&nbsp;FORWARDED(Routes: ibgp [Network: 2.128.0.0/24, Next Hop IP:2.34.201.4])<br>&nbsp;&nbsp;TRANSMITTED(GigabitEthernet2/0)<br><strong>2</strong>. node: as2core1<br>&nbsp;&nbsp;RECEIVED(GigabitEthernet1/0)<br>&nbsp;&nbsp;FORWARDED(Routes: ibgp [Network: 2.128.0.0/24, Next Hop IP:2.34.201.4])<br>&nbsp;&nbsp;TRANSMITTED(GigabitEthernet3/0)<br><strong>3</strong>. node: as2dist2<br>&nbsp;&nbsp;RECEIVED(GigabitEthernet1/0)<br>&nbsp;&nbsp;FORWARDED(Routes: bgp [Network: 2.128.0.0/24, Next Hop IP:2.34.201.4])<br>&nbsp;&nbsp;TRANSMITTED(GigabitEthernet2/0)<br><strong>4</strong>. node: as2dept1<br>&nbsp;&nbsp;RECEIVED(GigabitEthernet1/0)<br>&nbsp;&nbsp;ACCEPTED(InboundStep)</td> \n",
       "        <td id=\"T_pybfstylerow1_col2\" class=\"data row1 col2\" >1</td> \n",
       "    </tr></tbody> \n",
       "</table> "
      ],
      "text/plain": [
       "                                                                             Flow  \\\n",
       "0  start=as2border1 interface=GigabitEthernet0/0 [10.12.11.0:0->2.128.0.1:22 TCP]   \n",
       "1  start=as2border2 interface=GigabitEthernet0/0 [10.23.21.0:0->2.128.0.1:22 TCP]   \n",
       "\n",
       "                                                                                                                                                                                                                                                                                                                                                                                                                                                                                                      Traces  \\\n",
       "0  [((RECEIVED(GigabitEthernet0/0: OUTSIDE_TO_INSIDE), FORWARDED(Routes: ibgp [Network: 2.128.0.0/24, Next Hop IP:2.34.201.4]), TRANSMITTED(GigabitEthernet1/0)), (RECEIVED(GigabitEthernet0/0), FORWARDED(Routes: ibgp [Network: 2.128.0.0/24, Next Hop IP:2.34.201.4]), TRANSMITTED(GigabitEthernet3/0)), (RECEIVED(GigabitEthernet1/0), FORWARDED(Routes: bgp [Network: 2.128.0.0/24, Next Hop IP:2.34.201.4]), TRANSMITTED(GigabitEthernet2/0)), (RECEIVED(GigabitEthernet1/0), ACCEPTED(InboundStep)))]   \n",
       "1  [((RECEIVED(GigabitEthernet0/0: OUTSIDE_TO_INSIDE), FORWARDED(Routes: ibgp [Network: 2.128.0.0/24, Next Hop IP:2.34.201.4]), TRANSMITTED(GigabitEthernet2/0)), (RECEIVED(GigabitEthernet1/0), FORWARDED(Routes: ibgp [Network: 2.128.0.0/24, Next Hop IP:2.34.201.4]), TRANSMITTED(GigabitEthernet3/0)), (RECEIVED(GigabitEthernet1/0), FORWARDED(Routes: bgp [Network: 2.128.0.0/24, Next Hop IP:2.34.201.4]), TRANSMITTED(GigabitEthernet2/0)), (RECEIVED(GigabitEthernet1/0), ACCEPTED(InboundStep)))]   \n",
       "\n",
       "   TraceCount  \n",
       "0  1           \n",
       "1  1           "
      ]
     },
     "metadata": {},
     "output_type": "display_data"
    }
   ],
   "source": [
    "answer = bfq.reachability(\n",
    "    headers=HeaderConstraints(dstIps=\"2.128.0.1\", applications=[\"SSH\"]), \n",
    "    pathConstraints=PathConstraints(startLocation=\"enter(as2border.*[GigabitEthernet0/0])\")\n",
    ").answer(snapshot=EX1_BASE_NAME)\n",
    "display_html(answer.frame())"
   ]
  },
  {
   "cell_type": "markdown",
   "metadata": {},
   "source": [
    "### Step 2: Author the change\n",
    "```\n",
    "$ diff -r networks/differential-ex1-base networks/differential-ex1-change\n",
    "diff -r networks/differential-ex1-base/configs/as2core1.cfg networks/differential-ex1-change/configs/as2core1.cfg\n",
    "71a72\n",
    ">  ip ospf cost 500\n",
    "76a78\n",
    ">  ip ospf cost 500\n",
    "81a84\n",
    ">  ip ospf cost 500\n",
    "111a115\n",
    ">   neighbor as2 shutdown\n",
    "```"
   ]
  },
  {
   "cell_type": "code",
   "execution_count": 43,
   "metadata": {},
   "outputs": [
    {
     "data": {
      "text/plain": [
       "'change'"
      ]
     },
     "execution_count": 43,
     "metadata": {},
     "output_type": "execute_result"
    }
   ],
   "source": [
    "EX1_CHANGE_NAME = \"change\"\n",
    "EX1_CHANGE_PATH = \"networks/differential-ex1-change\"\n",
    "\n",
    "bf_init_snapshot(EX1_CHANGE_PATH, name=EX1_CHANGE_NAME, overwrite=True)"
   ]
  },
  {
   "cell_type": "markdown",
   "metadata": {},
   "source": [
    "TODO: how does the following relate to the spec?"
   ]
  },
  {
   "cell_type": "code",
   "execution_count": 44,
   "metadata": {},
   "outputs": [
    {
     "data": {
      "text/html": [
       "<div>\n",
       "<style scoped>\n",
       "    .dataframe tbody tr th:only-of-type {\n",
       "        vertical-align: middle;\n",
       "    }\n",
       "\n",
       "    .dataframe tbody tr th {\n",
       "        vertical-align: top;\n",
       "    }\n",
       "\n",
       "    .dataframe thead th {\n",
       "        text-align: right;\n",
       "    }\n",
       "</style>\n",
       "<table border=\"1\" class=\"dataframe\">\n",
       "  <thead>\n",
       "    <tr style=\"text-align: right;\">\n",
       "      <th></th>\n",
       "      <th>Flow</th>\n",
       "      <th>Traces</th>\n",
       "      <th>TraceCount</th>\n",
       "    </tr>\n",
       "  </thead>\n",
       "  <tbody>\n",
       "  </tbody>\n",
       "</table>\n",
       "</div>"
      ],
      "text/plain": [
       "Empty DataFrame\n",
       "Columns: [Flow, Traces, TraceCount]\n",
       "Index: []"
      ]
     },
     "metadata": {},
     "output_type": "display_data"
    }
   ],
   "source": [
    "answer = bfq.reachability(\n",
    "    headers=HeaderConstraints(dstIps=\"2.128.0.1\", applications=[\"SSH\"]), \n",
    "    pathConstraints=PathConstraints(startLocation=\"enter(as2border.*[GigabitEthernet0/0])\")\n",
    ").answer(snapshot=EX1_CHANGE_NAME)\n",
    "display_html(answer.frame())"
   ]
  },
  {
   "cell_type": "markdown",
   "metadata": {},
   "source": [
    "Show that nothing can transit `as2core1` now."
   ]
  },
  {
   "cell_type": "code",
   "execution_count": 54,
   "metadata": {},
   "outputs": [
    {
     "data": {
      "text/html": [
       "<style  type=\"text/css\" >\n",
       "    #T_pybfstylerow0_col0 {\n",
       "            text-align:  left;\n",
       "            vertical-align:  top;\n",
       "        }    #T_pybfstylerow0_col1 {\n",
       "            text-align:  left;\n",
       "            vertical-align:  top;\n",
       "        }    #T_pybfstylerow0_col2 {\n",
       "            text-align:  left;\n",
       "            vertical-align:  top;\n",
       "        }    #T_pybfstylerow1_col0 {\n",
       "            text-align:  left;\n",
       "            vertical-align:  top;\n",
       "        }    #T_pybfstylerow1_col1 {\n",
       "            text-align:  left;\n",
       "            vertical-align:  top;\n",
       "        }    #T_pybfstylerow1_col2 {\n",
       "            text-align:  left;\n",
       "            vertical-align:  top;\n",
       "        }    #T_pybfstylerow2_col0 {\n",
       "            text-align:  left;\n",
       "            vertical-align:  top;\n",
       "        }    #T_pybfstylerow2_col1 {\n",
       "            text-align:  left;\n",
       "            vertical-align:  top;\n",
       "        }    #T_pybfstylerow2_col2 {\n",
       "            text-align:  left;\n",
       "            vertical-align:  top;\n",
       "        }    #T_pybfstylerow3_col0 {\n",
       "            text-align:  left;\n",
       "            vertical-align:  top;\n",
       "        }    #T_pybfstylerow3_col1 {\n",
       "            text-align:  left;\n",
       "            vertical-align:  top;\n",
       "        }    #T_pybfstylerow3_col2 {\n",
       "            text-align:  left;\n",
       "            vertical-align:  top;\n",
       "        }</style>  \n",
       "<table id=\"T_pybfstyle\" > \n",
       "<thead>    <tr> \n",
       "        <th class=\"blank level0\" ></th> \n",
       "        <th class=\"col_heading level0 col0\" >Flow</th> \n",
       "        <th class=\"col_heading level0 col1\" >Traces</th> \n",
       "        <th class=\"col_heading level0 col2\" >TraceCount</th> \n",
       "    </tr></thead> \n",
       "<tbody>    <tr> \n",
       "        <th id=\"T_pybfstylelevel0_row0\" class=\"row_heading level0 row0\" >0</th> \n",
       "        <td id=\"T_pybfstylerow0_col0\" class=\"data row0 col0\" >Src IP: 2.1.1.2<br>Src Port: 0<br>Dst IP: 2.1.1.1<br>Dst Port: 0<br>IP Protocol: HOPOPT<br>Start Location: as2border2</td> \n",
       "        <td id=\"T_pybfstylerow0_col1\" class=\"data row0 col1\" ><span style=\"color:#019612; text-weight:bold;\">ACCEPTED</span><br><strong>1</strong>. node: as2border2<br>&nbsp;&nbsp;ORIGINATED(default)<br>&nbsp;&nbsp;FORWARDED(Routes: ospf [Network: 2.1.1.1/32, Next Hop IP:2.12.21.2])<br>&nbsp;&nbsp;TRANSMITTED(GigabitEthernet2/0)<br><strong>2</strong>. node: as2core1<br>&nbsp;&nbsp;RECEIVED(GigabitEthernet1/0)<br>&nbsp;&nbsp;FORWARDED(Routes: ospf [Network: 2.1.1.1/32, Next Hop IP:2.12.11.1])<br>&nbsp;&nbsp;TRANSMITTED(GigabitEthernet0/0)<br><strong>3</strong>. node: as2border1<br>&nbsp;&nbsp;RECEIVED(GigabitEthernet1/0)<br>&nbsp;&nbsp;ACCEPTED(InboundStep)</td> \n",
       "        <td id=\"T_pybfstylerow0_col2\" class=\"data row0 col2\" >1</td> \n",
       "    </tr>    <tr> \n",
       "        <th id=\"T_pybfstylelevel0_row1\" class=\"row_heading level0 row1\" >1</th> \n",
       "        <td id=\"T_pybfstylerow1_col0\" class=\"data row1 col0\" >Src IP: 2.1.2.1<br>Src Port: 0<br>Dst IP: 2.1.1.1<br>Dst Port: 0<br>IP Protocol: HOPOPT<br>Start Location: as2core1</td> \n",
       "        <td id=\"T_pybfstylerow1_col1\" class=\"data row1 col1\" ><span style=\"color:#019612; text-weight:bold;\">ACCEPTED</span><br><strong>1</strong>. node: as2core1<br>&nbsp;&nbsp;ORIGINATED(default)<br>&nbsp;&nbsp;FORWARDED(Routes: ospf [Network: 2.1.1.1/32, Next Hop IP:2.12.11.1])<br>&nbsp;&nbsp;TRANSMITTED(GigabitEthernet0/0)<br><strong>2</strong>. node: as2border1<br>&nbsp;&nbsp;RECEIVED(GigabitEthernet1/0)<br>&nbsp;&nbsp;ACCEPTED(InboundStep)</td> \n",
       "        <td id=\"T_pybfstylerow1_col2\" class=\"data row1 col2\" >1</td> \n",
       "    </tr>    <tr> \n",
       "        <th id=\"T_pybfstylelevel0_row2\" class=\"row_heading level0 row2\" >2</th> \n",
       "        <td id=\"T_pybfstylerow2_col0\" class=\"data row2 col0\" >Src IP: 2.1.3.1<br>Src Port: 0<br>Dst IP: 2.1.1.1<br>Dst Port: 0<br>IP Protocol: HOPOPT<br>Start Location: as2dist1</td> \n",
       "        <td id=\"T_pybfstylerow2_col1\" class=\"data row2 col1\" ><span style=\"color:#019612; text-weight:bold;\">ACCEPTED</span><br><strong>1</strong>. node: as2dist1<br>&nbsp;&nbsp;ORIGINATED(default)<br>&nbsp;&nbsp;FORWARDED(Routes: ospf [Network: 2.1.1.1/32, Next Hop IP:2.23.11.2])<br>&nbsp;&nbsp;TRANSMITTED(GigabitEthernet0/0)<br><strong>2</strong>. node: as2core1<br>&nbsp;&nbsp;RECEIVED(GigabitEthernet2/0: blocktelnet)<br>&nbsp;&nbsp;FORWARDED(Routes: ospf [Network: 2.1.1.1/32, Next Hop IP:2.12.11.1])<br>&nbsp;&nbsp;TRANSMITTED(GigabitEthernet0/0)<br><strong>3</strong>. node: as2border1<br>&nbsp;&nbsp;RECEIVED(GigabitEthernet1/0)<br>&nbsp;&nbsp;ACCEPTED(InboundStep)</td> \n",
       "        <td id=\"T_pybfstylerow2_col2\" class=\"data row2 col2\" >1</td> \n",
       "    </tr>    <tr> \n",
       "        <th id=\"T_pybfstylelevel0_row3\" class=\"row_heading level0 row3\" >3</th> \n",
       "        <td id=\"T_pybfstylerow3_col0\" class=\"data row3 col0\" >Src IP: 2.1.3.2<br>Src Port: 0<br>Dst IP: 2.1.1.1<br>Dst Port: 0<br>IP Protocol: HOPOPT<br>Start Location: as2dist2</td> \n",
       "        <td id=\"T_pybfstylerow3_col1\" class=\"data row3 col1\" ><span style=\"color:#019612; text-weight:bold;\">ACCEPTED</span><br><strong>1</strong>. node: as2dist2<br>&nbsp;&nbsp;ORIGINATED(default)<br>&nbsp;&nbsp;FORWARDED(Routes: ospf [Network: 2.1.1.1/32, Next Hop IP:2.23.12.2])<br>&nbsp;&nbsp;TRANSMITTED(GigabitEthernet1/0)<br><strong>2</strong>. node: as2core1<br>&nbsp;&nbsp;RECEIVED(GigabitEthernet3/0: blocktelnet)<br>&nbsp;&nbsp;FORWARDED(Routes: ospf [Network: 2.1.1.1/32, Next Hop IP:2.12.11.1])<br>&nbsp;&nbsp;TRANSMITTED(GigabitEthernet0/0)<br><strong>3</strong>. node: as2border1<br>&nbsp;&nbsp;RECEIVED(GigabitEthernet1/0)<br>&nbsp;&nbsp;ACCEPTED(InboundStep)</td> \n",
       "        <td id=\"T_pybfstylerow3_col2\" class=\"data row3 col2\" >1</td> \n",
       "    </tr></tbody> \n",
       "</table> "
      ],
      "text/plain": [
       "                                             Flow  \\\n",
       "0  start=as2border2 [2.1.1.2:0->2.1.1.1:0 HOPOPT]   \n",
       "1  start=as2core1 [2.1.2.1:0->2.1.1.1:0 HOPOPT]     \n",
       "2  start=as2dist1 [2.1.3.1:0->2.1.1.1:0 HOPOPT]     \n",
       "3  start=as2dist2 [2.1.3.2:0->2.1.1.1:0 HOPOPT]     \n",
       "\n",
       "                                                                                                                                                                                                                                                                                                                                        Traces  \\\n",
       "0  [((ORIGINATED(default), FORWARDED(Routes: ospf [Network: 2.1.1.1/32, Next Hop IP:2.12.21.2]), TRANSMITTED(GigabitEthernet2/0)), (RECEIVED(GigabitEthernet1/0), FORWARDED(Routes: ospf [Network: 2.1.1.1/32, Next Hop IP:2.12.11.1]), TRANSMITTED(GigabitEthernet0/0)), (RECEIVED(GigabitEthernet1/0), ACCEPTED(InboundStep)))]                \n",
       "1  [((ORIGINATED(default), FORWARDED(Routes: ospf [Network: 2.1.1.1/32, Next Hop IP:2.12.11.1]), TRANSMITTED(GigabitEthernet0/0)), (RECEIVED(GigabitEthernet1/0), ACCEPTED(InboundStep)))]                                                                                                                                                       \n",
       "2  [((ORIGINATED(default), FORWARDED(Routes: ospf [Network: 2.1.1.1/32, Next Hop IP:2.23.11.2]), TRANSMITTED(GigabitEthernet0/0)), (RECEIVED(GigabitEthernet2/0: blocktelnet), FORWARDED(Routes: ospf [Network: 2.1.1.1/32, Next Hop IP:2.12.11.1]), TRANSMITTED(GigabitEthernet0/0)), (RECEIVED(GigabitEthernet1/0), ACCEPTED(InboundStep)))]   \n",
       "3  [((ORIGINATED(default), FORWARDED(Routes: ospf [Network: 2.1.1.1/32, Next Hop IP:2.23.12.2]), TRANSMITTED(GigabitEthernet1/0)), (RECEIVED(GigabitEthernet3/0: blocktelnet), FORWARDED(Routes: ospf [Network: 2.1.1.1/32, Next Hop IP:2.12.11.1]), TRANSMITTED(GigabitEthernet0/0)), (RECEIVED(GigabitEthernet1/0), ACCEPTED(InboundStep)))]   \n",
       "\n",
       "   TraceCount  \n",
       "0  1           \n",
       "1  1           \n",
       "2  1           \n",
       "3  1           "
      ]
     },
     "metadata": {},
     "output_type": "display_data"
    },
    {
     "data": {
      "text/html": [
       "<style  type=\"text/css\" >\n",
       "    #T_pybfstylerow0_col0 {\n",
       "            text-align:  left;\n",
       "            vertical-align:  top;\n",
       "        }    #T_pybfstylerow0_col1 {\n",
       "            text-align:  left;\n",
       "            vertical-align:  top;\n",
       "        }    #T_pybfstylerow0_col2 {\n",
       "            text-align:  left;\n",
       "            vertical-align:  top;\n",
       "        }    #T_pybfstylerow1_col0 {\n",
       "            text-align:  left;\n",
       "            vertical-align:  top;\n",
       "        }    #T_pybfstylerow1_col1 {\n",
       "            text-align:  left;\n",
       "            vertical-align:  top;\n",
       "        }    #T_pybfstylerow1_col2 {\n",
       "            text-align:  left;\n",
       "            vertical-align:  top;\n",
       "        }    #T_pybfstylerow2_col0 {\n",
       "            text-align:  left;\n",
       "            vertical-align:  top;\n",
       "        }    #T_pybfstylerow2_col1 {\n",
       "            text-align:  left;\n",
       "            vertical-align:  top;\n",
       "        }    #T_pybfstylerow2_col2 {\n",
       "            text-align:  left;\n",
       "            vertical-align:  top;\n",
       "        }    #T_pybfstylerow3_col0 {\n",
       "            text-align:  left;\n",
       "            vertical-align:  top;\n",
       "        }    #T_pybfstylerow3_col1 {\n",
       "            text-align:  left;\n",
       "            vertical-align:  top;\n",
       "        }    #T_pybfstylerow3_col2 {\n",
       "            text-align:  left;\n",
       "            vertical-align:  top;\n",
       "        }</style>  \n",
       "<table id=\"T_pybfstyle\" > \n",
       "<thead>    <tr> \n",
       "        <th class=\"blank level0\" ></th> \n",
       "        <th class=\"col_heading level0 col0\" >Flow</th> \n",
       "        <th class=\"col_heading level0 col1\" >Traces</th> \n",
       "        <th class=\"col_heading level0 col2\" >TraceCount</th> \n",
       "    </tr></thead> \n",
       "<tbody>    <tr> \n",
       "        <th id=\"T_pybfstylelevel0_row0\" class=\"row_heading level0 row0\" >0</th> \n",
       "        <td id=\"T_pybfstylerow0_col0\" class=\"data row0 col0\" >Src IP: 2.1.1.2<br>Src Port: 0<br>Dst IP: 10.12.11.0<br>Dst Port: 0<br>IP Protocol: HOPOPT<br>Start Location: as2border2</td> \n",
       "        <td id=\"T_pybfstylerow0_col1\" class=\"data row0 col1\" ><span style=\"color:#7c020e; text-weight:bold;\">DENIED_OUT</span><br><strong>1</strong>. node: as2border2<br>&nbsp;&nbsp;ORIGINATED(default)<br>&nbsp;&nbsp;FORWARDED(Routes: ospfE2 [Network: 10.12.11.0/24, Next Hop IP:2.12.21.2])<br>&nbsp;&nbsp;TRANSMITTED(GigabitEthernet2/0)<br><strong>2</strong>. node: as2core1<br>&nbsp;&nbsp;RECEIVED(GigabitEthernet1/0)<br>&nbsp;&nbsp;FORWARDED(Routes: ospfE2 [Network: 10.12.11.0/24, Next Hop IP:2.12.11.1])<br>&nbsp;&nbsp;TRANSMITTED(GigabitEthernet0/0)<br><strong>3</strong>. node: as2border1<br>&nbsp;&nbsp;RECEIVED(GigabitEthernet1/0)<br>&nbsp;&nbsp;FORWARDED(Routes: connected [Network: 10.12.11.0/24, Next Hop IP:AUTO/NONE(-1l)])<br>&nbsp;&nbsp;DENIED(GigabitEthernet0/0: INSIDE_TO_AS1)</td> \n",
       "        <td id=\"T_pybfstylerow0_col2\" class=\"data row0 col2\" >1</td> \n",
       "    </tr>    <tr> \n",
       "        <th id=\"T_pybfstylelevel0_row1\" class=\"row_heading level0 row1\" >1</th> \n",
       "        <td id=\"T_pybfstylerow1_col0\" class=\"data row1 col0\" >Src IP: 2.1.2.1<br>Src Port: 0<br>Dst IP: 10.12.11.0<br>Dst Port: 0<br>IP Protocol: HOPOPT<br>Start Location: as2core1</td> \n",
       "        <td id=\"T_pybfstylerow1_col1\" class=\"data row1 col1\" ><span style=\"color:#7c020e; text-weight:bold;\">DENIED_OUT</span><br><strong>1</strong>. node: as2core1<br>&nbsp;&nbsp;ORIGINATED(default)<br>&nbsp;&nbsp;FORWARDED(Routes: ospfE2 [Network: 10.12.11.0/24, Next Hop IP:2.12.11.1])<br>&nbsp;&nbsp;TRANSMITTED(GigabitEthernet0/0)<br><strong>2</strong>. node: as2border1<br>&nbsp;&nbsp;RECEIVED(GigabitEthernet1/0)<br>&nbsp;&nbsp;FORWARDED(Routes: connected [Network: 10.12.11.0/24, Next Hop IP:AUTO/NONE(-1l)])<br>&nbsp;&nbsp;DENIED(GigabitEthernet0/0: INSIDE_TO_AS1)</td> \n",
       "        <td id=\"T_pybfstylerow1_col2\" class=\"data row1 col2\" >1</td> \n",
       "    </tr>    <tr> \n",
       "        <th id=\"T_pybfstylelevel0_row2\" class=\"row_heading level0 row2\" >2</th> \n",
       "        <td id=\"T_pybfstylerow2_col0\" class=\"data row2 col0\" >Src IP: 2.1.3.1<br>Src Port: 0<br>Dst IP: 10.12.11.0<br>Dst Port: 0<br>IP Protocol: HOPOPT<br>Start Location: as2dist1</td> \n",
       "        <td id=\"T_pybfstylerow2_col1\" class=\"data row2 col1\" ><span style=\"color:#7c020e; text-weight:bold;\">DENIED_OUT</span><br><strong>1</strong>. node: as2dist1<br>&nbsp;&nbsp;ORIGINATED(default)<br>&nbsp;&nbsp;FORWARDED(Routes: ospfE2 [Network: 10.12.11.0/24, Next Hop IP:2.23.11.2])<br>&nbsp;&nbsp;TRANSMITTED(GigabitEthernet0/0)<br><strong>2</strong>. node: as2core1<br>&nbsp;&nbsp;RECEIVED(GigabitEthernet2/0: blocktelnet)<br>&nbsp;&nbsp;FORWARDED(Routes: ospfE2 [Network: 10.12.11.0/24, Next Hop IP:2.12.11.1])<br>&nbsp;&nbsp;TRANSMITTED(GigabitEthernet0/0)<br><strong>3</strong>. node: as2border1<br>&nbsp;&nbsp;RECEIVED(GigabitEthernet1/0)<br>&nbsp;&nbsp;FORWARDED(Routes: connected [Network: 10.12.11.0/24, Next Hop IP:AUTO/NONE(-1l)])<br>&nbsp;&nbsp;DENIED(GigabitEthernet0/0: INSIDE_TO_AS1)</td> \n",
       "        <td id=\"T_pybfstylerow2_col2\" class=\"data row2 col2\" >1</td> \n",
       "    </tr>    <tr> \n",
       "        <th id=\"T_pybfstylelevel0_row3\" class=\"row_heading level0 row3\" >3</th> \n",
       "        <td id=\"T_pybfstylerow3_col0\" class=\"data row3 col0\" >Src IP: 2.1.3.2<br>Src Port: 0<br>Dst IP: 10.12.11.0<br>Dst Port: 0<br>IP Protocol: HOPOPT<br>Start Location: as2dist2</td> \n",
       "        <td id=\"T_pybfstylerow3_col1\" class=\"data row3 col1\" ><span style=\"color:#7c020e; text-weight:bold;\">DENIED_OUT</span><br><strong>1</strong>. node: as2dist2<br>&nbsp;&nbsp;ORIGINATED(default)<br>&nbsp;&nbsp;FORWARDED(Routes: ospfE2 [Network: 10.12.11.0/24, Next Hop IP:2.23.12.2])<br>&nbsp;&nbsp;TRANSMITTED(GigabitEthernet1/0)<br><strong>2</strong>. node: as2core1<br>&nbsp;&nbsp;RECEIVED(GigabitEthernet3/0: blocktelnet)<br>&nbsp;&nbsp;FORWARDED(Routes: ospfE2 [Network: 10.12.11.0/24, Next Hop IP:2.12.11.1])<br>&nbsp;&nbsp;TRANSMITTED(GigabitEthernet0/0)<br><strong>3</strong>. node: as2border1<br>&nbsp;&nbsp;RECEIVED(GigabitEthernet1/0)<br>&nbsp;&nbsp;FORWARDED(Routes: connected [Network: 10.12.11.0/24, Next Hop IP:AUTO/NONE(-1l)])<br>&nbsp;&nbsp;DENIED(GigabitEthernet0/0: INSIDE_TO_AS1)</td> \n",
       "        <td id=\"T_pybfstylerow3_col2\" class=\"data row3 col2\" >1</td> \n",
       "    </tr></tbody> \n",
       "</table> "
      ],
      "text/plain": [
       "                                                Flow  \\\n",
       "0  start=as2border2 [2.1.1.2:0->10.12.11.0:0 HOPOPT]   \n",
       "1  start=as2core1 [2.1.2.1:0->10.12.11.0:0 HOPOPT]     \n",
       "2  start=as2dist1 [2.1.3.1:0->10.12.11.0:0 HOPOPT]     \n",
       "3  start=as2dist2 [2.1.3.2:0->10.12.11.0:0 HOPOPT]     \n",
       "\n",
       "                                                                                                                                                                                                                                                                                                                                                                                                                                                         Traces  \\\n",
       "0  [((ORIGINATED(default), FORWARDED(Routes: ospfE2 [Network: 10.12.11.0/24, Next Hop IP:2.12.21.2]), TRANSMITTED(GigabitEthernet2/0)), (RECEIVED(GigabitEthernet1/0), FORWARDED(Routes: ospfE2 [Network: 10.12.11.0/24, Next Hop IP:2.12.11.1]), TRANSMITTED(GigabitEthernet0/0)), (RECEIVED(GigabitEthernet1/0), FORWARDED(Routes: connected [Network: 10.12.11.0/24, Next Hop IP:AUTO/NONE(-1l)]), DENIED(GigabitEthernet0/0: INSIDE_TO_AS1)))]                \n",
       "1  [((ORIGINATED(default), FORWARDED(Routes: ospfE2 [Network: 10.12.11.0/24, Next Hop IP:2.12.11.1]), TRANSMITTED(GigabitEthernet0/0)), (RECEIVED(GigabitEthernet1/0), FORWARDED(Routes: connected [Network: 10.12.11.0/24, Next Hop IP:AUTO/NONE(-1l)]), DENIED(GigabitEthernet0/0: INSIDE_TO_AS1)))]                                                                                                                                                            \n",
       "2  [((ORIGINATED(default), FORWARDED(Routes: ospfE2 [Network: 10.12.11.0/24, Next Hop IP:2.23.11.2]), TRANSMITTED(GigabitEthernet0/0)), (RECEIVED(GigabitEthernet2/0: blocktelnet), FORWARDED(Routes: ospfE2 [Network: 10.12.11.0/24, Next Hop IP:2.12.11.1]), TRANSMITTED(GigabitEthernet0/0)), (RECEIVED(GigabitEthernet1/0), FORWARDED(Routes: connected [Network: 10.12.11.0/24, Next Hop IP:AUTO/NONE(-1l)]), DENIED(GigabitEthernet0/0: INSIDE_TO_AS1)))]   \n",
       "3  [((ORIGINATED(default), FORWARDED(Routes: ospfE2 [Network: 10.12.11.0/24, Next Hop IP:2.23.12.2]), TRANSMITTED(GigabitEthernet1/0)), (RECEIVED(GigabitEthernet3/0: blocktelnet), FORWARDED(Routes: ospfE2 [Network: 10.12.11.0/24, Next Hop IP:2.12.11.1]), TRANSMITTED(GigabitEthernet0/0)), (RECEIVED(GigabitEthernet1/0), FORWARDED(Routes: connected [Network: 10.12.11.0/24, Next Hop IP:AUTO/NONE(-1l)]), DENIED(GigabitEthernet0/0: INSIDE_TO_AS1)))]   \n",
       "\n",
       "   TraceCount  \n",
       "0  1           \n",
       "1  1           \n",
       "2  1           \n",
       "3  1           "
      ]
     },
     "metadata": {},
     "output_type": "display_data"
    }
   ],
   "source": [
    "answer = bfq.reachability(\n",
    "    pathConstraints=PathConstraints(transitLocations=\"as2core1\")\n",
    ").answer(snapshot=EX1_CHANGE_NAME)\n",
    "display_html(answer.frame())\n",
    "\n",
    "answer = bfq.reachability(\n",
    "    actions = \"FAILURE\",\n",
    "    pathConstraints=PathConstraints(transitLocations=\"as2core1\")\n",
    ").answer(snapshot=EX1_CHANGE_NAME)\n",
    "display_html(answer.frame())"
   ]
  },
  {
   "cell_type": "markdown",
   "metadata": {},
   "source": [
    "Sanity check all differences:"
   ]
  },
  {
   "cell_type": "code",
   "execution_count": 52,
   "metadata": {},
   "outputs": [
    {
     "data": {
      "text/html": [
       "<style  type=\"text/css\" >\n",
       "    #T_pybfstylerow0_col0 {\n",
       "            text-align:  left;\n",
       "            vertical-align:  top;\n",
       "        }    #T_pybfstylerow0_col1 {\n",
       "            text-align:  left;\n",
       "            vertical-align:  top;\n",
       "        }    #T_pybfstylerow0_col2 {\n",
       "            text-align:  left;\n",
       "            vertical-align:  top;\n",
       "        }    #T_pybfstylerow0_col3 {\n",
       "            text-align:  left;\n",
       "            vertical-align:  top;\n",
       "        }    #T_pybfstylerow0_col4 {\n",
       "            text-align:  left;\n",
       "            vertical-align:  top;\n",
       "        }    #T_pybfstylerow1_col0 {\n",
       "            text-align:  left;\n",
       "            vertical-align:  top;\n",
       "        }    #T_pybfstylerow1_col1 {\n",
       "            text-align:  left;\n",
       "            vertical-align:  top;\n",
       "        }    #T_pybfstylerow1_col2 {\n",
       "            text-align:  left;\n",
       "            vertical-align:  top;\n",
       "        }    #T_pybfstylerow1_col3 {\n",
       "            text-align:  left;\n",
       "            vertical-align:  top;\n",
       "        }    #T_pybfstylerow1_col4 {\n",
       "            text-align:  left;\n",
       "            vertical-align:  top;\n",
       "        }    #T_pybfstylerow2_col0 {\n",
       "            text-align:  left;\n",
       "            vertical-align:  top;\n",
       "        }    #T_pybfstylerow2_col1 {\n",
       "            text-align:  left;\n",
       "            vertical-align:  top;\n",
       "        }    #T_pybfstylerow2_col2 {\n",
       "            text-align:  left;\n",
       "            vertical-align:  top;\n",
       "        }    #T_pybfstylerow2_col3 {\n",
       "            text-align:  left;\n",
       "            vertical-align:  top;\n",
       "        }    #T_pybfstylerow2_col4 {\n",
       "            text-align:  left;\n",
       "            vertical-align:  top;\n",
       "        }    #T_pybfstylerow3_col0 {\n",
       "            text-align:  left;\n",
       "            vertical-align:  top;\n",
       "        }    #T_pybfstylerow3_col1 {\n",
       "            text-align:  left;\n",
       "            vertical-align:  top;\n",
       "        }    #T_pybfstylerow3_col2 {\n",
       "            text-align:  left;\n",
       "            vertical-align:  top;\n",
       "        }    #T_pybfstylerow3_col3 {\n",
       "            text-align:  left;\n",
       "            vertical-align:  top;\n",
       "        }    #T_pybfstylerow3_col4 {\n",
       "            text-align:  left;\n",
       "            vertical-align:  top;\n",
       "        }    #T_pybfstylerow4_col0 {\n",
       "            text-align:  left;\n",
       "            vertical-align:  top;\n",
       "        }    #T_pybfstylerow4_col1 {\n",
       "            text-align:  left;\n",
       "            vertical-align:  top;\n",
       "        }    #T_pybfstylerow4_col2 {\n",
       "            text-align:  left;\n",
       "            vertical-align:  top;\n",
       "        }    #T_pybfstylerow4_col3 {\n",
       "            text-align:  left;\n",
       "            vertical-align:  top;\n",
       "        }    #T_pybfstylerow4_col4 {\n",
       "            text-align:  left;\n",
       "            vertical-align:  top;\n",
       "        }</style>  \n",
       "<table id=\"T_pybfstyle\" > \n",
       "<thead>    <tr> \n",
       "        <th class=\"blank level0\" ></th> \n",
       "        <th class=\"col_heading level0 col0\" >Flow</th> \n",
       "        <th class=\"col_heading level0 col1\" >Base_Traces</th> \n",
       "        <th class=\"col_heading level0 col2\" >Base_TraceCount</th> \n",
       "        <th class=\"col_heading level0 col3\" >Delta_Traces</th> \n",
       "        <th class=\"col_heading level0 col4\" >Delta_TraceCount</th> \n",
       "    </tr></thead> \n",
       "<tbody>    <tr> \n",
       "        <th id=\"T_pybfstylelevel0_row0\" class=\"row_heading level0 row0\" >0</th> \n",
       "        <td id=\"T_pybfstylerow0_col0\" class=\"data row0 col0\" >Src IP: 2.1.1.1<br>Src Port: 0<br>Dst IP: 2.23.11.2<br>Dst Port: 23<br>IP Protocol: TCP<br>Start Location: as2border1</td> \n",
       "        <td id=\"T_pybfstylerow0_col1\" class=\"data row0 col1\" ><span style=\"color:#7c020e; text-weight:bold;\">DENIED_IN</span><br><strong>1</strong>. node: as2border1<br>&nbsp;&nbsp;ORIGINATED(default)<br>&nbsp;&nbsp;FORWARDED(Routes: ospf [Network: 2.23.11.0/24, Next Hop IP:2.12.12.2])<br>&nbsp;&nbsp;TRANSMITTED(GigabitEthernet2/0)<br><strong>2</strong>. node: as2core2<br>&nbsp;&nbsp;RECEIVED(GigabitEthernet1/0)<br>&nbsp;&nbsp;FORWARDED(Routes: ospf [Network: 2.23.11.0/24, Next Hop IP:2.23.21.3])<br>&nbsp;&nbsp;TRANSMITTED(GigabitEthernet3/0)<br><strong>3</strong>. node: as2dist1<br>&nbsp;&nbsp;RECEIVED(GigabitEthernet1/0)<br>&nbsp;&nbsp;FORWARDED(Routes: connected [Network: 2.23.11.0/24, Next Hop IP:AUTO/NONE(-1l)])<br>&nbsp;&nbsp;TRANSMITTED(GigabitEthernet0/0)<br><strong>4</strong>. node: as2core1<br>&nbsp;&nbsp;DENIED(GigabitEthernet2/0: blocktelnet)</td> \n",
       "        <td id=\"T_pybfstylerow0_col2\" class=\"data row0 col2\" >1</td> \n",
       "        <td id=\"T_pybfstylerow0_col3\" class=\"data row0 col3\" ><span style=\"color:#019612; text-weight:bold;\">ACCEPTED</span><br><strong>1</strong>. node: as2border1<br>&nbsp;&nbsp;ORIGINATED(default)<br>&nbsp;&nbsp;FORWARDED(Routes: ospf [Network: 2.23.11.0/24, Next Hop IP:2.12.11.2])<br>&nbsp;&nbsp;TRANSMITTED(GigabitEthernet1/0)<br><strong>2</strong>. node: as2core1<br>&nbsp;&nbsp;RECEIVED(GigabitEthernet0/0)<br>&nbsp;&nbsp;ACCEPTED(InboundStep)</td> \n",
       "        <td id=\"T_pybfstylerow0_col4\" class=\"data row0 col4\" >1</td> \n",
       "    </tr>    <tr> \n",
       "        <th id=\"T_pybfstylelevel0_row1\" class=\"row_heading level0 row1\" >1</th> \n",
       "        <td id=\"T_pybfstylerow1_col0\" class=\"data row1 col0\" >Src IP: 2.1.1.2<br>Src Port: 0<br>Dst IP: 2.23.11.2<br>Dst Port: 23<br>IP Protocol: TCP<br>Start Location: as2border2</td> \n",
       "        <td id=\"T_pybfstylerow1_col1\" class=\"data row1 col1\" ><span style=\"color:#7c020e; text-weight:bold;\">DENIED_IN</span><br><strong>1</strong>. node: as2border2<br>&nbsp;&nbsp;ORIGINATED(default)<br>&nbsp;&nbsp;FORWARDED(Routes: ospf [Network: 2.23.11.0/24, Next Hop IP:2.12.22.2])<br>&nbsp;&nbsp;TRANSMITTED(GigabitEthernet1/0)<br><strong>2</strong>. node: as2core2<br>&nbsp;&nbsp;RECEIVED(GigabitEthernet0/0)<br>&nbsp;&nbsp;FORWARDED(Routes: ospf [Network: 2.23.11.0/24, Next Hop IP:2.23.21.3])<br>&nbsp;&nbsp;TRANSMITTED(GigabitEthernet3/0)<br><strong>3</strong>. node: as2dist1<br>&nbsp;&nbsp;RECEIVED(GigabitEthernet1/0)<br>&nbsp;&nbsp;FORWARDED(Routes: connected [Network: 2.23.11.0/24, Next Hop IP:AUTO/NONE(-1l)])<br>&nbsp;&nbsp;TRANSMITTED(GigabitEthernet0/0)<br><strong>4</strong>. node: as2core1<br>&nbsp;&nbsp;DENIED(GigabitEthernet2/0: blocktelnet)</td> \n",
       "        <td id=\"T_pybfstylerow1_col2\" class=\"data row1 col2\" >1</td> \n",
       "        <td id=\"T_pybfstylerow1_col3\" class=\"data row1 col3\" ><span style=\"color:#019612; text-weight:bold;\">ACCEPTED</span><br><strong>1</strong>. node: as2border2<br>&nbsp;&nbsp;ORIGINATED(default)<br>&nbsp;&nbsp;FORWARDED(Routes: ospf [Network: 2.23.11.0/24, Next Hop IP:2.12.21.2])<br>&nbsp;&nbsp;TRANSMITTED(GigabitEthernet2/0)<br><strong>2</strong>. node: as2core1<br>&nbsp;&nbsp;RECEIVED(GigabitEthernet1/0)<br>&nbsp;&nbsp;ACCEPTED(InboundStep)</td> \n",
       "        <td id=\"T_pybfstylerow1_col4\" class=\"data row1 col4\" >1</td> \n",
       "    </tr>    <tr> \n",
       "        <th id=\"T_pybfstylelevel0_row2\" class=\"row_heading level0 row2\" >2</th> \n",
       "        <td id=\"T_pybfstylerow2_col0\" class=\"data row2 col0\" >Src IP: 2.1.2.1<br>Src Port: 0<br>Dst IP: 2.128.0.0<br>Dst Port: 0<br>IP Protocol: HOPOPT<br>Start Location: as2core1</td> \n",
       "        <td id=\"T_pybfstylerow2_col1\" class=\"data row2 col1\" ><span style=\"color:#7c020e; text-weight:bold;\">NO_ROUTE</span><br><strong>1</strong>. node: as2core1<br>&nbsp;&nbsp;ORIGINATED(default)<br>&nbsp;&nbsp;NO_ROUTE(Routes: )</td> \n",
       "        <td id=\"T_pybfstylerow2_col2\" class=\"data row2 col2\" >1</td> \n",
       "        <td id=\"T_pybfstylerow2_col3\" class=\"data row2 col3\" ><span style=\"color:#019612; text-weight:bold;\">EXITS_NETWORK</span><br><strong>1</strong>. node: as2core1<br>&nbsp;&nbsp;ORIGINATED(default)<br>&nbsp;&nbsp;FORWARDED(Routes: ibgp [Network: 2.128.0.0/24, Next Hop IP:2.34.201.4])<br>&nbsp;&nbsp;TRANSMITTED(GigabitEthernet3/0)<br><strong>2</strong>. node: as2dist2<br>&nbsp;&nbsp;RECEIVED(GigabitEthernet1/0)<br>&nbsp;&nbsp;FORWARDED(Routes: bgp [Network: 2.128.0.0/24, Next Hop IP:2.34.201.4])<br>&nbsp;&nbsp;TRANSMITTED(GigabitEthernet2/0)<br><strong>3</strong>. node: as2dept1<br>&nbsp;&nbsp;RECEIVED(GigabitEthernet1/0)<br>&nbsp;&nbsp;FORWARDED(Routes: connected [Network: 2.128.0.0/24, Next Hop IP:AUTO/NONE(-1l)])<br>&nbsp;&nbsp;EXITS_NETWORK(GigabitEthernet2/0)</td> \n",
       "        <td id=\"T_pybfstylerow2_col4\" class=\"data row2 col4\" >1</td> \n",
       "    </tr>    <tr> \n",
       "        <th id=\"T_pybfstylelevel0_row3\" class=\"row_heading level0 row3\" >3</th> \n",
       "        <td id=\"T_pybfstylerow3_col0\" class=\"data row3 col0\" >Src IP: 2.1.3.1<br>Src Port: 0<br>Dst IP: 2.1.1.2<br>Dst Port: 23<br>IP Protocol: TCP<br>Start Location: as2dist1</td> \n",
       "        <td id=\"T_pybfstylerow3_col1\" class=\"data row3 col1\" ><span style=\"color:#019612; text-weight:bold;\">ACCEPTED</span><br><strong>1</strong>. node: as2dist1<br>&nbsp;&nbsp;ORIGINATED(default)<br>&nbsp;&nbsp;FORWARDED(Routes: ospf [Network: 2.1.1.2/32, Next Hop IP:2.23.21.2])<br>&nbsp;&nbsp;TRANSMITTED(GigabitEthernet1/0)<br><strong>2</strong>. node: as2core2<br>&nbsp;&nbsp;RECEIVED(GigabitEthernet3/0)<br>&nbsp;&nbsp;FORWARDED(Routes: ospf [Network: 2.1.1.2/32, Next Hop IP:2.12.22.1])<br>&nbsp;&nbsp;TRANSMITTED(GigabitEthernet0/0)<br><strong>3</strong>. node: as2border2<br>&nbsp;&nbsp;RECEIVED(GigabitEthernet1/0)<br>&nbsp;&nbsp;ACCEPTED(InboundStep)</td> \n",
       "        <td id=\"T_pybfstylerow3_col2\" class=\"data row3 col2\" >1</td> \n",
       "        <td id=\"T_pybfstylerow3_col3\" class=\"data row3 col3\" ><span style=\"color:#7c020e; text-weight:bold;\">DENIED_IN</span><br><strong>1</strong>. node: as2dist1<br>&nbsp;&nbsp;ORIGINATED(default)<br>&nbsp;&nbsp;FORWARDED(Routes: ospf [Network: 2.1.1.2/32, Next Hop IP:2.23.11.2])<br>&nbsp;&nbsp;TRANSMITTED(GigabitEthernet0/0)<br><strong>2</strong>. node: as2core1<br>&nbsp;&nbsp;DENIED(GigabitEthernet2/0: blocktelnet)</td> \n",
       "        <td id=\"T_pybfstylerow3_col4\" class=\"data row3 col4\" >1</td> \n",
       "    </tr>    <tr> \n",
       "        <th id=\"T_pybfstylelevel0_row4\" class=\"row_heading level0 row4\" >4</th> \n",
       "        <td id=\"T_pybfstylerow4_col0\" class=\"data row4 col0\" >Src IP: 2.1.3.2<br>Src Port: 0<br>Dst IP: 2.1.1.2<br>Dst Port: 23<br>IP Protocol: TCP<br>Start Location: as2dist2</td> \n",
       "        <td id=\"T_pybfstylerow4_col1\" class=\"data row4 col1\" ><span style=\"color:#019612; text-weight:bold;\">ACCEPTED</span><br><strong>1</strong>. node: as2dist2<br>&nbsp;&nbsp;ORIGINATED(default)<br>&nbsp;&nbsp;FORWARDED(Routes: ospf [Network: 2.1.1.2/32, Next Hop IP:2.23.22.2])<br>&nbsp;&nbsp;TRANSMITTED(GigabitEthernet0/0)<br><strong>2</strong>. node: as2core2<br>&nbsp;&nbsp;RECEIVED(GigabitEthernet2/0)<br>&nbsp;&nbsp;FORWARDED(Routes: ospf [Network: 2.1.1.2/32, Next Hop IP:2.12.22.1])<br>&nbsp;&nbsp;TRANSMITTED(GigabitEthernet0/0)<br><strong>3</strong>. node: as2border2<br>&nbsp;&nbsp;RECEIVED(GigabitEthernet1/0)<br>&nbsp;&nbsp;ACCEPTED(InboundStep)</td> \n",
       "        <td id=\"T_pybfstylerow4_col2\" class=\"data row4 col2\" >1</td> \n",
       "        <td id=\"T_pybfstylerow4_col3\" class=\"data row4 col3\" ><span style=\"color:#7c020e; text-weight:bold;\">DENIED_IN</span><br><strong>1</strong>. node: as2dist2<br>&nbsp;&nbsp;ORIGINATED(default)<br>&nbsp;&nbsp;FORWARDED(Routes: ospf [Network: 2.1.1.2/32, Next Hop IP:2.23.12.2])<br>&nbsp;&nbsp;TRANSMITTED(GigabitEthernet1/0)<br><strong>2</strong>. node: as2core1<br>&nbsp;&nbsp;DENIED(GigabitEthernet3/0: blocktelnet)</td> \n",
       "        <td id=\"T_pybfstylerow4_col4\" class=\"data row4 col4\" >1</td> \n",
       "    </tr></tbody> \n",
       "</table> "
      ],
      "text/plain": [
       "                                             Flow  \\\n",
       "0  start=as2border1 [2.1.1.1:0->2.23.11.2:23 TCP]   \n",
       "1  start=as2border2 [2.1.1.2:0->2.23.11.2:23 TCP]   \n",
       "2  start=as2core1 [2.1.2.1:0->2.128.0.0:0 HOPOPT]   \n",
       "3  start=as2dist1 [2.1.3.1:0->2.1.1.2:23 TCP]       \n",
       "4  start=as2dist2 [2.1.3.2:0->2.1.1.2:23 TCP]       \n",
       "\n",
       "                                                                                                                                                                                                                                                                                                                                                                                                                                                                 Base_Traces  \\\n",
       "0  [((ORIGINATED(default), FORWARDED(Routes: ospf [Network: 2.23.11.0/24, Next Hop IP:2.12.12.2]), TRANSMITTED(GigabitEthernet2/0)), (RECEIVED(GigabitEthernet1/0), FORWARDED(Routes: ospf [Network: 2.23.11.0/24, Next Hop IP:2.23.21.3]), TRANSMITTED(GigabitEthernet3/0)), (RECEIVED(GigabitEthernet1/0), FORWARDED(Routes: connected [Network: 2.23.11.0/24, Next Hop IP:AUTO/NONE(-1l)]), TRANSMITTED(GigabitEthernet0/0)), (DENIED(GigabitEthernet2/0: blocktelnet)))]   \n",
       "1  [((ORIGINATED(default), FORWARDED(Routes: ospf [Network: 2.23.11.0/24, Next Hop IP:2.12.22.2]), TRANSMITTED(GigabitEthernet1/0)), (RECEIVED(GigabitEthernet0/0), FORWARDED(Routes: ospf [Network: 2.23.11.0/24, Next Hop IP:2.23.21.3]), TRANSMITTED(GigabitEthernet3/0)), (RECEIVED(GigabitEthernet1/0), FORWARDED(Routes: connected [Network: 2.23.11.0/24, Next Hop IP:AUTO/NONE(-1l)]), TRANSMITTED(GigabitEthernet0/0)), (DENIED(GigabitEthernet2/0: blocktelnet)))]   \n",
       "2  [((ORIGINATED(default), NO_ROUTE(Routes: )))]                                                                                                                                                                                                                                                                                                                                                                                                                               \n",
       "3  [((ORIGINATED(default), FORWARDED(Routes: ospf [Network: 2.1.1.2/32, Next Hop IP:2.23.21.2]), TRANSMITTED(GigabitEthernet1/0)), (RECEIVED(GigabitEthernet3/0), FORWARDED(Routes: ospf [Network: 2.1.1.2/32, Next Hop IP:2.12.22.1]), TRANSMITTED(GigabitEthernet0/0)), (RECEIVED(GigabitEthernet1/0), ACCEPTED(InboundStep)))]                                                                                                                                              \n",
       "4  [((ORIGINATED(default), FORWARDED(Routes: ospf [Network: 2.1.1.2/32, Next Hop IP:2.23.22.2]), TRANSMITTED(GigabitEthernet0/0)), (RECEIVED(GigabitEthernet2/0), FORWARDED(Routes: ospf [Network: 2.1.1.2/32, Next Hop IP:2.12.22.1]), TRANSMITTED(GigabitEthernet0/0)), (RECEIVED(GigabitEthernet1/0), ACCEPTED(InboundStep)))]                                                                                                                                              \n",
       "\n",
       "   Base_TraceCount  \\\n",
       "0  1                 \n",
       "1  1                 \n",
       "2  1                 \n",
       "3  1                 \n",
       "4  1                 \n",
       "\n",
       "                                                                                                                                                                                                                                                                                                                                                                                                                        Delta_Traces  \\\n",
       "0  [((ORIGINATED(default), FORWARDED(Routes: ospf [Network: 2.23.11.0/24, Next Hop IP:2.12.11.2]), TRANSMITTED(GigabitEthernet1/0)), (RECEIVED(GigabitEthernet0/0), ACCEPTED(InboundStep)))]                                                                                                                                                                                                                                           \n",
       "1  [((ORIGINATED(default), FORWARDED(Routes: ospf [Network: 2.23.11.0/24, Next Hop IP:2.12.21.2]), TRANSMITTED(GigabitEthernet2/0)), (RECEIVED(GigabitEthernet1/0), ACCEPTED(InboundStep)))]                                                                                                                                                                                                                                           \n",
       "2  [((ORIGINATED(default), FORWARDED(Routes: ibgp [Network: 2.128.0.0/24, Next Hop IP:2.34.201.4]), TRANSMITTED(GigabitEthernet3/0)), (RECEIVED(GigabitEthernet1/0), FORWARDED(Routes: bgp [Network: 2.128.0.0/24, Next Hop IP:2.34.201.4]), TRANSMITTED(GigabitEthernet2/0)), (RECEIVED(GigabitEthernet1/0), FORWARDED(Routes: connected [Network: 2.128.0.0/24, Next Hop IP:AUTO/NONE(-1l)]), EXITS_NETWORK(GigabitEthernet2/0)))]   \n",
       "3  [((ORIGINATED(default), FORWARDED(Routes: ospf [Network: 2.1.1.2/32, Next Hop IP:2.23.11.2]), TRANSMITTED(GigabitEthernet0/0)), (DENIED(GigabitEthernet2/0: blocktelnet)))]                                                                                                                                                                                                                                                         \n",
       "4  [((ORIGINATED(default), FORWARDED(Routes: ospf [Network: 2.1.1.2/32, Next Hop IP:2.23.12.2]), TRANSMITTED(GigabitEthernet1/0)), (DENIED(GigabitEthernet3/0: blocktelnet)))]                                                                                                                                                                                                                                                         \n",
       "\n",
       "   Delta_TraceCount  \n",
       "0  1                 \n",
       "1  1                 \n",
       "2  1                 \n",
       "3  1                 \n",
       "4  1                 "
      ]
     },
     "metadata": {},
     "output_type": "display_data"
    }
   ],
   "source": [
    "pathConstraints = None\n",
    "headerConstraints = None \n",
    "answer = bfq.differentialReachability(pathConstraints=pathConstraints, headers=headerConstraints).answer(\n",
    "    snapshot=EX1_CHANGE_NAME, \n",
    "    reference_snapshot=EX1_BASE_NAME)\n",
    "display_html(answer.frame())"
   ]
  },
  {
   "cell_type": "markdown",
   "metadata": {},
   "source": [
    "## Example 2"
   ]
  },
  {
   "cell_type": "markdown",
   "metadata": {},
   "source": [
    "Describe the network and the desired change: deny SSH from outside the AS.\n",
    "\n",
    "\n",
    "## Step 1: Test current behavior"
   ]
  },
  {
   "cell_type": "code",
   "execution_count": 30,
   "metadata": {},
   "outputs": [
    {
     "data": {
      "text/plain": [
       "'base'"
      ]
     },
     "execution_count": 30,
     "metadata": {},
     "output_type": "execute_result"
    }
   ],
   "source": [
    "EX2_NETWORK_NAME = \"differential-example2\"\n",
    "EX2_BASE_NAME = \"base\"\n",
    "EX2_BASE_PATH = \"networks/differential-ex2-base\"\n",
    "\n",
    "bf_set_network(EX2_NETWORK_NAME)\n",
    "bf_init_snapshot(EX2_BASE_PATH, name=EX2_BASE_NAME, overwrite=True)"
   ]
  },
  {
   "cell_type": "code",
   "execution_count": 32,
   "metadata": {},
   "outputs": [
    {
     "data": {
      "text/html": [
       "<style  type=\"text/css\" >\n",
       "    #T_pybfstylerow0_col0 {\n",
       "            text-align:  left;\n",
       "            vertical-align:  top;\n",
       "        }    #T_pybfstylerow0_col1 {\n",
       "            text-align:  left;\n",
       "            vertical-align:  top;\n",
       "        }    #T_pybfstylerow0_col2 {\n",
       "            text-align:  left;\n",
       "            vertical-align:  top;\n",
       "        }    #T_pybfstylerow1_col0 {\n",
       "            text-align:  left;\n",
       "            vertical-align:  top;\n",
       "        }    #T_pybfstylerow1_col1 {\n",
       "            text-align:  left;\n",
       "            vertical-align:  top;\n",
       "        }    #T_pybfstylerow1_col2 {\n",
       "            text-align:  left;\n",
       "            vertical-align:  top;\n",
       "        }</style>  \n",
       "<table id=\"T_pybfstyle\" > \n",
       "<thead>    <tr> \n",
       "        <th class=\"blank level0\" ></th> \n",
       "        <th class=\"col_heading level0 col0\" >Flow</th> \n",
       "        <th class=\"col_heading level0 col1\" >Traces</th> \n",
       "        <th class=\"col_heading level0 col2\" >TraceCount</th> \n",
       "    </tr></thead> \n",
       "<tbody>    <tr> \n",
       "        <th id=\"T_pybfstylelevel0_row0\" class=\"row_heading level0 row0\" >0</th> \n",
       "        <td id=\"T_pybfstylerow0_col0\" class=\"data row0 col0\" >Src IP: 10.12.11.0<br>Src Port: 0<br>Dst IP: 2.128.0.101<br>Dst Port: 22<br>IP Protocol: TCP<br>Start Location: as2border1 interface=GigabitEthernet0/0</td> \n",
       "        <td id=\"T_pybfstylerow0_col1\" class=\"data row0 col1\" ><span style=\"color:#019612; text-weight:bold;\">ACCEPTED</span><br><strong>1</strong>. node: as2border1<br>&nbsp;&nbsp;RECEIVED(GigabitEthernet0/0: OUTSIDE_TO_INSIDE)<br>&nbsp;&nbsp;FORWARDED(Routes: ibgp [Network: 2.128.0.0/24, Next Hop IP:2.34.101.4],ibgp [Network: 2.128.0.0/24, Next Hop IP:2.34.201.4])<br>&nbsp;&nbsp;TRANSMITTED(GigabitEthernet1/0)<br><strong>2</strong>. node: as2core1<br>&nbsp;&nbsp;RECEIVED(GigabitEthernet0/0)<br>&nbsp;&nbsp;FORWARDED(Routes: ibgp [Network: 2.128.0.0/24, Next Hop IP:2.34.101.4])<br>&nbsp;&nbsp;TRANSMITTED(GigabitEthernet2/0)<br><strong>3</strong>. node: as2dist1<br>&nbsp;&nbsp;RECEIVED(GigabitEthernet0/0)<br>&nbsp;&nbsp;FORWARDED(Routes: bgp [Network: 2.128.0.0/24, Next Hop IP:2.34.101.4])<br>&nbsp;&nbsp;TRANSMITTED(GigabitEthernet2/0)<br><strong>4</strong>. node: as2dept1<br>&nbsp;&nbsp;RECEIVED(GigabitEthernet0/0)<br>&nbsp;&nbsp;FORWARDED(Routes: connected [Network: 2.128.0.0/24, Next Hop IP:AUTO/NONE(-1l)])<br>&nbsp;&nbsp;TRANSMITTED(GigabitEthernet2/0)<br><strong>5</strong>. node: host1<br>&nbsp;&nbsp;RECEIVED(eth0: filter::INPUT)<br>&nbsp;&nbsp;ACCEPTED(InboundStep)<br><br><span style=\"color:#019612; text-weight:bold;\">ACCEPTED</span><br><strong>1</strong>. node: as2border1<br>&nbsp;&nbsp;RECEIVED(GigabitEthernet0/0: OUTSIDE_TO_INSIDE)<br>&nbsp;&nbsp;FORWARDED(Routes: ibgp [Network: 2.128.0.0/24, Next Hop IP:2.34.101.4],ibgp [Network: 2.128.0.0/24, Next Hop IP:2.34.201.4])<br>&nbsp;&nbsp;TRANSMITTED(GigabitEthernet1/0)<br><strong>2</strong>. node: as2core1<br>&nbsp;&nbsp;RECEIVED(GigabitEthernet0/0)<br>&nbsp;&nbsp;FORWARDED(Routes: ibgp [Network: 2.128.0.0/24, Next Hop IP:2.34.201.4])<br>&nbsp;&nbsp;TRANSMITTED(GigabitEthernet3/0)<br><strong>3</strong>. node: as2dist2<br>&nbsp;&nbsp;RECEIVED(GigabitEthernet1/0)<br>&nbsp;&nbsp;FORWARDED(Routes: bgp [Network: 2.128.0.0/24, Next Hop IP:2.34.201.4])<br>&nbsp;&nbsp;TRANSMITTED(GigabitEthernet2/0)<br><strong>4</strong>. node: as2dept1<br>&nbsp;&nbsp;RECEIVED(GigabitEthernet1/0)<br>&nbsp;&nbsp;FORWARDED(Routes: connected [Network: 2.128.0.0/24, Next Hop IP:AUTO/NONE(-1l)])<br>&nbsp;&nbsp;TRANSMITTED(GigabitEthernet2/0)<br><strong>5</strong>. node: host1<br>&nbsp;&nbsp;RECEIVED(eth0: filter::INPUT)<br>&nbsp;&nbsp;ACCEPTED(InboundStep)<br><br><span style=\"color:#019612; text-weight:bold;\">ACCEPTED</span><br><strong>1</strong>. node: as2border1<br>&nbsp;&nbsp;RECEIVED(GigabitEthernet0/0: OUTSIDE_TO_INSIDE)<br>&nbsp;&nbsp;FORWARDED(Routes: ibgp [Network: 2.128.0.0/24, Next Hop IP:2.34.101.4],ibgp [Network: 2.128.0.0/24, Next Hop IP:2.34.201.4])<br>&nbsp;&nbsp;TRANSMITTED(GigabitEthernet2/0)<br><strong>2</strong>. node: as2core2<br>&nbsp;&nbsp;RECEIVED(GigabitEthernet1/0)<br>&nbsp;&nbsp;FORWARDED(Routes: ibgp [Network: 2.128.0.0/24, Next Hop IP:2.34.201.4])<br>&nbsp;&nbsp;TRANSMITTED(GigabitEthernet2/0)<br><strong>3</strong>. node: as2dist2<br>&nbsp;&nbsp;RECEIVED(GigabitEthernet0/0)<br>&nbsp;&nbsp;FORWARDED(Routes: bgp [Network: 2.128.0.0/24, Next Hop IP:2.34.201.4])<br>&nbsp;&nbsp;TRANSMITTED(GigabitEthernet2/0)<br><strong>4</strong>. node: as2dept1<br>&nbsp;&nbsp;RECEIVED(GigabitEthernet1/0)<br>&nbsp;&nbsp;FORWARDED(Routes: connected [Network: 2.128.0.0/24, Next Hop IP:AUTO/NONE(-1l)])<br>&nbsp;&nbsp;TRANSMITTED(GigabitEthernet2/0)<br><strong>5</strong>. node: host1<br>&nbsp;&nbsp;RECEIVED(eth0: filter::INPUT)<br>&nbsp;&nbsp;ACCEPTED(InboundStep)<br><br><span style=\"color:#019612; text-weight:bold;\">ACCEPTED</span><br><strong>1</strong>. node: as2border1<br>&nbsp;&nbsp;RECEIVED(GigabitEthernet0/0: OUTSIDE_TO_INSIDE)<br>&nbsp;&nbsp;FORWARDED(Routes: ibgp [Network: 2.128.0.0/24, Next Hop IP:2.34.101.4],ibgp [Network: 2.128.0.0/24, Next Hop IP:2.34.201.4])<br>&nbsp;&nbsp;TRANSMITTED(GigabitEthernet2/0)<br><strong>2</strong>. node: as2core2<br>&nbsp;&nbsp;RECEIVED(GigabitEthernet1/0)<br>&nbsp;&nbsp;FORWARDED(Routes: ibgp [Network: 2.128.0.0/24, Next Hop IP:2.34.101.4])<br>&nbsp;&nbsp;TRANSMITTED(GigabitEthernet3/0)<br><strong>3</strong>. node: as2dist1<br>&nbsp;&nbsp;RECEIVED(GigabitEthernet1/0)<br>&nbsp;&nbsp;FORWARDED(Routes: bgp [Network: 2.128.0.0/24, Next Hop IP:2.34.101.4])<br>&nbsp;&nbsp;TRANSMITTED(GigabitEthernet2/0)<br><strong>4</strong>. node: as2dept1<br>&nbsp;&nbsp;RECEIVED(GigabitEthernet0/0)<br>&nbsp;&nbsp;FORWARDED(Routes: connected [Network: 2.128.0.0/24, Next Hop IP:AUTO/NONE(-1l)])<br>&nbsp;&nbsp;TRANSMITTED(GigabitEthernet2/0)<br><strong>5</strong>. node: host1<br>&nbsp;&nbsp;RECEIVED(eth0: filter::INPUT)<br>&nbsp;&nbsp;ACCEPTED(InboundStep)</td> \n",
       "        <td id=\"T_pybfstylerow0_col2\" class=\"data row0 col2\" >4</td> \n",
       "    </tr>    <tr> \n",
       "        <th id=\"T_pybfstylelevel0_row1\" class=\"row_heading level0 row1\" >1</th> \n",
       "        <td id=\"T_pybfstylerow1_col0\" class=\"data row1 col0\" >Src IP: 10.23.21.0<br>Src Port: 0<br>Dst IP: 2.128.0.101<br>Dst Port: 22<br>IP Protocol: TCP<br>Start Location: as2border2 interface=GigabitEthernet0/0</td> \n",
       "        <td id=\"T_pybfstylerow1_col1\" class=\"data row1 col1\" ><span style=\"color:#019612; text-weight:bold;\">ACCEPTED</span><br><strong>1</strong>. node: as2border2<br>&nbsp;&nbsp;RECEIVED(GigabitEthernet0/0: OUTSIDE_TO_INSIDE)<br>&nbsp;&nbsp;FORWARDED(Routes: ibgp [Network: 2.128.0.0/24, Next Hop IP:2.34.101.4],ibgp [Network: 2.128.0.0/24, Next Hop IP:2.34.201.4])<br>&nbsp;&nbsp;TRANSMITTED(GigabitEthernet1/0)<br><strong>2</strong>. node: as2core2<br>&nbsp;&nbsp;RECEIVED(GigabitEthernet0/0)<br>&nbsp;&nbsp;FORWARDED(Routes: ibgp [Network: 2.128.0.0/24, Next Hop IP:2.34.201.4])<br>&nbsp;&nbsp;TRANSMITTED(GigabitEthernet2/0)<br><strong>3</strong>. node: as2dist2<br>&nbsp;&nbsp;RECEIVED(GigabitEthernet0/0)<br>&nbsp;&nbsp;FORWARDED(Routes: bgp [Network: 2.128.0.0/24, Next Hop IP:2.34.201.4])<br>&nbsp;&nbsp;TRANSMITTED(GigabitEthernet2/0)<br><strong>4</strong>. node: as2dept1<br>&nbsp;&nbsp;RECEIVED(GigabitEthernet1/0)<br>&nbsp;&nbsp;FORWARDED(Routes: connected [Network: 2.128.0.0/24, Next Hop IP:AUTO/NONE(-1l)])<br>&nbsp;&nbsp;TRANSMITTED(GigabitEthernet2/0)<br><strong>5</strong>. node: host1<br>&nbsp;&nbsp;RECEIVED(eth0: filter::INPUT)<br>&nbsp;&nbsp;ACCEPTED(InboundStep)<br><br><span style=\"color:#019612; text-weight:bold;\">ACCEPTED</span><br><strong>1</strong>. node: as2border2<br>&nbsp;&nbsp;RECEIVED(GigabitEthernet0/0: OUTSIDE_TO_INSIDE)<br>&nbsp;&nbsp;FORWARDED(Routes: ibgp [Network: 2.128.0.0/24, Next Hop IP:2.34.101.4],ibgp [Network: 2.128.0.0/24, Next Hop IP:2.34.201.4])<br>&nbsp;&nbsp;TRANSMITTED(GigabitEthernet1/0)<br><strong>2</strong>. node: as2core2<br>&nbsp;&nbsp;RECEIVED(GigabitEthernet0/0)<br>&nbsp;&nbsp;FORWARDED(Routes: ibgp [Network: 2.128.0.0/24, Next Hop IP:2.34.101.4])<br>&nbsp;&nbsp;TRANSMITTED(GigabitEthernet3/0)<br><strong>3</strong>. node: as2dist1<br>&nbsp;&nbsp;RECEIVED(GigabitEthernet1/0)<br>&nbsp;&nbsp;FORWARDED(Routes: bgp [Network: 2.128.0.0/24, Next Hop IP:2.34.101.4])<br>&nbsp;&nbsp;TRANSMITTED(GigabitEthernet2/0)<br><strong>4</strong>. node: as2dept1<br>&nbsp;&nbsp;RECEIVED(GigabitEthernet0/0)<br>&nbsp;&nbsp;FORWARDED(Routes: connected [Network: 2.128.0.0/24, Next Hop IP:AUTO/NONE(-1l)])<br>&nbsp;&nbsp;TRANSMITTED(GigabitEthernet2/0)<br><strong>5</strong>. node: host1<br>&nbsp;&nbsp;RECEIVED(eth0: filter::INPUT)<br>&nbsp;&nbsp;ACCEPTED(InboundStep)<br><br><span style=\"color:#019612; text-weight:bold;\">ACCEPTED</span><br><strong>1</strong>. node: as2border2<br>&nbsp;&nbsp;RECEIVED(GigabitEthernet0/0: OUTSIDE_TO_INSIDE)<br>&nbsp;&nbsp;FORWARDED(Routes: ibgp [Network: 2.128.0.0/24, Next Hop IP:2.34.101.4],ibgp [Network: 2.128.0.0/24, Next Hop IP:2.34.201.4])<br>&nbsp;&nbsp;TRANSMITTED(GigabitEthernet2/0)<br><strong>2</strong>. node: as2core1<br>&nbsp;&nbsp;RECEIVED(GigabitEthernet1/0)<br>&nbsp;&nbsp;FORWARDED(Routes: ibgp [Network: 2.128.0.0/24, Next Hop IP:2.34.101.4])<br>&nbsp;&nbsp;TRANSMITTED(GigabitEthernet2/0)<br><strong>3</strong>. node: as2dist1<br>&nbsp;&nbsp;RECEIVED(GigabitEthernet0/0)<br>&nbsp;&nbsp;FORWARDED(Routes: bgp [Network: 2.128.0.0/24, Next Hop IP:2.34.101.4])<br>&nbsp;&nbsp;TRANSMITTED(GigabitEthernet2/0)<br><strong>4</strong>. node: as2dept1<br>&nbsp;&nbsp;RECEIVED(GigabitEthernet0/0)<br>&nbsp;&nbsp;FORWARDED(Routes: connected [Network: 2.128.0.0/24, Next Hop IP:AUTO/NONE(-1l)])<br>&nbsp;&nbsp;TRANSMITTED(GigabitEthernet2/0)<br><strong>5</strong>. node: host1<br>&nbsp;&nbsp;RECEIVED(eth0: filter::INPUT)<br>&nbsp;&nbsp;ACCEPTED(InboundStep)<br><br><span style=\"color:#019612; text-weight:bold;\">ACCEPTED</span><br><strong>1</strong>. node: as2border2<br>&nbsp;&nbsp;RECEIVED(GigabitEthernet0/0: OUTSIDE_TO_INSIDE)<br>&nbsp;&nbsp;FORWARDED(Routes: ibgp [Network: 2.128.0.0/24, Next Hop IP:2.34.101.4],ibgp [Network: 2.128.0.0/24, Next Hop IP:2.34.201.4])<br>&nbsp;&nbsp;TRANSMITTED(GigabitEthernet2/0)<br><strong>2</strong>. node: as2core1<br>&nbsp;&nbsp;RECEIVED(GigabitEthernet1/0)<br>&nbsp;&nbsp;FORWARDED(Routes: ibgp [Network: 2.128.0.0/24, Next Hop IP:2.34.201.4])<br>&nbsp;&nbsp;TRANSMITTED(GigabitEthernet3/0)<br><strong>3</strong>. node: as2dist2<br>&nbsp;&nbsp;RECEIVED(GigabitEthernet1/0)<br>&nbsp;&nbsp;FORWARDED(Routes: bgp [Network: 2.128.0.0/24, Next Hop IP:2.34.201.4])<br>&nbsp;&nbsp;TRANSMITTED(GigabitEthernet2/0)<br><strong>4</strong>. node: as2dept1<br>&nbsp;&nbsp;RECEIVED(GigabitEthernet1/0)<br>&nbsp;&nbsp;FORWARDED(Routes: connected [Network: 2.128.0.0/24, Next Hop IP:AUTO/NONE(-1l)])<br>&nbsp;&nbsp;TRANSMITTED(GigabitEthernet2/0)<br><strong>5</strong>. node: host1<br>&nbsp;&nbsp;RECEIVED(eth0: filter::INPUT)<br>&nbsp;&nbsp;ACCEPTED(InboundStep)</td> \n",
       "        <td id=\"T_pybfstylerow1_col2\" class=\"data row1 col2\" >4</td> \n",
       "    </tr></tbody> \n",
       "</table> "
      ],
      "text/plain": [
       "                                                                               Flow  \\\n",
       "0  start=as2border1 interface=GigabitEthernet0/0 [10.12.11.0:0->2.128.0.101:22 TCP]   \n",
       "1  start=as2border2 interface=GigabitEthernet0/0 [10.23.21.0:0->2.128.0.101:22 TCP]   \n",
       "\n",
       "                                                                                                                                                                                                                                                                                                                                                                                                                                                                                                                                                                                                                                                                                                                                                                                                                                                                                                                                                                                                                                                                                                                                                                                                                                                                                                                                                                                                                                                                                                                                                                                                                                                                                                                                                                                                                                                                                                                                                                                                                                                                                                                                                                                                                                                                                                                                                                                                                                                                                                                                                                                                                                                                                                                                                                                                                                                                     Traces  \\\n",
       "0  [((RECEIVED(GigabitEthernet0/0: OUTSIDE_TO_INSIDE), FORWARDED(Routes: ibgp [Network: 2.128.0.0/24, Next Hop IP:2.34.101.4],ibgp [Network: 2.128.0.0/24, Next Hop IP:2.34.201.4]), TRANSMITTED(GigabitEthernet1/0)), (RECEIVED(GigabitEthernet0/0), FORWARDED(Routes: ibgp [Network: 2.128.0.0/24, Next Hop IP:2.34.101.4]), TRANSMITTED(GigabitEthernet2/0)), (RECEIVED(GigabitEthernet0/0), FORWARDED(Routes: bgp [Network: 2.128.0.0/24, Next Hop IP:2.34.101.4]), TRANSMITTED(GigabitEthernet2/0)), (RECEIVED(GigabitEthernet0/0), FORWARDED(Routes: connected [Network: 2.128.0.0/24, Next Hop IP:AUTO/NONE(-1l)]), TRANSMITTED(GigabitEthernet2/0)), (RECEIVED(eth0: filter::INPUT), ACCEPTED(InboundStep))), ((RECEIVED(GigabitEthernet0/0: OUTSIDE_TO_INSIDE), FORWARDED(Routes: ibgp [Network: 2.128.0.0/24, Next Hop IP:2.34.101.4],ibgp [Network: 2.128.0.0/24, Next Hop IP:2.34.201.4]), TRANSMITTED(GigabitEthernet1/0)), (RECEIVED(GigabitEthernet0/0), FORWARDED(Routes: ibgp [Network: 2.128.0.0/24, Next Hop IP:2.34.201.4]), TRANSMITTED(GigabitEthernet3/0)), (RECEIVED(GigabitEthernet1/0), FORWARDED(Routes: bgp [Network: 2.128.0.0/24, Next Hop IP:2.34.201.4]), TRANSMITTED(GigabitEthernet2/0)), (RECEIVED(GigabitEthernet1/0), FORWARDED(Routes: connected [Network: 2.128.0.0/24, Next Hop IP:AUTO/NONE(-1l)]), TRANSMITTED(GigabitEthernet2/0)), (RECEIVED(eth0: filter::INPUT), ACCEPTED(InboundStep))), ((RECEIVED(GigabitEthernet0/0: OUTSIDE_TO_INSIDE), FORWARDED(Routes: ibgp [Network: 2.128.0.0/24, Next Hop IP:2.34.101.4],ibgp [Network: 2.128.0.0/24, Next Hop IP:2.34.201.4]), TRANSMITTED(GigabitEthernet2/0)), (RECEIVED(GigabitEthernet1/0), FORWARDED(Routes: ibgp [Network: 2.128.0.0/24, Next Hop IP:2.34.201.4]), TRANSMITTED(GigabitEthernet2/0)), (RECEIVED(GigabitEthernet0/0), FORWARDED(Routes: bgp [Network: 2.128.0.0/24, Next Hop IP:2.34.201.4]), TRANSMITTED(GigabitEthernet2/0)), (RECEIVED(GigabitEthernet1/0), FORWARDED(Routes: connected [Network: 2.128.0.0/24, Next Hop IP:AUTO/NONE(-1l)]), TRANSMITTED(GigabitEthernet2/0)), (RECEIVED(eth0: filter::INPUT), ACCEPTED(InboundStep))), ((RECEIVED(GigabitEthernet0/0: OUTSIDE_TO_INSIDE), FORWARDED(Routes: ibgp [Network: 2.128.0.0/24, Next Hop IP:2.34.101.4],ibgp [Network: 2.128.0.0/24, Next Hop IP:2.34.201.4]), TRANSMITTED(GigabitEthernet2/0)), (RECEIVED(GigabitEthernet1/0), FORWARDED(Routes: ibgp [Network: 2.128.0.0/24, Next Hop IP:2.34.101.4]), TRANSMITTED(GigabitEthernet3/0)), (RECEIVED(GigabitEthernet1/0), FORWARDED(Routes: bgp [Network: 2.128.0.0/24, Next Hop IP:2.34.101.4]), TRANSMITTED(GigabitEthernet2/0)), (RECEIVED(GigabitEthernet0/0), FORWARDED(Routes: connected [Network: 2.128.0.0/24, Next Hop IP:AUTO/NONE(-1l)]), TRANSMITTED(GigabitEthernet2/0)), (RECEIVED(eth0: filter::INPUT), ACCEPTED(InboundStep)))]   \n",
       "1  [((RECEIVED(GigabitEthernet0/0: OUTSIDE_TO_INSIDE), FORWARDED(Routes: ibgp [Network: 2.128.0.0/24, Next Hop IP:2.34.101.4],ibgp [Network: 2.128.0.0/24, Next Hop IP:2.34.201.4]), TRANSMITTED(GigabitEthernet1/0)), (RECEIVED(GigabitEthernet0/0), FORWARDED(Routes: ibgp [Network: 2.128.0.0/24, Next Hop IP:2.34.201.4]), TRANSMITTED(GigabitEthernet2/0)), (RECEIVED(GigabitEthernet0/0), FORWARDED(Routes: bgp [Network: 2.128.0.0/24, Next Hop IP:2.34.201.4]), TRANSMITTED(GigabitEthernet2/0)), (RECEIVED(GigabitEthernet1/0), FORWARDED(Routes: connected [Network: 2.128.0.0/24, Next Hop IP:AUTO/NONE(-1l)]), TRANSMITTED(GigabitEthernet2/0)), (RECEIVED(eth0: filter::INPUT), ACCEPTED(InboundStep))), ((RECEIVED(GigabitEthernet0/0: OUTSIDE_TO_INSIDE), FORWARDED(Routes: ibgp [Network: 2.128.0.0/24, Next Hop IP:2.34.101.4],ibgp [Network: 2.128.0.0/24, Next Hop IP:2.34.201.4]), TRANSMITTED(GigabitEthernet1/0)), (RECEIVED(GigabitEthernet0/0), FORWARDED(Routes: ibgp [Network: 2.128.0.0/24, Next Hop IP:2.34.101.4]), TRANSMITTED(GigabitEthernet3/0)), (RECEIVED(GigabitEthernet1/0), FORWARDED(Routes: bgp [Network: 2.128.0.0/24, Next Hop IP:2.34.101.4]), TRANSMITTED(GigabitEthernet2/0)), (RECEIVED(GigabitEthernet0/0), FORWARDED(Routes: connected [Network: 2.128.0.0/24, Next Hop IP:AUTO/NONE(-1l)]), TRANSMITTED(GigabitEthernet2/0)), (RECEIVED(eth0: filter::INPUT), ACCEPTED(InboundStep))), ((RECEIVED(GigabitEthernet0/0: OUTSIDE_TO_INSIDE), FORWARDED(Routes: ibgp [Network: 2.128.0.0/24, Next Hop IP:2.34.101.4],ibgp [Network: 2.128.0.0/24, Next Hop IP:2.34.201.4]), TRANSMITTED(GigabitEthernet2/0)), (RECEIVED(GigabitEthernet1/0), FORWARDED(Routes: ibgp [Network: 2.128.0.0/24, Next Hop IP:2.34.101.4]), TRANSMITTED(GigabitEthernet2/0)), (RECEIVED(GigabitEthernet0/0), FORWARDED(Routes: bgp [Network: 2.128.0.0/24, Next Hop IP:2.34.101.4]), TRANSMITTED(GigabitEthernet2/0)), (RECEIVED(GigabitEthernet0/0), FORWARDED(Routes: connected [Network: 2.128.0.0/24, Next Hop IP:AUTO/NONE(-1l)]), TRANSMITTED(GigabitEthernet2/0)), (RECEIVED(eth0: filter::INPUT), ACCEPTED(InboundStep))), ((RECEIVED(GigabitEthernet0/0: OUTSIDE_TO_INSIDE), FORWARDED(Routes: ibgp [Network: 2.128.0.0/24, Next Hop IP:2.34.101.4],ibgp [Network: 2.128.0.0/24, Next Hop IP:2.34.201.4]), TRANSMITTED(GigabitEthernet2/0)), (RECEIVED(GigabitEthernet1/0), FORWARDED(Routes: ibgp [Network: 2.128.0.0/24, Next Hop IP:2.34.201.4]), TRANSMITTED(GigabitEthernet3/0)), (RECEIVED(GigabitEthernet1/0), FORWARDED(Routes: bgp [Network: 2.128.0.0/24, Next Hop IP:2.34.201.4]), TRANSMITTED(GigabitEthernet2/0)), (RECEIVED(GigabitEthernet1/0), FORWARDED(Routes: connected [Network: 2.128.0.0/24, Next Hop IP:AUTO/NONE(-1l)]), TRANSMITTED(GigabitEthernet2/0)), (RECEIVED(eth0: filter::INPUT), ACCEPTED(InboundStep)))]   \n",
       "\n",
       "   TraceCount  \n",
       "0  4           \n",
       "1  4           "
      ]
     },
     "metadata": {},
     "output_type": "display_data"
    }
   ],
   "source": [
    "answer = bfq.reachability(\n",
    "    pathConstraints = PathConstraints(startLocation=\"enter(as2border.*[GigabitEthernet0/0])\", endLocation=\"host.*\"),\n",
    "    headers = HeaderConstraints(applications=\"SSH\")\n",
    ").answer(snapshot=EX2_BASE_NAME)\n",
    "display_html(answer.frame())"
   ]
  },
  {
   "cell_type": "markdown",
   "metadata": {},
   "source": [
    "These results show that SSH traffic can indeed currently reach the hosts from outside the AS."
   ]
  },
  {
   "cell_type": "markdown",
   "metadata": {},
   "source": [
    "## Step 2: Author the change\n",
    "\n",
    "\n",
    "```\n",
    "$ diff -r networks/differential-ex2-base networks/differential-ex2-change\n",
    "diff -r networks/differential-ex2-base/configs/as2border1.cfg networks/differential-ex2-change/configs/as2border1.cfg\n",
    "123a124\n",
    ">  deny   tcp any 2.0.0.0 0.255.255.255 eq 22\n",
    "```"
   ]
  },
  {
   "cell_type": "code",
   "execution_count": 26,
   "metadata": {},
   "outputs": [
    {
     "data": {
      "text/plain": [
       "'change'"
      ]
     },
     "execution_count": 26,
     "metadata": {},
     "output_type": "execute_result"
    }
   ],
   "source": [
    "EX2_CHANGE_NAME = \"change\"\n",
    "EX2_CHANGE_PATH = \"networks/differential-ex2-change\"\n",
    "\n",
    "bf_init_snapshot(EX2_CHANGE_PATH, name=EX2_CHANGE_NAME, overwrite=True)"
   ]
  },
  {
   "cell_type": "code",
   "execution_count": 29,
   "metadata": {},
   "outputs": [
    {
     "data": {
      "text/html": [
       "<style  type=\"text/css\" >\n",
       "    #T_pybfstylerow0_col0 {\n",
       "            text-align:  left;\n",
       "            vertical-align:  top;\n",
       "        }    #T_pybfstylerow0_col1 {\n",
       "            text-align:  left;\n",
       "            vertical-align:  top;\n",
       "        }    #T_pybfstylerow0_col2 {\n",
       "            text-align:  left;\n",
       "            vertical-align:  top;\n",
       "        }</style>  \n",
       "<table id=\"T_pybfstyle\" > \n",
       "<thead>    <tr> \n",
       "        <th class=\"blank level0\" ></th> \n",
       "        <th class=\"col_heading level0 col0\" >Flow</th> \n",
       "        <th class=\"col_heading level0 col1\" >Traces</th> \n",
       "        <th class=\"col_heading level0 col2\" >TraceCount</th> \n",
       "    </tr></thead> \n",
       "<tbody>    <tr> \n",
       "        <th id=\"T_pybfstylelevel0_row0\" class=\"row_heading level0 row0\" >0</th> \n",
       "        <td id=\"T_pybfstylerow0_col0\" class=\"data row0 col0\" >Src IP: 10.23.21.0<br>Src Port: 0<br>Dst IP: 2.128.0.101<br>Dst Port: 22<br>IP Protocol: TCP<br>Start Location: as2border2 interface=GigabitEthernet0/0</td> \n",
       "        <td id=\"T_pybfstylerow0_col1\" class=\"data row0 col1\" ><span style=\"color:#019612; text-weight:bold;\">ACCEPTED</span><br><strong>1</strong>. node: as2border2<br>&nbsp;&nbsp;RECEIVED(GigabitEthernet0/0: OUTSIDE_TO_INSIDE)<br>&nbsp;&nbsp;FORWARDED(Routes: ibgp [Network: 2.128.0.0/24, Next Hop IP:2.34.101.4],ibgp [Network: 2.128.0.0/24, Next Hop IP:2.34.201.4])<br>&nbsp;&nbsp;TRANSMITTED(GigabitEthernet1/0)<br><strong>2</strong>. node: as2core2<br>&nbsp;&nbsp;RECEIVED(GigabitEthernet0/0)<br>&nbsp;&nbsp;FORWARDED(Routes: ibgp [Network: 2.128.0.0/24, Next Hop IP:2.34.201.4])<br>&nbsp;&nbsp;TRANSMITTED(GigabitEthernet2/0)<br><strong>3</strong>. node: as2dist2<br>&nbsp;&nbsp;RECEIVED(GigabitEthernet0/0)<br>&nbsp;&nbsp;FORWARDED(Routes: bgp [Network: 2.128.0.0/24, Next Hop IP:2.34.201.4])<br>&nbsp;&nbsp;TRANSMITTED(GigabitEthernet2/0)<br><strong>4</strong>. node: as2dept1<br>&nbsp;&nbsp;RECEIVED(GigabitEthernet1/0)<br>&nbsp;&nbsp;FORWARDED(Routes: connected [Network: 2.128.0.0/24, Next Hop IP:AUTO/NONE(-1l)])<br>&nbsp;&nbsp;TRANSMITTED(GigabitEthernet2/0)<br><strong>5</strong>. node: host1<br>&nbsp;&nbsp;RECEIVED(eth0: filter::INPUT)<br>&nbsp;&nbsp;ACCEPTED(InboundStep)<br><br><span style=\"color:#019612; text-weight:bold;\">ACCEPTED</span><br><strong>1</strong>. node: as2border2<br>&nbsp;&nbsp;RECEIVED(GigabitEthernet0/0: OUTSIDE_TO_INSIDE)<br>&nbsp;&nbsp;FORWARDED(Routes: ibgp [Network: 2.128.0.0/24, Next Hop IP:2.34.101.4],ibgp [Network: 2.128.0.0/24, Next Hop IP:2.34.201.4])<br>&nbsp;&nbsp;TRANSMITTED(GigabitEthernet1/0)<br><strong>2</strong>. node: as2core2<br>&nbsp;&nbsp;RECEIVED(GigabitEthernet0/0)<br>&nbsp;&nbsp;FORWARDED(Routes: ibgp [Network: 2.128.0.0/24, Next Hop IP:2.34.101.4])<br>&nbsp;&nbsp;TRANSMITTED(GigabitEthernet3/0)<br><strong>3</strong>. node: as2dist1<br>&nbsp;&nbsp;RECEIVED(GigabitEthernet1/0)<br>&nbsp;&nbsp;FORWARDED(Routes: bgp [Network: 2.128.0.0/24, Next Hop IP:2.34.101.4])<br>&nbsp;&nbsp;TRANSMITTED(GigabitEthernet2/0)<br><strong>4</strong>. node: as2dept1<br>&nbsp;&nbsp;RECEIVED(GigabitEthernet0/0)<br>&nbsp;&nbsp;FORWARDED(Routes: connected [Network: 2.128.0.0/24, Next Hop IP:AUTO/NONE(-1l)])<br>&nbsp;&nbsp;TRANSMITTED(GigabitEthernet2/0)<br><strong>5</strong>. node: host1<br>&nbsp;&nbsp;RECEIVED(eth0: filter::INPUT)<br>&nbsp;&nbsp;ACCEPTED(InboundStep)<br><br><span style=\"color:#019612; text-weight:bold;\">ACCEPTED</span><br><strong>1</strong>. node: as2border2<br>&nbsp;&nbsp;RECEIVED(GigabitEthernet0/0: OUTSIDE_TO_INSIDE)<br>&nbsp;&nbsp;FORWARDED(Routes: ibgp [Network: 2.128.0.0/24, Next Hop IP:2.34.101.4],ibgp [Network: 2.128.0.0/24, Next Hop IP:2.34.201.4])<br>&nbsp;&nbsp;TRANSMITTED(GigabitEthernet2/0)<br><strong>2</strong>. node: as2core1<br>&nbsp;&nbsp;RECEIVED(GigabitEthernet1/0)<br>&nbsp;&nbsp;FORWARDED(Routes: ibgp [Network: 2.128.0.0/24, Next Hop IP:2.34.101.4])<br>&nbsp;&nbsp;TRANSMITTED(GigabitEthernet2/0)<br><strong>3</strong>. node: as2dist1<br>&nbsp;&nbsp;RECEIVED(GigabitEthernet0/0)<br>&nbsp;&nbsp;FORWARDED(Routes: bgp [Network: 2.128.0.0/24, Next Hop IP:2.34.101.4])<br>&nbsp;&nbsp;TRANSMITTED(GigabitEthernet2/0)<br><strong>4</strong>. node: as2dept1<br>&nbsp;&nbsp;RECEIVED(GigabitEthernet0/0)<br>&nbsp;&nbsp;FORWARDED(Routes: connected [Network: 2.128.0.0/24, Next Hop IP:AUTO/NONE(-1l)])<br>&nbsp;&nbsp;TRANSMITTED(GigabitEthernet2/0)<br><strong>5</strong>. node: host1<br>&nbsp;&nbsp;RECEIVED(eth0: filter::INPUT)<br>&nbsp;&nbsp;ACCEPTED(InboundStep)<br><br><span style=\"color:#019612; text-weight:bold;\">ACCEPTED</span><br><strong>1</strong>. node: as2border2<br>&nbsp;&nbsp;RECEIVED(GigabitEthernet0/0: OUTSIDE_TO_INSIDE)<br>&nbsp;&nbsp;FORWARDED(Routes: ibgp [Network: 2.128.0.0/24, Next Hop IP:2.34.101.4],ibgp [Network: 2.128.0.0/24, Next Hop IP:2.34.201.4])<br>&nbsp;&nbsp;TRANSMITTED(GigabitEthernet2/0)<br><strong>2</strong>. node: as2core1<br>&nbsp;&nbsp;RECEIVED(GigabitEthernet1/0)<br>&nbsp;&nbsp;FORWARDED(Routes: ibgp [Network: 2.128.0.0/24, Next Hop IP:2.34.201.4])<br>&nbsp;&nbsp;TRANSMITTED(GigabitEthernet3/0)<br><strong>3</strong>. node: as2dist2<br>&nbsp;&nbsp;RECEIVED(GigabitEthernet1/0)<br>&nbsp;&nbsp;FORWARDED(Routes: bgp [Network: 2.128.0.0/24, Next Hop IP:2.34.201.4])<br>&nbsp;&nbsp;TRANSMITTED(GigabitEthernet2/0)<br><strong>4</strong>. node: as2dept1<br>&nbsp;&nbsp;RECEIVED(GigabitEthernet1/0)<br>&nbsp;&nbsp;FORWARDED(Routes: connected [Network: 2.128.0.0/24, Next Hop IP:AUTO/NONE(-1l)])<br>&nbsp;&nbsp;TRANSMITTED(GigabitEthernet2/0)<br><strong>5</strong>. node: host1<br>&nbsp;&nbsp;RECEIVED(eth0: filter::INPUT)<br>&nbsp;&nbsp;ACCEPTED(InboundStep)</td> \n",
       "        <td id=\"T_pybfstylerow0_col2\" class=\"data row0 col2\" >4</td> \n",
       "    </tr></tbody> \n",
       "</table> "
      ],
      "text/plain": [
       "                                                                               Flow  \\\n",
       "0  start=as2border2 interface=GigabitEthernet0/0 [10.23.21.0:0->2.128.0.101:22 TCP]   \n",
       "\n",
       "                                                                                                                                                                                                                                                                                                                                                                                                                                                                                                                                                                                                                                                                                                                                                                                                                                                                                                                                                                                                                                                                                                                                                                                                                                                                                                                                                                                                                                                                                                                                                                                                                                                                                                                                                                                                                                                                                                                                                                                                                                                                                                                                                                                                                                                                                                                                                                                                                                                                                                                                                                                                                                                                                                                                                                                                                                                                     Traces  \\\n",
       "0  [((RECEIVED(GigabitEthernet0/0: OUTSIDE_TO_INSIDE), FORWARDED(Routes: ibgp [Network: 2.128.0.0/24, Next Hop IP:2.34.101.4],ibgp [Network: 2.128.0.0/24, Next Hop IP:2.34.201.4]), TRANSMITTED(GigabitEthernet1/0)), (RECEIVED(GigabitEthernet0/0), FORWARDED(Routes: ibgp [Network: 2.128.0.0/24, Next Hop IP:2.34.201.4]), TRANSMITTED(GigabitEthernet2/0)), (RECEIVED(GigabitEthernet0/0), FORWARDED(Routes: bgp [Network: 2.128.0.0/24, Next Hop IP:2.34.201.4]), TRANSMITTED(GigabitEthernet2/0)), (RECEIVED(GigabitEthernet1/0), FORWARDED(Routes: connected [Network: 2.128.0.0/24, Next Hop IP:AUTO/NONE(-1l)]), TRANSMITTED(GigabitEthernet2/0)), (RECEIVED(eth0: filter::INPUT), ACCEPTED(InboundStep))), ((RECEIVED(GigabitEthernet0/0: OUTSIDE_TO_INSIDE), FORWARDED(Routes: ibgp [Network: 2.128.0.0/24, Next Hop IP:2.34.101.4],ibgp [Network: 2.128.0.0/24, Next Hop IP:2.34.201.4]), TRANSMITTED(GigabitEthernet1/0)), (RECEIVED(GigabitEthernet0/0), FORWARDED(Routes: ibgp [Network: 2.128.0.0/24, Next Hop IP:2.34.101.4]), TRANSMITTED(GigabitEthernet3/0)), (RECEIVED(GigabitEthernet1/0), FORWARDED(Routes: bgp [Network: 2.128.0.0/24, Next Hop IP:2.34.101.4]), TRANSMITTED(GigabitEthernet2/0)), (RECEIVED(GigabitEthernet0/0), FORWARDED(Routes: connected [Network: 2.128.0.0/24, Next Hop IP:AUTO/NONE(-1l)]), TRANSMITTED(GigabitEthernet2/0)), (RECEIVED(eth0: filter::INPUT), ACCEPTED(InboundStep))), ((RECEIVED(GigabitEthernet0/0: OUTSIDE_TO_INSIDE), FORWARDED(Routes: ibgp [Network: 2.128.0.0/24, Next Hop IP:2.34.101.4],ibgp [Network: 2.128.0.0/24, Next Hop IP:2.34.201.4]), TRANSMITTED(GigabitEthernet2/0)), (RECEIVED(GigabitEthernet1/0), FORWARDED(Routes: ibgp [Network: 2.128.0.0/24, Next Hop IP:2.34.101.4]), TRANSMITTED(GigabitEthernet2/0)), (RECEIVED(GigabitEthernet0/0), FORWARDED(Routes: bgp [Network: 2.128.0.0/24, Next Hop IP:2.34.101.4]), TRANSMITTED(GigabitEthernet2/0)), (RECEIVED(GigabitEthernet0/0), FORWARDED(Routes: connected [Network: 2.128.0.0/24, Next Hop IP:AUTO/NONE(-1l)]), TRANSMITTED(GigabitEthernet2/0)), (RECEIVED(eth0: filter::INPUT), ACCEPTED(InboundStep))), ((RECEIVED(GigabitEthernet0/0: OUTSIDE_TO_INSIDE), FORWARDED(Routes: ibgp [Network: 2.128.0.0/24, Next Hop IP:2.34.101.4],ibgp [Network: 2.128.0.0/24, Next Hop IP:2.34.201.4]), TRANSMITTED(GigabitEthernet2/0)), (RECEIVED(GigabitEthernet1/0), FORWARDED(Routes: ibgp [Network: 2.128.0.0/24, Next Hop IP:2.34.201.4]), TRANSMITTED(GigabitEthernet3/0)), (RECEIVED(GigabitEthernet1/0), FORWARDED(Routes: bgp [Network: 2.128.0.0/24, Next Hop IP:2.34.201.4]), TRANSMITTED(GigabitEthernet2/0)), (RECEIVED(GigabitEthernet1/0), FORWARDED(Routes: connected [Network: 2.128.0.0/24, Next Hop IP:AUTO/NONE(-1l)]), TRANSMITTED(GigabitEthernet2/0)), (RECEIVED(eth0: filter::INPUT), ACCEPTED(InboundStep)))]   \n",
       "\n",
       "   TraceCount  \n",
       "0  4           "
      ]
     },
     "metadata": {},
     "output_type": "display_data"
    }
   ],
   "source": [
    "answer = bfq.reachability(\n",
    "    pathConstraints = PathConstraints(\n",
    "        startLocation=\"enter(as2border.*[GigabitEthernet0/0])\", \n",
    "        endLocation=\"host.*\"),\n",
    "    headers = HeaderConstraints(applications=\"SSH\")\n",
    ").answer(snapshot=EX2_CHANGE_NAME)\n",
    "display_html(answer.frame())"
   ]
  },
  {
   "cell_type": "code",
   "execution_count": null,
   "metadata": {},
   "outputs": [],
   "source": []
  }
 ],
 "metadata": {
  "kernelspec": {
   "display_name": "Python 3",
   "language": "python",
   "name": "python3"
  },
  "language_info": {
   "codemirror_mode": {
    "name": "ipython",
    "version": 3
   },
   "file_extension": ".py",
   "mimetype": "text/x-python",
   "name": "python",
   "nbconvert_exporter": "python",
   "pygments_lexer": "ipython3",
   "version": "3.6.4"
  }
 },
 "nbformat": 4,
 "nbformat_minor": 2
}
