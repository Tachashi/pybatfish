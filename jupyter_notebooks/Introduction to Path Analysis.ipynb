{
 "cells": [
  {
   "cell_type": "markdown",
   "metadata": {},
   "source": [
    "## Introduction to Path Analysis using Batfish"
   ]
  },
  {
   "cell_type": "markdown",
   "metadata": {
    "hide_input": true
   },
   "source": [
    "Path analysis is one of the most common tasks a network engineer will undertake, but one of the most complicated ones. Traditionally, path analysis is performed by using `traceroute`. In a lot of instances, this must be performed from multiple locations in the network. This distributed debugging is highly complex even in a moderately-sized network. Batfish makes this task extremely simple by providing an easy-to-use queries.\n",
    "\n",
    "In this notebook, we will look at how you can perform path analysis with Batfish.\n",
    "\n",
    "![Analytics](https://ga-beacon.appspot.com/UA-100596389-3/open-source/pybatfish/jupyter_notebooks/intro-path-analysis?pixel&useReferer)"
   ]
  },
  {
   "cell_type": "code",
   "execution_count": 1,
   "metadata": {},
   "outputs": [
    {
     "name": "stderr",
     "output_type": "stream",
     "text": [
      "/Users/victor/pybatfish/pybatfish/client/commands.py:49: UserWarning: Pybatfish public API is being updated, note that API names and parameters will soon change.\n",
      "  \"Pybatfish public API is being updated, note that API names and parameters will soon change.\")\n"
     ]
    }
   ],
   "source": [
    "# Import packages and load questions\n",
    "%run startup.py"
   ]
  },
  {
   "cell_type": "markdown",
   "metadata": {},
   "source": [
    " ### Initializing the Network and Snapshot"
   ]
  },
  {
   "cell_type": "markdown",
   "metadata": {},
   "source": [
    "`SNAPSHOT_PATH` below can be updated to point to a custom snapshot directory, see the [Batfish instructions](https://github.com/batfish/batfish/wiki/Packaging-snapshots-for-analysis) for how to package data for analysis.<br>\n",
    "More example networks are available in the [networks](https://github.com/batfish/batfish/tree/master/networks) folder of the Batfish repository."
   ]
  },
  {
   "cell_type": "code",
   "execution_count": 2,
   "metadata": {},
   "outputs": [
    {
     "data": {
      "text/plain": [
       "'example_snapshot'"
      ]
     },
     "execution_count": 2,
     "metadata": {},
     "output_type": "execute_result"
    }
   ],
   "source": [
    "# Initialize a network and snapshot\n",
    "NETWORK_NAME = \"example_network\"\n",
    "SNAPSHOT_NAME = \"example_snapshot\"\n",
    "\n",
    "SNAPSHOT_PATH = \"networks/example\"\n",
    "\n",
    "bf_set_network(NETWORK_NAME)\n",
    "bf_init_snapshot(SNAPSHOT_PATH, name=SNAPSHOT_NAME, overwrite=True)"
   ]
  },
  {
   "cell_type": "markdown",
   "metadata": {},
   "source": [
    "The network snapshot that we initialized above is illustrated below. You can download/view devices' configuration files [here](https://github.com/batfish/pybatfish/tree/master/jupyter_notebooks/networks/example).\n",
    "\n",
    "![example-network](https://raw.githubusercontent.com/batfish/pybatfish/master/jupyter_notebooks/networks/example/example-network.png)"
   ]
  },
  {
   "cell_type": "markdown",
   "metadata": {},
   "source": [
    "All of the information we will show you in this notebook is dynamically computed by Batfish based on the configuration files for the network devices."
   ]
  },
  {
   "cell_type": "markdown",
   "metadata": {},
   "source": [
    "### Find the path taken by AS3 Core routers to reach host1, the DNS Server in AS2"
   ]
  },
  {
   "cell_type": "markdown",
   "metadata": {},
   "source": [
    "To do this, we will use the `traceroute` question in Batfish. The question has a lot of parameters that you can specify, but we will start with the simple case."
   ]
  },
  {
   "cell_type": "markdown",
   "metadata": {},
   "source": [
    "By specifying `dst = \"host1\"` BF will automatically pick the IP address for host1 as the destination IP address for the question. If `host1` had multiple interfaces and IP address, Batfish would pick one. Further in the notebook, we will cover how you can explicitly control which of the addresses it will choose."
   ]
  },
  {
   "cell_type": "markdown",
   "metadata": {},
   "source": [
    "We want the query to start from the `Loopback0` interface on `as3core1`, and we want to use the IP address of that interface as the source address. We can accomplish both of these goals by specifying the correct value as `traceStart`. Setting `traceStart` to `as3core1[Loopback0]` tells Batfish to start the traceroute at `as3core1` with the IP address of `Loopback0` as the source IP"
   ]
  },
  {
   "cell_type": "code",
   "execution_count": 3,
   "metadata": {},
   "outputs": [
    {
     "name": "stdout",
     "output_type": "stream",
     "text": [
      "Index(['Flow', 'Traces'], dtype='object')\n",
      "1\n"
     ]
    }
   ],
   "source": [
    "# start the traceroute from the Loopback0 interface of as3core1 to host1\n",
    "tracert = bfq.traceroute(startLocation=\"as3core1[Loopback0]\", headers=HeaderConstraints(dstIps='ofLocation(host1)')).answer().frame()\n",
    "print(tracert.columns)\n",
    "print(len(tracert))"
   ]
  },
  {
   "cell_type": "markdown",
   "metadata": {},
   "source": [
    "Let's take a look at the results of the query. "
   ]
  },
  {
   "cell_type": "markdown",
   "metadata": {},
   "source": [
    "Compared to running traceroute from an actual node in your network, Batfish returns additional information:\n",
    "1. All active parallel paths between the source and destination\n",
    "2. The reason why each hop in a path is taken (the specific routing entry that was matched)\n",
    "3. Disposition of the packet for each path"
   ]
  },
  {
   "cell_type": "markdown",
   "metadata": {},
   "source": [
    "First, lets find out how many parallel active paths are present between the source and destination"
   ]
  },
  {
   "cell_type": "code",
   "execution_count": 4,
   "metadata": {},
   "outputs": [
    {
     "name": "stdout",
     "output_type": "stream",
     "text": [
      "Number of active paths between source and destination: 4\n"
     ]
    }
   ],
   "source": [
    "# number of paths between as3core1 and host1\n",
    "path_count = len(tracert['Traces'][0])\n",
    "print(\"Number of active paths between source and destination: {}\".format(path_count))"
   ]
  },
  {
   "cell_type": "markdown",
   "metadata": {},
   "source": [
    "Now let's take a look at one of those paths in more detail. Let's start with the first path"
   ]
  },
  {
   "cell_type": "code",
   "execution_count": 5,
   "metadata": {},
   "outputs": [
    {
     "data": {
      "text/html": [
       "<span style=\"color:#7c020e; text-weight:bold;\">DENIED_IN{filter::INPUT}{default}</span><br><strong>1</strong> as3core1:GigabitEthernet1/0 &rarr; as3border1:GigabitEthernet0/0<br>Route(s):<br>&nbsp;&nbsp;&nbsp;&nbsp;BgpRoute&lt;2.128.0.0/16,nhip:10.23.21.2,nhint:dynamic&gt;_fnhip:3.0.1.1<br><br><strong>2</strong> as3border1:GigabitEthernet1/0 &rarr; as2border2:GigabitEthernet0/0<br>Route(s):<br>&nbsp;&nbsp;&nbsp;&nbsp;BgpRoute&lt;2.128.0.0/16,nhip:10.23.21.2,nhint:dynamic&gt;_fnhip:10.23.21.2<br><br><strong>3</strong> as2border2:GigabitEthernet1/0 &rarr; as2core2:GigabitEthernet0/0<br>Route(s):<br>&nbsp;&nbsp;&nbsp;&nbsp;BgpRoute&lt;2.128.0.0/24,nhip:2.34.101.4,nhint:dynamic&gt;_fnhip:2.12.22.2<br>&nbsp;&nbsp;&nbsp;&nbsp;BgpRoute&lt;2.128.0.0/24,nhip:2.34.201.4,nhint:dynamic&gt;_fnhip:2.12.22.2<br><br><strong>4</strong> as2core2:GigabitEthernet2/0 &rarr; as2dist2:GigabitEthernet0/0<br>Route(s):<br>&nbsp;&nbsp;&nbsp;&nbsp;BgpRoute&lt;2.128.0.0/24,nhip:2.34.201.4,nhint:dynamic&gt;_fnhip:2.23.22.3<br><br><strong>5</strong> as2dist2:GigabitEthernet2/0 &rarr; as2dept1:GigabitEthernet1/0<br>Route(s):<br>&nbsp;&nbsp;&nbsp;&nbsp;BgpRoute&lt;2.128.0.0/24,nhip:2.34.201.4,nhint:dynamic&gt;_fnhip:2.34.201.4<br><br><strong>6</strong> as2dept1:GigabitEthernet2/0 &rarr; host1:eth0<br>Route(s):<br>&nbsp;&nbsp;&nbsp;&nbsp;ConnectedRoute&lt;2.128.0.0/24,nhip:AUTO/NONE(-1l),nhint:GigabitEthernet2/0&gt;_fnhip:null"
      ],
      "text/plain": [
       "FlowTrace(disposition='DENIED_IN', hops=[FlowTraceHop(edge=Edge(node1='as3core1', node1interface='GigabitEthernet1/0', node2='as3border1', node2interface='GigabitEthernet0/0'), routes=['BgpRoute<2.128.0.0/16,nhip:10.23.21.2,nhint:dynamic>_fnhip:3.0.1.1'], transformedFlow=None), FlowTraceHop(edge=Edge(node1='as3border1', node1interface='GigabitEthernet1/0', node2='as2border2', node2interface='GigabitEthernet0/0'), routes=['BgpRoute<2.128.0.0/16,nhip:10.23.21.2,nhint:dynamic>_fnhip:10.23.21.2'], transformedFlow=None), FlowTraceHop(edge=Edge(node1='as2border2', node1interface='GigabitEthernet1/0', node2='as2core2', node2interface='GigabitEthernet0/0'), routes=['BgpRoute<2.128.0.0/24,nhip:2.34.101.4,nhint:dynamic>_fnhip:2.12.22.2', 'BgpRoute<2.128.0.0/24,nhip:2.34.201.4,nhint:dynamic>_fnhip:2.12.22.2'], transformedFlow=None), FlowTraceHop(edge=Edge(node1='as2core2', node1interface='GigabitEthernet2/0', node2='as2dist2', node2interface='GigabitEthernet0/0'), routes=['BgpRoute<2.128.0.0/24,nhip:2.34.201.4,nhint:dynamic>_fnhip:2.23.22.3'], transformedFlow=None), FlowTraceHop(edge=Edge(node1='as2dist2', node1interface='GigabitEthernet2/0', node2='as2dept1', node2interface='GigabitEthernet1/0'), routes=['BgpRoute<2.128.0.0/24,nhip:2.34.201.4,nhint:dynamic>_fnhip:2.34.201.4'], transformedFlow=None), FlowTraceHop(edge=Edge(node1='as2dept1', node1interface='GigabitEthernet2/0', node2='host1', node2interface='eth0'), routes=['ConnectedRoute<2.128.0.0/24,nhip:AUTO/NONE(-1l),nhint:GigabitEthernet2/0>_fnhip:null'], transformedFlow=None)], notes='DENIED_IN{filter::INPUT}{default}')"
      ]
     },
     "metadata": {},
     "output_type": "display_data"
    }
   ],
   "source": [
    "# path number we want to see\n",
    "num_path = 0\n",
    "# print the hops for the first trace\n",
    "path = tracert['Traces'][0][num_path]\n",
    "display(path)"
   ]
  },
  {
   "cell_type": "markdown",
   "metadata": {},
   "source": [
    "Let's look at this table in a bit more detail. It has the following columns:\n",
    "1. `edge`: This is telling you the link that the packet traverses\n",
    "2. `filterIn`: This tells you the name of any input filter that is applied on the input interface of the 2nd node in the `edge`\n",
    "3. `routes`: This tells you the exact route on the first node in the `edge` that caused the packet to traverse that `edge`"
   ]
  },
  {
   "cell_type": "markdown",
   "metadata": {},
   "source": [
    "What we see from the above output is that the packet was delivered to `host1` interface `eth0` by the node `as2dept1` from interface `GigabitEthernet2/0`. So now let's see what happened to the packet at `host1`"
   ]
  },
  {
   "cell_type": "code",
   "execution_count": 6,
   "metadata": {},
   "outputs": [
    {
     "name": "stdout",
     "output_type": "stream",
     "text": [
      "Traceroute disposition was: DENIED_IN\n"
     ]
    }
   ],
   "source": [
    "print(\"Traceroute disposition was: {}\".format(path.disposition))"
   ]
  },
  {
   "cell_type": "markdown",
   "metadata": {},
   "source": [
    "The packet was `DENIED_IN`, which means that the input filter on the host denied the packet. Let's determine the name of the filter and the specific rule that matched the packet"
   ]
  },
  {
   "cell_type": "code",
   "execution_count": 7,
   "metadata": {},
   "outputs": [
    {
     "name": "stdout",
     "output_type": "stream",
     "text": [
      "Details about packet disposition: DENIED_IN{filter::INPUT}{default}\n"
     ]
    }
   ],
   "source": [
    "print(\"Details about packet disposition: {}\".format(path.notes))"
   ]
  },
  {
   "cell_type": "markdown",
   "metadata": {},
   "source": [
    "## Abstract path analysis (reachability)\n"
   ]
  },
  {
   "cell_type": "markdown",
   "metadata": {},
   "source": [
    "Traceroute allows you to find the paths taken by a specified flow through the network, as computed by Batfish. This is very useful in analyzing a connectivity issue."
   ]
  },
  {
   "cell_type": "markdown",
   "metadata": {},
   "source": [
    "Batfish has an even more powerful query, `reachability`, that will allow you to explore the network in a more abstract fashion. This is very useful \n",
    "when you want to build a set of tests for the network to ensure security and reliability."
   ]
  },
  {
   "cell_type": "markdown",
   "metadata": {},
   "source": [
    "The `reachability` question allows you to find those needle in the haystack issues. If you want to find potential flows that will be `DROPPED` or `ACCEPTED` in the network, without advanced knowledge of the `header space (srcIp, dstIp, IpProtocol, srcPort, dstPort)` then `reachability` is the way to go."
   ]
  },
  {
   "cell_type": "markdown",
   "metadata": {},
   "source": [
    "Let's take the same start location, but instead of analyzing traffic to host1, let's analyze traffic for any host in the same subnet.\n",
    "That subnet is connected to `as2dept1` interface `GigabitEthernet2/0`."
   ]
  },
  {
   "cell_type": "markdown",
   "metadata": {},
   "source": [
    "And instead of using the IP address of `as3core1` interface `Loopback0`, we will analyze the entire IPv4 address space"
   ]
  },
  {
   "cell_type": "code",
   "execution_count": 8,
   "metadata": {},
   "outputs": [
    {
     "data": {
      "text/html": [
       "<style  type=\"text/css\" >\n",
       "    #T_f0b5a12a_d1d1_11e8_9065_8c85902fd849row0_col0 {\n",
       "            text-align:  left;\n",
       "            vertical-align:  top;\n",
       "        }    #T_f0b5a12a_d1d1_11e8_9065_8c85902fd849row0_col1 {\n",
       "            text-align:  left;\n",
       "            vertical-align:  top;\n",
       "        }    #T_f0b5a12a_d1d1_11e8_9065_8c85902fd849row1_col0 {\n",
       "            text-align:  left;\n",
       "            vertical-align:  top;\n",
       "        }    #T_f0b5a12a_d1d1_11e8_9065_8c85902fd849row1_col1 {\n",
       "            text-align:  left;\n",
       "            vertical-align:  top;\n",
       "        }    #T_f0b5a12a_d1d1_11e8_9065_8c85902fd849row2_col0 {\n",
       "            text-align:  left;\n",
       "            vertical-align:  top;\n",
       "        }    #T_f0b5a12a_d1d1_11e8_9065_8c85902fd849row2_col1 {\n",
       "            text-align:  left;\n",
       "            vertical-align:  top;\n",
       "        }    #T_f0b5a12a_d1d1_11e8_9065_8c85902fd849row3_col0 {\n",
       "            text-align:  left;\n",
       "            vertical-align:  top;\n",
       "        }    #T_f0b5a12a_d1d1_11e8_9065_8c85902fd849row3_col1 {\n",
       "            text-align:  left;\n",
       "            vertical-align:  top;\n",
       "        }    #T_f0b5a12a_d1d1_11e8_9065_8c85902fd849row4_col0 {\n",
       "            text-align:  left;\n",
       "            vertical-align:  top;\n",
       "        }    #T_f0b5a12a_d1d1_11e8_9065_8c85902fd849row4_col1 {\n",
       "            text-align:  left;\n",
       "            vertical-align:  top;\n",
       "        }</style>  \n",
       "<table id=\"T_f0b5a12a_d1d1_11e8_9065_8c85902fd849\" > \n",
       "<thead>    <tr> \n",
       "        <th class=\"blank level0\" ></th> \n",
       "        <th class=\"col_heading level0 col0\" >Flow</th> \n",
       "        <th class=\"col_heading level0 col1\" >Traces</th> \n",
       "    </tr></thead> \n",
       "<tbody>    <tr> \n",
       "        <th id=\"T_f0b5a12a_d1d1_11e8_9065_8c85902fd849level0_row0\" class=\"row_heading level0 row0\" >0</th> \n",
       "        <td id=\"T_f0b5a12a_d1d1_11e8_9065_8c85902fd849row0_col0\" class=\"data row0 col0\" >2.0.0.0:0 &rarr; 2.128.0.1:0<br>start=as3core1 interface=GigabitEthernet0/0 vrf=None</td> \n",
       "        <td id=\"T_f0b5a12a_d1d1_11e8_9065_8c85902fd849row0_col1\" class=\"data row0 col1\" ><span style=\"color:#7c020e; text-weight:bold;\">DENIED_IN{OUTSIDE_TO_INSIDE}{deny   ip 2.0.0.0 0.255.255.255 any}</span><br><strong>1</strong> traceroute_source_node:traceroute_source_interface &rarr; as3core1:GigabitEthernet0/0<br>Route(s):<br>&nbsp;&nbsp;&nbsp;&nbsp;<br><br><strong>2</strong> as3core1:GigabitEthernet1/0 &rarr; as3border1:GigabitEthernet0/0<br>Route(s):<br>&nbsp;&nbsp;&nbsp;&nbsp;BgpRoute&lt;2.128.0.0/16,nhip:10.23.21.2,nhint:dynamic&gt;_fnhip:3.0.1.1<br><br><strong>3</strong> as3border1:GigabitEthernet1/0 &rarr; as2border2:GigabitEthernet0/0<br>Route(s):<br>&nbsp;&nbsp;&nbsp;&nbsp;BgpRoute&lt;2.128.0.0/16,nhip:10.23.21.2,nhint:dynamic&gt;_fnhip:10.23.21.2</td> \n",
       "    </tr>    <tr> \n",
       "        <th id=\"T_f0b5a12a_d1d1_11e8_9065_8c85902fd849level0_row1\" class=\"row_heading level0 row1\" >1</th> \n",
       "        <td id=\"T_f0b5a12a_d1d1_11e8_9065_8c85902fd849row1_col0\" class=\"data row1 col0\" >2.0.0.0:0 &rarr; 2.128.0.1:0<br>start=as3core1 interface=GigabitEthernet1/0 vrf=None</td> \n",
       "        <td id=\"T_f0b5a12a_d1d1_11e8_9065_8c85902fd849row1_col1\" class=\"data row1 col1\" ><span style=\"color:#7c020e; text-weight:bold;\">DENIED_IN{OUTSIDE_TO_INSIDE}{deny   ip 2.0.0.0 0.255.255.255 any}</span><br><strong>1</strong> traceroute_source_node:traceroute_source_interface &rarr; as3core1:GigabitEthernet1/0<br>Route(s):<br>&nbsp;&nbsp;&nbsp;&nbsp;<br><br><strong>2</strong> as3core1:GigabitEthernet1/0 &rarr; as3border1:GigabitEthernet0/0<br>Route(s):<br>&nbsp;&nbsp;&nbsp;&nbsp;BgpRoute&lt;2.128.0.0/16,nhip:10.23.21.2,nhint:dynamic&gt;_fnhip:3.0.1.1<br><br><strong>3</strong> as3border1:GigabitEthernet1/0 &rarr; as2border2:GigabitEthernet0/0<br>Route(s):<br>&nbsp;&nbsp;&nbsp;&nbsp;BgpRoute&lt;2.128.0.0/16,nhip:10.23.21.2,nhint:dynamic&gt;_fnhip:10.23.21.2</td> \n",
       "    </tr>    <tr> \n",
       "        <th id=\"T_f0b5a12a_d1d1_11e8_9065_8c85902fd849level0_row2\" class=\"row_heading level0 row2\" >2</th> \n",
       "        <td id=\"T_f0b5a12a_d1d1_11e8_9065_8c85902fd849row2_col0\" class=\"data row2 col0\" >2.0.0.0:0 &rarr; 2.128.0.1:0<br>start=as3core1 interface=GigabitEthernet2/0 vrf=None</td> \n",
       "        <td id=\"T_f0b5a12a_d1d1_11e8_9065_8c85902fd849row2_col1\" class=\"data row2 col1\" ><span style=\"color:#7c020e; text-weight:bold;\">DENIED_IN{OUTSIDE_TO_INSIDE}{deny   ip 2.0.0.0 0.255.255.255 any}</span><br><strong>1</strong> traceroute_source_node:traceroute_source_interface &rarr; as3core1:GigabitEthernet2/0<br>Route(s):<br>&nbsp;&nbsp;&nbsp;&nbsp;<br><br><strong>2</strong> as3core1:GigabitEthernet1/0 &rarr; as3border1:GigabitEthernet0/0<br>Route(s):<br>&nbsp;&nbsp;&nbsp;&nbsp;BgpRoute&lt;2.128.0.0/16,nhip:10.23.21.2,nhint:dynamic&gt;_fnhip:3.0.1.1<br><br><strong>3</strong> as3border1:GigabitEthernet1/0 &rarr; as2border2:GigabitEthernet0/0<br>Route(s):<br>&nbsp;&nbsp;&nbsp;&nbsp;BgpRoute&lt;2.128.0.0/16,nhip:10.23.21.2,nhint:dynamic&gt;_fnhip:10.23.21.2</td> \n",
       "    </tr>    <tr> \n",
       "        <th id=\"T_f0b5a12a_d1d1_11e8_9065_8c85902fd849level0_row3\" class=\"row_heading level0 row3\" >3</th> \n",
       "        <td id=\"T_f0b5a12a_d1d1_11e8_9065_8c85902fd849row3_col0\" class=\"data row3 col0\" >2.0.0.0:0 &rarr; 2.128.0.1:0<br>start=as3core1 interface=GigabitEthernet3/0 vrf=None</td> \n",
       "        <td id=\"T_f0b5a12a_d1d1_11e8_9065_8c85902fd849row3_col1\" class=\"data row3 col1\" ><span style=\"color:#7c020e; text-weight:bold;\">DENIED_IN{OUTSIDE_TO_INSIDE}{deny   ip 2.0.0.0 0.255.255.255 any}</span><br><strong>1</strong> traceroute_source_node:traceroute_source_interface &rarr; as3core1:GigabitEthernet3/0<br>Route(s):<br>&nbsp;&nbsp;&nbsp;&nbsp;<br><br><strong>2</strong> as3core1:GigabitEthernet1/0 &rarr; as3border1:GigabitEthernet0/0<br>Route(s):<br>&nbsp;&nbsp;&nbsp;&nbsp;BgpRoute&lt;2.128.0.0/16,nhip:10.23.21.2,nhint:dynamic&gt;_fnhip:3.0.1.1<br><br><strong>3</strong> as3border1:GigabitEthernet1/0 &rarr; as2border2:GigabitEthernet0/0<br>Route(s):<br>&nbsp;&nbsp;&nbsp;&nbsp;BgpRoute&lt;2.128.0.0/16,nhip:10.23.21.2,nhint:dynamic&gt;_fnhip:10.23.21.2</td> \n",
       "    </tr>    <tr> \n",
       "        <th id=\"T_f0b5a12a_d1d1_11e8_9065_8c85902fd849level0_row4\" class=\"row_heading level0 row4\" >4</th> \n",
       "        <td id=\"T_f0b5a12a_d1d1_11e8_9065_8c85902fd849row4_col0\" class=\"data row4 col0\" >2.0.0.0:0 &rarr; 2.128.0.1:0<br>start=as3core1 interface=Loopback0 vrf=None</td> \n",
       "        <td id=\"T_f0b5a12a_d1d1_11e8_9065_8c85902fd849row4_col1\" class=\"data row4 col1\" ><span style=\"color:#7c020e; text-weight:bold;\">DENIED_IN{OUTSIDE_TO_INSIDE}{deny   ip 2.0.0.0 0.255.255.255 any}</span><br><strong>1</strong> traceroute_source_node:traceroute_source_interface &rarr; as3core1:Loopback0<br>Route(s):<br>&nbsp;&nbsp;&nbsp;&nbsp;<br><br><strong>2</strong> as3core1:GigabitEthernet1/0 &rarr; as3border1:GigabitEthernet0/0<br>Route(s):<br>&nbsp;&nbsp;&nbsp;&nbsp;BgpRoute&lt;2.128.0.0/16,nhip:10.23.21.2,nhint:dynamic&gt;_fnhip:3.0.1.1<br><br><strong>3</strong> as3border1:GigabitEthernet1/0 &rarr; as2border2:GigabitEthernet0/0<br>Route(s):<br>&nbsp;&nbsp;&nbsp;&nbsp;BgpRoute&lt;2.128.0.0/16,nhip:10.23.21.2,nhint:dynamic&gt;_fnhip:10.23.21.2</td> \n",
       "    </tr></tbody> \n",
       "</table> "
      ],
      "text/plain": [
       "<pandas.io.formats.style.Styler at 0x114438c18>"
      ]
     },
     "metadata": {},
     "output_type": "display_data"
    }
   ],
   "source": [
    "path = PathConstraints(startLocation=\"enter(as3core1)\")\n",
    "headers = HeaderConstraints(srcIps=\"0.0.0.0/0\", dstIps=\"ofLocation(as2dept1[GigabitEthernet2/0])\")\n",
    "reach = bfq.reachability(pathConstraints=path, headers=headers, actions=\"failure\").answer().frame()\n",
    "display_html(reach)\n",
    "# reach"
   ]
  },
  {
   "cell_type": "markdown",
   "metadata": {},
   "source": [
    "Now, what if we wanted to know what flows that are not generated by sources in your network, would be able to reach `host1`, we would run the following `reachability` query"
   ]
  },
  {
   "cell_type": "code",
   "execution_count": 9,
   "metadata": {},
   "outputs": [
    {
     "data": {
      "text/html": [
       "<style  type=\"text/css\" >\n",
       "    #T_f15c1028_d1d1_11e8_9065_8c85902fd849row0_col0 {\n",
       "            text-align:  left;\n",
       "            vertical-align:  top;\n",
       "        }    #T_f15c1028_d1d1_11e8_9065_8c85902fd849row0_col1 {\n",
       "            text-align:  left;\n",
       "            vertical-align:  top;\n",
       "        }    #T_f15c1028_d1d1_11e8_9065_8c85902fd849row1_col0 {\n",
       "            text-align:  left;\n",
       "            vertical-align:  top;\n",
       "        }    #T_f15c1028_d1d1_11e8_9065_8c85902fd849row1_col1 {\n",
       "            text-align:  left;\n",
       "            vertical-align:  top;\n",
       "        }</style>  \n",
       "<table id=\"T_f15c1028_d1d1_11e8_9065_8c85902fd849\" > \n",
       "<thead>    <tr> \n",
       "        <th class=\"blank level0\" ></th> \n",
       "        <th class=\"col_heading level0 col0\" >Flow</th> \n",
       "        <th class=\"col_heading level0 col1\" >Traces</th> \n",
       "    </tr></thead> \n",
       "<tbody>    <tr> \n",
       "        <th id=\"T_f15c1028_d1d1_11e8_9065_8c85902fd849level0_row0\" class=\"row_heading level0 row0\" >0</th> \n",
       "        <td id=\"T_f15c1028_d1d1_11e8_9065_8c85902fd849row0_col0\" class=\"data row0 col0\" >0.0.0.0:0 &rarr; 2.128.0.101:0<br>start=as2border1</td> \n",
       "        <td id=\"T_f15c1028_d1d1_11e8_9065_8c85902fd849row0_col1\" class=\"data row0 col1\" ><span style=\"color:#7c020e; text-weight:bold;\">DENIED_IN{filter::INPUT}{default}</span><br><strong>1</strong> as2border1:GigabitEthernet1/0 &rarr; as2core1:GigabitEthernet0/0<br>Route(s):<br>&nbsp;&nbsp;&nbsp;&nbsp;BgpRoute&lt;2.128.0.0/24,nhip:2.34.101.4,nhint:dynamic&gt;_fnhip:2.12.11.2<br>&nbsp;&nbsp;&nbsp;&nbsp;BgpRoute&lt;2.128.0.0/24,nhip:2.34.201.4,nhint:dynamic&gt;_fnhip:2.12.11.2<br><br><strong>2</strong> as2core1:GigabitEthernet2/0 &rarr; as2dist1:GigabitEthernet0/0<br>Route(s):<br>&nbsp;&nbsp;&nbsp;&nbsp;BgpRoute&lt;2.128.0.0/24,nhip:2.34.101.4,nhint:dynamic&gt;_fnhip:2.23.11.3<br><br><strong>3</strong> as2dist1:GigabitEthernet2/0 &rarr; as2dept1:GigabitEthernet0/0<br>Route(s):<br>&nbsp;&nbsp;&nbsp;&nbsp;BgpRoute&lt;2.128.0.0/24,nhip:2.34.101.4,nhint:dynamic&gt;_fnhip:2.34.101.4<br><br><strong>4</strong> as2dept1:GigabitEthernet2/0 &rarr; host1:eth0<br>Route(s):<br>&nbsp;&nbsp;&nbsp;&nbsp;ConnectedRoute&lt;2.128.0.0/24,nhip:AUTO/NONE(-1l),nhint:GigabitEthernet2/0&gt;_fnhip:null<br><br><span style=\"color:#7c020e; text-weight:bold;\">DENIED_IN{filter::INPUT}{default}</span><br><strong>1</strong> as2border1:GigabitEthernet1/0 &rarr; as2core1:GigabitEthernet0/0<br>Route(s):<br>&nbsp;&nbsp;&nbsp;&nbsp;BgpRoute&lt;2.128.0.0/24,nhip:2.34.101.4,nhint:dynamic&gt;_fnhip:2.12.11.2<br>&nbsp;&nbsp;&nbsp;&nbsp;BgpRoute&lt;2.128.0.0/24,nhip:2.34.201.4,nhint:dynamic&gt;_fnhip:2.12.11.2<br><br><strong>2</strong> as2core1:GigabitEthernet3/0 &rarr; as2dist2:GigabitEthernet1/0<br>Route(s):<br>&nbsp;&nbsp;&nbsp;&nbsp;BgpRoute&lt;2.128.0.0/24,nhip:2.34.201.4,nhint:dynamic&gt;_fnhip:2.23.12.3<br><br><strong>3</strong> as2dist2:GigabitEthernet2/0 &rarr; as2dept1:GigabitEthernet1/0<br>Route(s):<br>&nbsp;&nbsp;&nbsp;&nbsp;BgpRoute&lt;2.128.0.0/24,nhip:2.34.201.4,nhint:dynamic&gt;_fnhip:2.34.201.4<br><br><strong>4</strong> as2dept1:GigabitEthernet2/0 &rarr; host1:eth0<br>Route(s):<br>&nbsp;&nbsp;&nbsp;&nbsp;ConnectedRoute&lt;2.128.0.0/24,nhip:AUTO/NONE(-1l),nhint:GigabitEthernet2/0&gt;_fnhip:null<br><br><span style=\"color:#7c020e; text-weight:bold;\">DENIED_IN{filter::INPUT}{default}</span><br><strong>1</strong> as2border1:GigabitEthernet2/0 &rarr; as2core2:GigabitEthernet1/0<br>Route(s):<br>&nbsp;&nbsp;&nbsp;&nbsp;BgpRoute&lt;2.128.0.0/24,nhip:2.34.101.4,nhint:dynamic&gt;_fnhip:2.12.12.2<br>&nbsp;&nbsp;&nbsp;&nbsp;BgpRoute&lt;2.128.0.0/24,nhip:2.34.201.4,nhint:dynamic&gt;_fnhip:2.12.12.2<br><br><strong>2</strong> as2core2:GigabitEthernet2/0 &rarr; as2dist2:GigabitEthernet0/0<br>Route(s):<br>&nbsp;&nbsp;&nbsp;&nbsp;BgpRoute&lt;2.128.0.0/24,nhip:2.34.201.4,nhint:dynamic&gt;_fnhip:2.23.22.3<br><br><strong>3</strong> as2dist2:GigabitEthernet2/0 &rarr; as2dept1:GigabitEthernet1/0<br>Route(s):<br>&nbsp;&nbsp;&nbsp;&nbsp;BgpRoute&lt;2.128.0.0/24,nhip:2.34.201.4,nhint:dynamic&gt;_fnhip:2.34.201.4<br><br><strong>4</strong> as2dept1:GigabitEthernet2/0 &rarr; host1:eth0<br>Route(s):<br>&nbsp;&nbsp;&nbsp;&nbsp;ConnectedRoute&lt;2.128.0.0/24,nhip:AUTO/NONE(-1l),nhint:GigabitEthernet2/0&gt;_fnhip:null<br><br><span style=\"color:#7c020e; text-weight:bold;\">DENIED_IN{filter::INPUT}{default}</span><br><strong>1</strong> as2border1:GigabitEthernet2/0 &rarr; as2core2:GigabitEthernet1/0<br>Route(s):<br>&nbsp;&nbsp;&nbsp;&nbsp;BgpRoute&lt;2.128.0.0/24,nhip:2.34.101.4,nhint:dynamic&gt;_fnhip:2.12.12.2<br>&nbsp;&nbsp;&nbsp;&nbsp;BgpRoute&lt;2.128.0.0/24,nhip:2.34.201.4,nhint:dynamic&gt;_fnhip:2.12.12.2<br><br><strong>2</strong> as2core2:GigabitEthernet3/0 &rarr; as2dist1:GigabitEthernet1/0<br>Route(s):<br>&nbsp;&nbsp;&nbsp;&nbsp;BgpRoute&lt;2.128.0.0/24,nhip:2.34.101.4,nhint:dynamic&gt;_fnhip:2.23.21.3<br><br><strong>3</strong> as2dist1:GigabitEthernet2/0 &rarr; as2dept1:GigabitEthernet0/0<br>Route(s):<br>&nbsp;&nbsp;&nbsp;&nbsp;BgpRoute&lt;2.128.0.0/24,nhip:2.34.101.4,nhint:dynamic&gt;_fnhip:2.34.101.4<br><br><strong>4</strong> as2dept1:GigabitEthernet2/0 &rarr; host1:eth0<br>Route(s):<br>&nbsp;&nbsp;&nbsp;&nbsp;ConnectedRoute&lt;2.128.0.0/24,nhip:AUTO/NONE(-1l),nhint:GigabitEthernet2/0&gt;_fnhip:null</td> \n",
       "    </tr>    <tr> \n",
       "        <th id=\"T_f15c1028_d1d1_11e8_9065_8c85902fd849level0_row1\" class=\"row_heading level0 row1\" >1</th> \n",
       "        <td id=\"T_f15c1028_d1d1_11e8_9065_8c85902fd849row1_col0\" class=\"data row1 col0\" >0.0.0.0:0 &rarr; 2.128.0.101:0<br>start=as2border2</td> \n",
       "        <td id=\"T_f15c1028_d1d1_11e8_9065_8c85902fd849row1_col1\" class=\"data row1 col1\" ><span style=\"color:#7c020e; text-weight:bold;\">DENIED_IN{filter::INPUT}{default}</span><br><strong>1</strong> as2border2:GigabitEthernet1/0 &rarr; as2core2:GigabitEthernet0/0<br>Route(s):<br>&nbsp;&nbsp;&nbsp;&nbsp;BgpRoute&lt;2.128.0.0/24,nhip:2.34.101.4,nhint:dynamic&gt;_fnhip:2.12.22.2<br>&nbsp;&nbsp;&nbsp;&nbsp;BgpRoute&lt;2.128.0.0/24,nhip:2.34.201.4,nhint:dynamic&gt;_fnhip:2.12.22.2<br><br><strong>2</strong> as2core2:GigabitEthernet2/0 &rarr; as2dist2:GigabitEthernet0/0<br>Route(s):<br>&nbsp;&nbsp;&nbsp;&nbsp;BgpRoute&lt;2.128.0.0/24,nhip:2.34.201.4,nhint:dynamic&gt;_fnhip:2.23.22.3<br><br><strong>3</strong> as2dist2:GigabitEthernet2/0 &rarr; as2dept1:GigabitEthernet1/0<br>Route(s):<br>&nbsp;&nbsp;&nbsp;&nbsp;BgpRoute&lt;2.128.0.0/24,nhip:2.34.201.4,nhint:dynamic&gt;_fnhip:2.34.201.4<br><br><strong>4</strong> as2dept1:GigabitEthernet2/0 &rarr; host1:eth0<br>Route(s):<br>&nbsp;&nbsp;&nbsp;&nbsp;ConnectedRoute&lt;2.128.0.0/24,nhip:AUTO/NONE(-1l),nhint:GigabitEthernet2/0&gt;_fnhip:null<br><br><span style=\"color:#7c020e; text-weight:bold;\">DENIED_IN{filter::INPUT}{default}</span><br><strong>1</strong> as2border2:GigabitEthernet1/0 &rarr; as2core2:GigabitEthernet0/0<br>Route(s):<br>&nbsp;&nbsp;&nbsp;&nbsp;BgpRoute&lt;2.128.0.0/24,nhip:2.34.101.4,nhint:dynamic&gt;_fnhip:2.12.22.2<br>&nbsp;&nbsp;&nbsp;&nbsp;BgpRoute&lt;2.128.0.0/24,nhip:2.34.201.4,nhint:dynamic&gt;_fnhip:2.12.22.2<br><br><strong>2</strong> as2core2:GigabitEthernet3/0 &rarr; as2dist1:GigabitEthernet1/0<br>Route(s):<br>&nbsp;&nbsp;&nbsp;&nbsp;BgpRoute&lt;2.128.0.0/24,nhip:2.34.101.4,nhint:dynamic&gt;_fnhip:2.23.21.3<br><br><strong>3</strong> as2dist1:GigabitEthernet2/0 &rarr; as2dept1:GigabitEthernet0/0<br>Route(s):<br>&nbsp;&nbsp;&nbsp;&nbsp;BgpRoute&lt;2.128.0.0/24,nhip:2.34.101.4,nhint:dynamic&gt;_fnhip:2.34.101.4<br><br><strong>4</strong> as2dept1:GigabitEthernet2/0 &rarr; host1:eth0<br>Route(s):<br>&nbsp;&nbsp;&nbsp;&nbsp;ConnectedRoute&lt;2.128.0.0/24,nhip:AUTO/NONE(-1l),nhint:GigabitEthernet2/0&gt;_fnhip:null<br><br><span style=\"color:#7c020e; text-weight:bold;\">DENIED_IN{filter::INPUT}{default}</span><br><strong>1</strong> as2border2:GigabitEthernet2/0 &rarr; as2core1:GigabitEthernet1/0<br>Route(s):<br>&nbsp;&nbsp;&nbsp;&nbsp;BgpRoute&lt;2.128.0.0/24,nhip:2.34.101.4,nhint:dynamic&gt;_fnhip:2.12.21.2<br>&nbsp;&nbsp;&nbsp;&nbsp;BgpRoute&lt;2.128.0.0/24,nhip:2.34.201.4,nhint:dynamic&gt;_fnhip:2.12.21.2<br><br><strong>2</strong> as2core1:GigabitEthernet2/0 &rarr; as2dist1:GigabitEthernet0/0<br>Route(s):<br>&nbsp;&nbsp;&nbsp;&nbsp;BgpRoute&lt;2.128.0.0/24,nhip:2.34.101.4,nhint:dynamic&gt;_fnhip:2.23.11.3<br><br><strong>3</strong> as2dist1:GigabitEthernet2/0 &rarr; as2dept1:GigabitEthernet0/0<br>Route(s):<br>&nbsp;&nbsp;&nbsp;&nbsp;BgpRoute&lt;2.128.0.0/24,nhip:2.34.101.4,nhint:dynamic&gt;_fnhip:2.34.101.4<br><br><strong>4</strong> as2dept1:GigabitEthernet2/0 &rarr; host1:eth0<br>Route(s):<br>&nbsp;&nbsp;&nbsp;&nbsp;ConnectedRoute&lt;2.128.0.0/24,nhip:AUTO/NONE(-1l),nhint:GigabitEthernet2/0&gt;_fnhip:null<br><br><span style=\"color:#7c020e; text-weight:bold;\">DENIED_IN{filter::INPUT}{default}</span><br><strong>1</strong> as2border2:GigabitEthernet2/0 &rarr; as2core1:GigabitEthernet1/0<br>Route(s):<br>&nbsp;&nbsp;&nbsp;&nbsp;BgpRoute&lt;2.128.0.0/24,nhip:2.34.101.4,nhint:dynamic&gt;_fnhip:2.12.21.2<br>&nbsp;&nbsp;&nbsp;&nbsp;BgpRoute&lt;2.128.0.0/24,nhip:2.34.201.4,nhint:dynamic&gt;_fnhip:2.12.21.2<br><br><strong>2</strong> as2core1:GigabitEthernet3/0 &rarr; as2dist2:GigabitEthernet1/0<br>Route(s):<br>&nbsp;&nbsp;&nbsp;&nbsp;BgpRoute&lt;2.128.0.0/24,nhip:2.34.201.4,nhint:dynamic&gt;_fnhip:2.23.12.3<br><br><strong>3</strong> as2dist2:GigabitEthernet2/0 &rarr; as2dept1:GigabitEthernet1/0<br>Route(s):<br>&nbsp;&nbsp;&nbsp;&nbsp;BgpRoute&lt;2.128.0.0/24,nhip:2.34.201.4,nhint:dynamic&gt;_fnhip:2.34.201.4<br><br><strong>4</strong> as2dept1:GigabitEthernet2/0 &rarr; host1:eth0<br>Route(s):<br>&nbsp;&nbsp;&nbsp;&nbsp;ConnectedRoute&lt;2.128.0.0/24,nhip:AUTO/NONE(-1l),nhint:GigabitEthernet2/0&gt;_fnhip:null</td> \n",
       "    </tr></tbody> \n",
       "</table> "
      ],
      "text/plain": [
       "<pandas.io.formats.style.Styler at 0x114455e10>"
      ]
     },
     "metadata": {},
     "output_type": "display_data"
    }
   ],
   "source": [
    "path = PathConstraints(startLocation=\"as2border.*\")\n",
    "headers = HeaderConstraints(srcIps=\"0.0.0.0/0\", dstIps=\"ofLocation(host1)\")\n",
    "reach = bfq.reachability(pathConstraints=path, headers=headers, actions=\"failure\").answer().frame()\n",
    "display_html(reach)"
   ]
  },
  {
   "cell_type": "markdown",
   "metadata": {},
   "source": [
    "As you can see, this query identified flows entering the network at both `as2border1` and `as2border2` destined for `host1` that would be delivered.\n",
    "And in all cases, it was DNS traffic that was permitted, as we would have expected based on the configuration of `host1`"
   ]
  },
  {
   "cell_type": "markdown",
   "metadata": {},
   "source": [
    "### Check if *any* DNS flow originating inside AS2 destined for `host1` is dropped"
   ]
  },
  {
   "cell_type": "code",
   "execution_count": 10,
   "metadata": {},
   "outputs": [
    {
     "data": {
      "text/html": [
       "<div>\n",
       "<style scoped>\n",
       "    .dataframe tbody tr th:only-of-type {\n",
       "        vertical-align: middle;\n",
       "    }\n",
       "\n",
       "    .dataframe tbody tr th {\n",
       "        vertical-align: top;\n",
       "    }\n",
       "\n",
       "    .dataframe thead th {\n",
       "        text-align: right;\n",
       "    }\n",
       "</style>\n",
       "<table border=\"1\" class=\"dataframe\">\n",
       "  <thead>\n",
       "    <tr style=\"text-align: right;\">\n",
       "      <th></th>\n",
       "      <th>Flow</th>\n",
       "      <th>Traces</th>\n",
       "    </tr>\n",
       "  </thead>\n",
       "  <tbody>\n",
       "  </tbody>\n",
       "</table>\n",
       "</div>"
      ],
      "text/plain": [
       "Empty DataFrame\n",
       "Columns: [Flow, Traces]\n",
       "Index: []"
      ]
     },
     "metadata": {},
     "output_type": "display_data"
    }
   ],
   "source": [
    "path = PathConstraints(startLocation=\"as2border.*\")\n",
    "headers = HeaderConstraints(dstIps=\"ofLocation(host1)\", applications=[\"DNS\"])\n",
    "reach = bfq.reachability(pathConstraints=path, headers=headers, actions=\"failure\").answer().frame()\n",
    "display_html(reach)"
   ]
  },
  {
   "cell_type": "markdown",
   "metadata": {},
   "source": [
    "### Check if *any* DNS flow originating outside of AS2 destined for `host1` is dropped."
   ]
  },
  {
   "cell_type": "code",
   "execution_count": 11,
   "metadata": {},
   "outputs": [
    {
     "data": {
      "text/html": [
       "<style  type=\"text/css\" >\n",
       "    #T_f2a1dbc0_d1d1_11e8_9065_8c85902fd849row0_col0 {\n",
       "            text-align:  left;\n",
       "            vertical-align:  top;\n",
       "        }    #T_f2a1dbc0_d1d1_11e8_9065_8c85902fd849row0_col1 {\n",
       "            text-align:  left;\n",
       "            vertical-align:  top;\n",
       "        }    #T_f2a1dbc0_d1d1_11e8_9065_8c85902fd849row1_col0 {\n",
       "            text-align:  left;\n",
       "            vertical-align:  top;\n",
       "        }    #T_f2a1dbc0_d1d1_11e8_9065_8c85902fd849row1_col1 {\n",
       "            text-align:  left;\n",
       "            vertical-align:  top;\n",
       "        }</style>  \n",
       "<table id=\"T_f2a1dbc0_d1d1_11e8_9065_8c85902fd849\" > \n",
       "<thead>    <tr> \n",
       "        <th class=\"blank level0\" ></th> \n",
       "        <th class=\"col_heading level0 col0\" >Flow</th> \n",
       "        <th class=\"col_heading level0 col1\" >Traces</th> \n",
       "    </tr></thead> \n",
       "<tbody>    <tr> \n",
       "        <th id=\"T_f2a1dbc0_d1d1_11e8_9065_8c85902fd849level0_row0\" class=\"row_heading level0 row0\" >0</th> \n",
       "        <td id=\"T_f2a1dbc0_d1d1_11e8_9065_8c85902fd849row0_col0\" class=\"data row0 col0\" >2.0.0.0:0 &rarr; 2.128.0.101:53<br>start=as2border1 interface=GigabitEthernet0/0 vrf=None</td> \n",
       "        <td id=\"T_f2a1dbc0_d1d1_11e8_9065_8c85902fd849row0_col1\" class=\"data row0 col1\" ><span style=\"color:#7c020e; text-weight:bold;\">DENIED_IN{OUTSIDE_TO_INSIDE}{deny   ip 2.0.0.0 0.255.255.255 any}</span><br><strong>1</strong> traceroute_source_node:traceroute_source_interface &rarr; as2border1:GigabitEthernet0/0<br>Route(s):<br>&nbsp;&nbsp;&nbsp;&nbsp;</td> \n",
       "    </tr>    <tr> \n",
       "        <th id=\"T_f2a1dbc0_d1d1_11e8_9065_8c85902fd849level0_row1\" class=\"row_heading level0 row1\" >1</th> \n",
       "        <td id=\"T_f2a1dbc0_d1d1_11e8_9065_8c85902fd849row1_col0\" class=\"data row1 col0\" >2.0.0.0:0 &rarr; 2.128.0.101:53<br>start=as2border2 interface=GigabitEthernet0/0 vrf=None</td> \n",
       "        <td id=\"T_f2a1dbc0_d1d1_11e8_9065_8c85902fd849row1_col1\" class=\"data row1 col1\" ><span style=\"color:#7c020e; text-weight:bold;\">DENIED_IN{OUTSIDE_TO_INSIDE}{deny   ip 2.0.0.0 0.255.255.255 any}</span><br><strong>1</strong> traceroute_source_node:traceroute_source_interface &rarr; as2border2:GigabitEthernet0/0<br>Route(s):<br>&nbsp;&nbsp;&nbsp;&nbsp;</td> \n",
       "    </tr></tbody> \n",
       "</table> "
      ],
      "text/plain": [
       "<pandas.io.formats.style.Styler at 0x114416a58>"
      ]
     },
     "metadata": {},
     "output_type": "display_data"
    }
   ],
   "source": [
    "path = PathConstraints(startLocation=\"enter(as2border.*)\")\n",
    "headers = HeaderConstraints(srcIps=\"0.0.0.0/0\", dstIps=\"ofLocation(host1)\", applications=[\"DNS\"])\n",
    "reach = bfq.reachability(pathConstraints=path, headers=headers, actions=\"failure\").answer().frame()\n",
    "display_html(reach)"
   ]
  },
  {
   "cell_type": "markdown",
   "metadata": {},
   "source": [
    "### Find any flows from outside AS2 that would be accepted by `host1` that are not DNS or SSH"
   ]
  },
  {
   "cell_type": "code",
   "execution_count": 15,
   "metadata": {},
   "outputs": [
    {
     "data": {
      "text/html": [
       "<div>\n",
       "<style scoped>\n",
       "    .dataframe tbody tr th:only-of-type {\n",
       "        vertical-align: middle;\n",
       "    }\n",
       "\n",
       "    .dataframe tbody tr th {\n",
       "        vertical-align: top;\n",
       "    }\n",
       "\n",
       "    .dataframe thead th {\n",
       "        text-align: right;\n",
       "    }\n",
       "</style>\n",
       "<table border=\"1\" class=\"dataframe\">\n",
       "  <thead>\n",
       "    <tr style=\"text-align: right;\">\n",
       "      <th></th>\n",
       "      <th>Flow</th>\n",
       "      <th>Traces</th>\n",
       "    </tr>\n",
       "  </thead>\n",
       "  <tbody>\n",
       "  </tbody>\n",
       "</table>\n",
       "</div>"
      ],
      "text/plain": [
       "Empty DataFrame\n",
       "Columns: [Flow, Traces]\n",
       "Index: []"
      ]
     },
     "metadata": {},
     "output_type": "display_data"
    }
   ],
   "source": [
    "path = PathConstraints(startLocation=\"enter(as2border.*)\")\n",
    "headers = HeaderConstraints(srcIps=\"0.0.0.0/0\", dstIps=\"ofLocation(host1)\", ipProtocols=[\"TCP\", \"UDP\"], dstPorts=\"!22,!53\")\n",
    "reach = bfq.reachability(pathConstraints=path, headers=headers, actions=\"accepted\").answer().frame()\n",
    "display_html(reach)"
   ]
  },
  {
   "cell_type": "markdown",
   "metadata": {},
   "source": [
    "### Wrap-up"
   ]
  },
  {
   "cell_type": "markdown",
   "metadata": {},
   "source": [
    "This concludes the notebook. To recap, in this notebook we covered the foundational tasks for path analysis:\n",
    "\n",
    "1. Retrieving the list of IP addresses configured on every interface on every device in the snapshot\n",
    "2. Determining the paths taken, and disposition along each path, for a flow using `traceroute`"
   ]
  },
  {
   "cell_type": "markdown",
   "metadata": {},
   "source": [
    "We hope you found this notebook useful and informative. Future notebooks will dive into more advanced topics like path analysis, debugging ACLs and firewall rules, validating routing policy, etc.. so stay tuned! "
   ]
  },
  {
   "cell_type": "markdown",
   "metadata": {},
   "source": [
    "### Want to know more? "
   ]
  },
  {
   "cell_type": "markdown",
   "metadata": {},
   "source": [
    "Reach out to us through [Slack](https://join.slack.com/t/batfish-org/shared_invite/enQtMzA0Nzg2OTAzNzQ1LTUxOTJlY2YyNTVlNGQ3MTJkOTIwZTU2YjY3YzRjZWFiYzE4ODE5ODZiNjA4NGI5NTJhZmU2ZTllOTMwZDhjMzA) or [Github](https://github.com/batfish/batfish) to learn more, or send feedback."
   ]
  }
 ],
 "metadata": {
  "hide_input": false,
  "kernelspec": {
   "display_name": "Python 3",
   "language": "python",
   "name": "python3"
  },
  "language_info": {
   "codemirror_mode": {
    "name": "ipython",
    "version": 3
   },
   "file_extension": ".py",
   "mimetype": "text/x-python",
   "name": "python",
   "nbconvert_exporter": "python",
   "pygments_lexer": "ipython3",
   "version": "3.7.0"
  },
  "varInspector": {
   "cols": {
    "lenName": 16,
    "lenType": 16,
    "lenVar": 40
   },
   "kernels_config": {
    "python": {
     "delete_cmd_postfix": "",
     "delete_cmd_prefix": "del ",
     "library": "var_list.py",
     "varRefreshCmd": "print(var_dic_list())"
    },
    "r": {
     "delete_cmd_postfix": ") ",
     "delete_cmd_prefix": "rm(",
     "library": "var_list.r",
     "varRefreshCmd": "cat(var_dic_list()) "
    }
   },
   "types_to_exclude": [
    "module",
    "function",
    "builtin_function_or_method",
    "instance",
    "_Feature"
   ],
   "window_display": false
  }
 },
 "nbformat": 4,
 "nbformat_minor": 2
}
