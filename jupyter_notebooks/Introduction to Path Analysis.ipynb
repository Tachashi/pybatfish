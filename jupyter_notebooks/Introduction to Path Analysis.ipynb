{
 "cells": [
  {
   "cell_type": "markdown",
   "metadata": {},
   "source": [
    "## Introduction to Path Analysis using Batfish"
   ]
  },
  {
   "cell_type": "markdown",
   "metadata": {
    "hide_input": true
   },
   "source": [
    "Path analysis is one of the most common tasks a network engineer will undertake, but one of the most complicated ones. Traditionally, path analysis is performed by using `traceroute`. In a lot of instances, this must be performed from multiple locations in the network. This distributed debugging is highly complex even in a moderately-sized network. Batfish makes this task extremely simple by providing an easy-to-use queries.\n",
    "\n",
    "In this notebook, we will look at how you can perform path analysis with Batfish.\n",
    "\n",
    "![Analytics](https://ga-beacon.appspot.com/UA-100596389-3/open-source/pybatfish/jupyter_notebooks/intro-path-analysis?pixel&useReferer)"
   ]
  },
  {
   "cell_type": "code",
   "execution_count": 1,
   "metadata": {},
   "outputs": [
    {
     "name": "stderr",
     "output_type": "stream",
     "text": [
      "/Users/victor/pybatfish/pybatfish/client/commands.py:50: UserWarning: Pybatfish public API is being updated, note that API names and parameters will soon change.\n",
      "  \"Pybatfish public API is being updated, note that API names and parameters will soon change.\")\n"
     ]
    }
   ],
   "source": [
    "# Import packages and load questions\n",
    "%run startup.py\n",
    "bf_session.additionalArgs['debugflags']='traceroute'"
   ]
  },
  {
   "cell_type": "markdown",
   "metadata": {},
   "source": [
    " ### Initializing the Network and Snapshot"
   ]
  },
  {
   "cell_type": "markdown",
   "metadata": {},
   "source": [
    "`SNAPSHOT_PATH` below can be updated to point to a custom snapshot directory, see the [Batfish instructions](https://github.com/batfish/batfish/wiki/Packaging-snapshots-for-analysis) for how to package data for analysis.<br>\n",
    "More example networks are available in the [networks](https://github.com/batfish/batfish/tree/master/networks) folder of the Batfish repository."
   ]
  },
  {
   "cell_type": "code",
   "execution_count": 2,
   "metadata": {},
   "outputs": [
    {
     "data": {
      "text/plain": [
       "'example_snapshot'"
      ]
     },
     "execution_count": 2,
     "metadata": {},
     "output_type": "execute_result"
    }
   ],
   "source": [
    "# Initialize a network and snapshot\n",
    "NETWORK_NAME = \"example_network\"\n",
    "SNAPSHOT_NAME = \"example_snapshot\"\n",
    "\n",
    "SNAPSHOT_PATH = \"networks/example\"\n",
    "\n",
    "bf_set_network(NETWORK_NAME)\n",
    "bf_init_snapshot(SNAPSHOT_PATH, name=SNAPSHOT_NAME, overwrite=True)"
   ]
  },
  {
   "cell_type": "markdown",
   "metadata": {},
   "source": [
    "The network snapshot that we initialized above is illustrated below. You can download/view devices' configuration files [here](https://github.com/batfish/pybatfish/tree/master/jupyter_notebooks/networks/example).\n",
    "\n",
    "![example-network](https://raw.githubusercontent.com/batfish/pybatfish/master/jupyter_notebooks/networks/example/example-network.png)"
   ]
  },
  {
   "cell_type": "markdown",
   "metadata": {},
   "source": [
    "All of the information we will show you in this notebook is dynamically computed by Batfish based on the configuration files for the network devices."
   ]
  },
  {
   "cell_type": "markdown",
   "metadata": {},
   "source": [
    "### Find the path taken by AS3 core routers to reach `host1`, the DNS Server in AS2"
   ]
  },
  {
   "cell_type": "markdown",
   "metadata": {},
   "source": [
    "To do this, we will use the [`traceroute` question](https://pybatfish.readthedocs.io/en/latest/questions.html#pybatfish.question.bfq.traceroute) in Batfish. The question has three (composite) parameters that you can specify, allowing for a variety of queries. We will focus on the two main ones:\n",
    "\n",
    "* `startLocation` - a place in the network where a trace can start\n",
    "* `headers` - IPv4 packet headers that allow you to craft a packet with which to do a traceroute (**not** just limited to UDP or ICMP)\n",
    "\n",
    "We want the query to start from the `Loopback0` interface on `as3core1`, and we want to use the IP address of that interface as the source address.\n",
    "For this we set the `startLocation` to `as3core1[Loopback0]` \n",
    "Note that Batfish automatically chooses the source IP address of `Loopback0` as the source IP for our packet.\n",
    "\n",
    "Lets set the destination IP address of our virtual packet by specifying `dstIps = \"ofLocation(host1)\"`. Batfish will automatically pick *one of the* IP address for `host1` as the destination IP address for the question.\n",
    "\n",
    "To run the query:"
   ]
  },
  {
   "cell_type": "code",
   "execution_count": 3,
   "metadata": {},
   "outputs": [],
   "source": [
    "# start the traceroute from the Loopback0 interface of as3core1 to host1\n",
    "tracert = bfq.traceroute(startLocation=\"as3core1[Loopback0]\", headers=HeaderConstraints(dstIps='ofLocation(host1)')).answer().frame()"
   ]
  },
  {
   "cell_type": "markdown",
   "metadata": {},
   "source": [
    "To pretty-print the query in HTML use the `display_html` function. We will show you how to extract more detailed information below"
   ]
  },
  {
   "cell_type": "code",
   "execution_count": 4,
   "metadata": {},
   "outputs": [
    {
     "data": {
      "text/html": [
       "<style  type=\"text/css\" >\n",
       "    #T_3879bc66_d68d_11e8_932b_8c85902fd849row0_col0 {\n",
       "            text-align:  left;\n",
       "            vertical-align:  top;\n",
       "        }    #T_3879bc66_d68d_11e8_932b_8c85902fd849row0_col1 {\n",
       "            text-align:  left;\n",
       "            vertical-align:  top;\n",
       "        }    #T_3879bc66_d68d_11e8_932b_8c85902fd849row0_col2 {\n",
       "            text-align:  left;\n",
       "            vertical-align:  top;\n",
       "        }</style>  \n",
       "<table id=\"T_3879bc66_d68d_11e8_932b_8c85902fd849\" > \n",
       "<thead>    <tr> \n",
       "        <th class=\"blank level0\" ></th> \n",
       "        <th class=\"col_heading level0 col0\" >Flow</th> \n",
       "        <th class=\"col_heading level0 col1\" >Traces</th> \n",
       "        <th class=\"col_heading level0 col2\" >TraceCount</th> \n",
       "    </tr></thead> \n",
       "<tbody>    <tr> \n",
       "        <th id=\"T_3879bc66_d68d_11e8_932b_8c85902fd849level0_row0\" class=\"row_heading level0 row0\" >0</th> \n",
       "        <td id=\"T_3879bc66_d68d_11e8_932b_8c85902fd849row0_col0\" class=\"data row0 col0\" >3.10.1.1:49152 &rarr; 2.128.0.101:33434<br>start=as3core1</td> \n",
       "        <td id=\"T_3879bc66_d68d_11e8_932b_8c85902fd849row0_col1\" class=\"data row0 col1\" >DENIED_IN<br><strong>1</strong>. node: as3core1<br>steps: FORWARDED(Routes: ibgp [Network: 2.128.0.0/16, Next Hop IP:10.23.21.2]) &rarr; TRANSMITTED(GigabitEthernet1/0)<br><strong>2</strong>. node: as3border1<br>steps: RECEIVED(GigabitEthernet0/0) &rarr; FORWARDED(Routes: bgp [Network: 2.128.0.0/16, Next Hop IP:10.23.21.2]) &rarr; TRANSMITTED(GigabitEthernet1/0)<br><strong>3</strong>. node: as2border2<br>steps: RECEIVED(GigabitEthernet0/0: OUTSIDE_TO_INSIDE) &rarr; FORWARDED(Routes: ibgp [Network: 2.128.0.0/24, Next Hop IP:2.34.101.4],ibgp [Network: 2.128.0.0/24, Next Hop IP:2.34.201.4]) &rarr; TRANSMITTED(GigabitEthernet1/0)<br><strong>4</strong>. node: as2core2<br>steps: RECEIVED(GigabitEthernet0/0) &rarr; FORWARDED(Routes: ibgp [Network: 2.128.0.0/24, Next Hop IP:2.34.201.4]) &rarr; TRANSMITTED(GigabitEthernet2/0)<br><strong>5</strong>. node: as2dist2<br>steps: RECEIVED(GigabitEthernet0/0) &rarr; FORWARDED(Routes: bgp [Network: 2.128.0.0/24, Next Hop IP:2.34.201.4]) &rarr; TRANSMITTED(GigabitEthernet2/0)<br><strong>6</strong>. node: as2dept1<br>steps: RECEIVED(GigabitEthernet1/0) &rarr; FORWARDED(Routes: connected [Network: 2.128.0.0/24, Next Hop IP:AUTO/NONE(-1l)]) &rarr; TRANSMITTED(GigabitEthernet2/0)<br><strong>7</strong>. node: host1<br>steps: DENIED(eth0: filter::INPUT)<br><br>DENIED_IN<br><strong>1</strong>. node: as3core1<br>steps: FORWARDED(Routes: ibgp [Network: 2.128.0.0/16, Next Hop IP:10.23.21.2]) &rarr; TRANSMITTED(GigabitEthernet1/0)<br><strong>2</strong>. node: as3border1<br>steps: RECEIVED(GigabitEthernet0/0) &rarr; FORWARDED(Routes: bgp [Network: 2.128.0.0/16, Next Hop IP:10.23.21.2]) &rarr; TRANSMITTED(GigabitEthernet1/0)<br><strong>3</strong>. node: as2border2<br>steps: RECEIVED(GigabitEthernet0/0: OUTSIDE_TO_INSIDE) &rarr; FORWARDED(Routes: ibgp [Network: 2.128.0.0/24, Next Hop IP:2.34.101.4],ibgp [Network: 2.128.0.0/24, Next Hop IP:2.34.201.4]) &rarr; TRANSMITTED(GigabitEthernet1/0)<br><strong>4</strong>. node: as2core2<br>steps: RECEIVED(GigabitEthernet0/0) &rarr; FORWARDED(Routes: ibgp [Network: 2.128.0.0/24, Next Hop IP:2.34.101.4]) &rarr; TRANSMITTED(GigabitEthernet3/0)<br><strong>5</strong>. node: as2dist1<br>steps: RECEIVED(GigabitEthernet1/0) &rarr; FORWARDED(Routes: bgp [Network: 2.128.0.0/24, Next Hop IP:2.34.101.4]) &rarr; TRANSMITTED(GigabitEthernet2/0)<br><strong>6</strong>. node: as2dept1<br>steps: RECEIVED(GigabitEthernet0/0) &rarr; FORWARDED(Routes: connected [Network: 2.128.0.0/24, Next Hop IP:AUTO/NONE(-1l)]) &rarr; TRANSMITTED(GigabitEthernet2/0)<br><strong>7</strong>. node: host1<br>steps: DENIED(eth0: filter::INPUT)<br><br>DENIED_IN<br><strong>1</strong>. node: as3core1<br>steps: FORWARDED(Routes: ibgp [Network: 2.128.0.0/16, Next Hop IP:10.23.21.2]) &rarr; TRANSMITTED(GigabitEthernet1/0)<br><strong>2</strong>. node: as3border1<br>steps: RECEIVED(GigabitEthernet0/0) &rarr; FORWARDED(Routes: bgp [Network: 2.128.0.0/16, Next Hop IP:10.23.21.2]) &rarr; TRANSMITTED(GigabitEthernet1/0)<br><strong>3</strong>. node: as2border2<br>steps: RECEIVED(GigabitEthernet0/0: OUTSIDE_TO_INSIDE) &rarr; FORWARDED(Routes: ibgp [Network: 2.128.0.0/24, Next Hop IP:2.34.101.4],ibgp [Network: 2.128.0.0/24, Next Hop IP:2.34.201.4]) &rarr; TRANSMITTED(GigabitEthernet2/0)<br><strong>4</strong>. node: as2core1<br>steps: RECEIVED(GigabitEthernet1/0) &rarr; FORWARDED(Routes: ibgp [Network: 2.128.0.0/24, Next Hop IP:2.34.101.4]) &rarr; TRANSMITTED(GigabitEthernet2/0)<br><strong>5</strong>. node: as2dist1<br>steps: RECEIVED(GigabitEthernet0/0) &rarr; FORWARDED(Routes: bgp [Network: 2.128.0.0/24, Next Hop IP:2.34.101.4]) &rarr; TRANSMITTED(GigabitEthernet2/0)<br><strong>6</strong>. node: as2dept1<br>steps: RECEIVED(GigabitEthernet0/0) &rarr; FORWARDED(Routes: connected [Network: 2.128.0.0/24, Next Hop IP:AUTO/NONE(-1l)]) &rarr; TRANSMITTED(GigabitEthernet2/0)<br><strong>7</strong>. node: host1<br>steps: DENIED(eth0: filter::INPUT)<br><br>DENIED_IN<br><strong>1</strong>. node: as3core1<br>steps: FORWARDED(Routes: ibgp [Network: 2.128.0.0/16, Next Hop IP:10.23.21.2]) &rarr; TRANSMITTED(GigabitEthernet1/0)<br><strong>2</strong>. node: as3border1<br>steps: RECEIVED(GigabitEthernet0/0) &rarr; FORWARDED(Routes: bgp [Network: 2.128.0.0/16, Next Hop IP:10.23.21.2]) &rarr; TRANSMITTED(GigabitEthernet1/0)<br><strong>3</strong>. node: as2border2<br>steps: RECEIVED(GigabitEthernet0/0: OUTSIDE_TO_INSIDE) &rarr; FORWARDED(Routes: ibgp [Network: 2.128.0.0/24, Next Hop IP:2.34.101.4],ibgp [Network: 2.128.0.0/24, Next Hop IP:2.34.201.4]) &rarr; TRANSMITTED(GigabitEthernet2/0)<br><strong>4</strong>. node: as2core1<br>steps: RECEIVED(GigabitEthernet1/0) &rarr; FORWARDED(Routes: ibgp [Network: 2.128.0.0/24, Next Hop IP:2.34.201.4]) &rarr; TRANSMITTED(GigabitEthernet3/0)<br><strong>5</strong>. node: as2dist2<br>steps: RECEIVED(GigabitEthernet1/0) &rarr; FORWARDED(Routes: bgp [Network: 2.128.0.0/24, Next Hop IP:2.34.201.4]) &rarr; TRANSMITTED(GigabitEthernet2/0)<br><strong>6</strong>. node: as2dept1<br>steps: RECEIVED(GigabitEthernet1/0) &rarr; FORWARDED(Routes: connected [Network: 2.128.0.0/24, Next Hop IP:AUTO/NONE(-1l)]) &rarr; TRANSMITTED(GigabitEthernet2/0)<br><strong>7</strong>. node: host1<br>steps: DENIED(eth0: filter::INPUT)</td> \n",
       "        <td id=\"T_3879bc66_d68d_11e8_932b_8c85902fd849row0_col2\" class=\"data row0 col2\" >4</td> \n",
       "    </tr></tbody> \n",
       "</table> "
      ],
      "text/plain": [
       "<pandas.io.formats.style.Styler at 0x10d5cd6a0>"
      ]
     },
     "metadata": {},
     "output_type": "display_data"
    }
   ],
   "source": [
    "display_html(tracert)"
   ]
  },
  {
   "cell_type": "markdown",
   "metadata": {},
   "source": [
    "The results are interpreted as follows: \n",
    "A flow that starts at `as3core` going from `3.10.1.1:49152` to `2.128.0.101:33434` (UDP by default) and has 4 traces (i.e., paths), with 7 hops each.\n",
    "\n",
    "Note that compared to running traceroute from an actual node in your network, Batfish returns additional information:\n",
    "1. All active parallel paths between the source and destination\n",
    "2. The reason why each hop in a path is taken (the specific routing entry that was matched)\n",
    "3. Disposition of the packet for each path"
   ]
  },
  {
   "cell_type": "markdown",
   "metadata": {},
   "source": [
    "Now let's take a look at one of those paths in more detail. Let's start with the first path:"
   ]
  },
  {
   "cell_type": "code",
   "execution_count": 5,
   "metadata": {},
   "outputs": [
    {
     "data": {
      "text/html": [
       "DENIED_IN<br><strong>1</strong>. node: as3core1<br>steps: FORWARDED(Routes: ibgp [Network: 2.128.0.0/16, Next Hop IP:10.23.21.2]) &rarr; TRANSMITTED(GigabitEthernet1/0)<br><strong>2</strong>. node: as3border1<br>steps: RECEIVED(GigabitEthernet0/0) &rarr; FORWARDED(Routes: bgp [Network: 2.128.0.0/16, Next Hop IP:10.23.21.2]) &rarr; TRANSMITTED(GigabitEthernet1/0)<br><strong>3</strong>. node: as2border2<br>steps: RECEIVED(GigabitEthernet0/0: OUTSIDE_TO_INSIDE) &rarr; FORWARDED(Routes: ibgp [Network: 2.128.0.0/24, Next Hop IP:2.34.101.4],ibgp [Network: 2.128.0.0/24, Next Hop IP:2.34.201.4]) &rarr; TRANSMITTED(GigabitEthernet1/0)<br><strong>4</strong>. node: as2core2<br>steps: RECEIVED(GigabitEthernet0/0) &rarr; FORWARDED(Routes: ibgp [Network: 2.128.0.0/24, Next Hop IP:2.34.201.4]) &rarr; TRANSMITTED(GigabitEthernet2/0)<br><strong>5</strong>. node: as2dist2<br>steps: RECEIVED(GigabitEthernet0/0) &rarr; FORWARDED(Routes: bgp [Network: 2.128.0.0/24, Next Hop IP:2.34.201.4]) &rarr; TRANSMITTED(GigabitEthernet2/0)<br><strong>6</strong>. node: as2dept1<br>steps: RECEIVED(GigabitEthernet1/0) &rarr; FORWARDED(Routes: connected [Network: 2.128.0.0/24, Next Hop IP:AUTO/NONE(-1l)]) &rarr; TRANSMITTED(GigabitEthernet2/0)<br><strong>7</strong>. node: host1<br>steps: DENIED(eth0: filter::INPUT)"
      ],
      "text/plain": [
       "Trace(disposition='DENIED_IN', hops=[Hop(node='as3core1', steps=[Step(detail=RoutingStepDetail(routes=[{'network': '2.128.0.0/16', 'nextHopIp': '10.23.21.2', 'protocol': 'ibgp'}]), action='FORWARDED'), Step(detail=ExitOutputIfaceStepDetail(outputInterface='GigabitEthernet1/0', outputFilter=None, transformedFlow=None), action='TRANSMITTED')]), Hop(node='as3border1', steps=[Step(detail=EnterInputIfaceStepDetail(inputInterface='GigabitEthernet0/0', inputVrf='default', inputFilter=None), action='RECEIVED'), Step(detail=RoutingStepDetail(routes=[{'network': '2.128.0.0/16', 'nextHopIp': '10.23.21.2', 'protocol': 'bgp'}]), action='FORWARDED'), Step(detail=ExitOutputIfaceStepDetail(outputInterface='GigabitEthernet1/0', outputFilter=None, transformedFlow=None), action='TRANSMITTED')]), Hop(node='as2border2', steps=[Step(detail=EnterInputIfaceStepDetail(inputInterface='GigabitEthernet0/0', inputVrf='default', inputFilter='OUTSIDE_TO_INSIDE'), action='RECEIVED'), Step(detail=RoutingStepDetail(routes=[{'network': '2.128.0.0/24', 'nextHopIp': '2.34.101.4', 'protocol': 'ibgp'}, {'network': '2.128.0.0/24', 'nextHopIp': '2.34.201.4', 'protocol': 'ibgp'}]), action='FORWARDED'), Step(detail=ExitOutputIfaceStepDetail(outputInterface='GigabitEthernet1/0', outputFilter=None, transformedFlow=None), action='TRANSMITTED')]), Hop(node='as2core2', steps=[Step(detail=EnterInputIfaceStepDetail(inputInterface='GigabitEthernet0/0', inputVrf='default', inputFilter=None), action='RECEIVED'), Step(detail=RoutingStepDetail(routes=[{'network': '2.128.0.0/24', 'nextHopIp': '2.34.201.4', 'protocol': 'ibgp'}]), action='FORWARDED'), Step(detail=ExitOutputIfaceStepDetail(outputInterface='GigabitEthernet2/0', outputFilter=None, transformedFlow=None), action='TRANSMITTED')]), Hop(node='as2dist2', steps=[Step(detail=EnterInputIfaceStepDetail(inputInterface='GigabitEthernet0/0', inputVrf='default', inputFilter=None), action='RECEIVED'), Step(detail=RoutingStepDetail(routes=[{'network': '2.128.0.0/24', 'nextHopIp': '2.34.201.4', 'protocol': 'bgp'}]), action='FORWARDED'), Step(detail=ExitOutputIfaceStepDetail(outputInterface='GigabitEthernet2/0', outputFilter=None, transformedFlow=None), action='TRANSMITTED')]), Hop(node='as2dept1', steps=[Step(detail=EnterInputIfaceStepDetail(inputInterface='GigabitEthernet1/0', inputVrf='default', inputFilter=None), action='RECEIVED'), Step(detail=RoutingStepDetail(routes=[{'network': '2.128.0.0/24', 'nextHopIp': 'AUTO/NONE(-1l)', 'protocol': 'connected'}]), action='FORWARDED'), Step(detail=ExitOutputIfaceStepDetail(outputInterface='GigabitEthernet2/0', outputFilter=None, transformedFlow=None), action='TRANSMITTED')]), Hop(node='host1', steps=[Step(detail=EnterInputIfaceStepDetail(inputInterface='eth0', inputVrf='default', inputFilter='filter::INPUT'), action='DENIED')])])"
      ]
     },
     "metadata": {},
     "output_type": "display_data"
    }
   ],
   "source": [
    "# flow number we want to see\n",
    "flow_num = 0\n",
    "# path number we want to see\n",
    "path_num = 0\n",
    "# print the hops for the first trace\n",
    "path = tracert['Traces'][flow_num][path_num]\n",
    "display(path)"
   ]
  },
  {
   "cell_type": "markdown",
   "metadata": {},
   "source": [
    "What we see from the above output is that the packet was sent all the way to the host, but blocked at the host itself (hop 7).\n",
    "\n",
    "The packet was `DENIED`, which means that a filter on the host denied the packet. \n",
    "Let's determine the name of the filter that matched the packet by calling `disposition_reason()` on the path object:"
   ]
  },
  {
   "cell_type": "markdown",
   "metadata": {},
   "source": [
    "This tells us that the incoming filter on `host1` on inteface `eth0` blocked the packet."
   ]
  },
  {
   "cell_type": "markdown",
   "metadata": {},
   "source": [
    "## Abstract path analysis (reachability)\n",
    "\n",
    "Traceroute allows you to find the paths taken by a specified flow through the network, however Batfish allows you to run even more powerful queries.\n",
    "[`reachability` question](https://pybatfish.readthedocs.io/en/latest/questions.html#pybatfish.question.bfq.reachability) \n",
    "will allow you to explore the network in a more abstract fashion. \n",
    "\n",
    "This is very useful \n",
    "when you want to build a set of tests for the network to ensure security and reliability.\n",
    "\n",
    "Lets start by constructing a query that checks if **any** flow from the IPv4 address space (`srcIps='0.0.0.0/0`) orignating inside AS2 would will be able to reach `host1`."
   ]
  },
  {
   "cell_type": "code",
   "execution_count": 6,
   "metadata": {},
   "outputs": [
    {
     "data": {
      "text/html": [
       "<style  type=\"text/css\" >\n",
       "    #T_391f9b2c_d68d_11e8_932b_8c85902fd849row0_col0 {\n",
       "            text-align:  left;\n",
       "            vertical-align:  top;\n",
       "        }    #T_391f9b2c_d68d_11e8_932b_8c85902fd849row0_col1 {\n",
       "            text-align:  left;\n",
       "            vertical-align:  top;\n",
       "        }    #T_391f9b2c_d68d_11e8_932b_8c85902fd849row0_col2 {\n",
       "            text-align:  left;\n",
       "            vertical-align:  top;\n",
       "        }    #T_391f9b2c_d68d_11e8_932b_8c85902fd849row1_col0 {\n",
       "            text-align:  left;\n",
       "            vertical-align:  top;\n",
       "        }    #T_391f9b2c_d68d_11e8_932b_8c85902fd849row1_col1 {\n",
       "            text-align:  left;\n",
       "            vertical-align:  top;\n",
       "        }    #T_391f9b2c_d68d_11e8_932b_8c85902fd849row1_col2 {\n",
       "            text-align:  left;\n",
       "            vertical-align:  top;\n",
       "        }    #T_391f9b2c_d68d_11e8_932b_8c85902fd849row2_col0 {\n",
       "            text-align:  left;\n",
       "            vertical-align:  top;\n",
       "        }    #T_391f9b2c_d68d_11e8_932b_8c85902fd849row2_col1 {\n",
       "            text-align:  left;\n",
       "            vertical-align:  top;\n",
       "        }    #T_391f9b2c_d68d_11e8_932b_8c85902fd849row2_col2 {\n",
       "            text-align:  left;\n",
       "            vertical-align:  top;\n",
       "        }    #T_391f9b2c_d68d_11e8_932b_8c85902fd849row3_col0 {\n",
       "            text-align:  left;\n",
       "            vertical-align:  top;\n",
       "        }    #T_391f9b2c_d68d_11e8_932b_8c85902fd849row3_col1 {\n",
       "            text-align:  left;\n",
       "            vertical-align:  top;\n",
       "        }    #T_391f9b2c_d68d_11e8_932b_8c85902fd849row3_col2 {\n",
       "            text-align:  left;\n",
       "            vertical-align:  top;\n",
       "        }    #T_391f9b2c_d68d_11e8_932b_8c85902fd849row4_col0 {\n",
       "            text-align:  left;\n",
       "            vertical-align:  top;\n",
       "        }    #T_391f9b2c_d68d_11e8_932b_8c85902fd849row4_col1 {\n",
       "            text-align:  left;\n",
       "            vertical-align:  top;\n",
       "        }    #T_391f9b2c_d68d_11e8_932b_8c85902fd849row4_col2 {\n",
       "            text-align:  left;\n",
       "            vertical-align:  top;\n",
       "        }    #T_391f9b2c_d68d_11e8_932b_8c85902fd849row5_col0 {\n",
       "            text-align:  left;\n",
       "            vertical-align:  top;\n",
       "        }    #T_391f9b2c_d68d_11e8_932b_8c85902fd849row5_col1 {\n",
       "            text-align:  left;\n",
       "            vertical-align:  top;\n",
       "        }    #T_391f9b2c_d68d_11e8_932b_8c85902fd849row5_col2 {\n",
       "            text-align:  left;\n",
       "            vertical-align:  top;\n",
       "        }    #T_391f9b2c_d68d_11e8_932b_8c85902fd849row6_col0 {\n",
       "            text-align:  left;\n",
       "            vertical-align:  top;\n",
       "        }    #T_391f9b2c_d68d_11e8_932b_8c85902fd849row6_col1 {\n",
       "            text-align:  left;\n",
       "            vertical-align:  top;\n",
       "        }    #T_391f9b2c_d68d_11e8_932b_8c85902fd849row6_col2 {\n",
       "            text-align:  left;\n",
       "            vertical-align:  top;\n",
       "        }</style>  \n",
       "<table id=\"T_391f9b2c_d68d_11e8_932b_8c85902fd849\" > \n",
       "<thead>    <tr> \n",
       "        <th class=\"blank level0\" ></th> \n",
       "        <th class=\"col_heading level0 col0\" >Flow</th> \n",
       "        <th class=\"col_heading level0 col1\" >Traces</th> \n",
       "        <th class=\"col_heading level0 col2\" >TraceCount</th> \n",
       "    </tr></thead> \n",
       "<tbody>    <tr> \n",
       "        <th id=\"T_391f9b2c_d68d_11e8_932b_8c85902fd849level0_row0\" class=\"row_heading level0 row0\" >0</th> \n",
       "        <td id=\"T_391f9b2c_d68d_11e8_932b_8c85902fd849row0_col0\" class=\"data row0 col0\" >0.0.0.0:0 &rarr; 2.128.0.101:22<br>start=as2border1</td> \n",
       "        <td id=\"T_391f9b2c_d68d_11e8_932b_8c85902fd849row0_col1\" class=\"data row0 col1\" >ACCEPTED<br><strong>1</strong>. node: as2border1<br>steps: FORWARDED(Routes: ibgp [Network: 2.128.0.0/24, Next Hop IP:2.34.101.4],ibgp [Network: 2.128.0.0/24, Next Hop IP:2.34.201.4]) &rarr; TRANSMITTED(GigabitEthernet1/0)<br><strong>2</strong>. node: as2core1<br>steps: RECEIVED(GigabitEthernet0/0) &rarr; FORWARDED(Routes: ibgp [Network: 2.128.0.0/24, Next Hop IP:2.34.101.4]) &rarr; TRANSMITTED(GigabitEthernet2/0)<br><strong>3</strong>. node: as2dist1<br>steps: RECEIVED(GigabitEthernet0/0) &rarr; FORWARDED(Routes: bgp [Network: 2.128.0.0/24, Next Hop IP:2.34.101.4]) &rarr; TRANSMITTED(GigabitEthernet2/0)<br><strong>4</strong>. node: as2dept1<br>steps: RECEIVED(GigabitEthernet0/0) &rarr; FORWARDED(Routes: connected [Network: 2.128.0.0/24, Next Hop IP:AUTO/NONE(-1l)]) &rarr; TRANSMITTED(GigabitEthernet2/0)<br><strong>5</strong>. node: host1<br>steps: RECEIVED(eth0: filter::INPUT) &rarr; ACCEPTED(InboundStep)<br><br>ACCEPTED<br><strong>1</strong>. node: as2border1<br>steps: FORWARDED(Routes: ibgp [Network: 2.128.0.0/24, Next Hop IP:2.34.101.4],ibgp [Network: 2.128.0.0/24, Next Hop IP:2.34.201.4]) &rarr; TRANSMITTED(GigabitEthernet1/0)<br><strong>2</strong>. node: as2core1<br>steps: RECEIVED(GigabitEthernet0/0) &rarr; FORWARDED(Routes: ibgp [Network: 2.128.0.0/24, Next Hop IP:2.34.201.4]) &rarr; TRANSMITTED(GigabitEthernet3/0)<br><strong>3</strong>. node: as2dist2<br>steps: RECEIVED(GigabitEthernet1/0) &rarr; FORWARDED(Routes: bgp [Network: 2.128.0.0/24, Next Hop IP:2.34.201.4]) &rarr; TRANSMITTED(GigabitEthernet2/0)<br><strong>4</strong>. node: as2dept1<br>steps: RECEIVED(GigabitEthernet1/0) &rarr; FORWARDED(Routes: connected [Network: 2.128.0.0/24, Next Hop IP:AUTO/NONE(-1l)]) &rarr; TRANSMITTED(GigabitEthernet2/0)<br><strong>5</strong>. node: host1<br>steps: RECEIVED(eth0: filter::INPUT) &rarr; ACCEPTED(InboundStep)<br><br>ACCEPTED<br><strong>1</strong>. node: as2border1<br>steps: FORWARDED(Routes: ibgp [Network: 2.128.0.0/24, Next Hop IP:2.34.101.4],ibgp [Network: 2.128.0.0/24, Next Hop IP:2.34.201.4]) &rarr; TRANSMITTED(GigabitEthernet2/0)<br><strong>2</strong>. node: as2core2<br>steps: RECEIVED(GigabitEthernet1/0) &rarr; FORWARDED(Routes: ibgp [Network: 2.128.0.0/24, Next Hop IP:2.34.201.4]) &rarr; TRANSMITTED(GigabitEthernet2/0)<br><strong>3</strong>. node: as2dist2<br>steps: RECEIVED(GigabitEthernet0/0) &rarr; FORWARDED(Routes: bgp [Network: 2.128.0.0/24, Next Hop IP:2.34.201.4]) &rarr; TRANSMITTED(GigabitEthernet2/0)<br><strong>4</strong>. node: as2dept1<br>steps: RECEIVED(GigabitEthernet1/0) &rarr; FORWARDED(Routes: connected [Network: 2.128.0.0/24, Next Hop IP:AUTO/NONE(-1l)]) &rarr; TRANSMITTED(GigabitEthernet2/0)<br><strong>5</strong>. node: host1<br>steps: RECEIVED(eth0: filter::INPUT) &rarr; ACCEPTED(InboundStep)<br><br>ACCEPTED<br><strong>1</strong>. node: as2border1<br>steps: FORWARDED(Routes: ibgp [Network: 2.128.0.0/24, Next Hop IP:2.34.101.4],ibgp [Network: 2.128.0.0/24, Next Hop IP:2.34.201.4]) &rarr; TRANSMITTED(GigabitEthernet2/0)<br><strong>2</strong>. node: as2core2<br>steps: RECEIVED(GigabitEthernet1/0) &rarr; FORWARDED(Routes: ibgp [Network: 2.128.0.0/24, Next Hop IP:2.34.101.4]) &rarr; TRANSMITTED(GigabitEthernet3/0)<br><strong>3</strong>. node: as2dist1<br>steps: RECEIVED(GigabitEthernet1/0) &rarr; FORWARDED(Routes: bgp [Network: 2.128.0.0/24, Next Hop IP:2.34.101.4]) &rarr; TRANSMITTED(GigabitEthernet2/0)<br><strong>4</strong>. node: as2dept1<br>steps: RECEIVED(GigabitEthernet0/0) &rarr; FORWARDED(Routes: connected [Network: 2.128.0.0/24, Next Hop IP:AUTO/NONE(-1l)]) &rarr; TRANSMITTED(GigabitEthernet2/0)<br><strong>5</strong>. node: host1<br>steps: RECEIVED(eth0: filter::INPUT) &rarr; ACCEPTED(InboundStep)</td> \n",
       "        <td id=\"T_391f9b2c_d68d_11e8_932b_8c85902fd849row0_col2\" class=\"data row0 col2\" >4</td> \n",
       "    </tr>    <tr> \n",
       "        <th id=\"T_391f9b2c_d68d_11e8_932b_8c85902fd849level0_row1\" class=\"row_heading level0 row1\" >1</th> \n",
       "        <td id=\"T_391f9b2c_d68d_11e8_932b_8c85902fd849row1_col0\" class=\"data row1 col0\" >0.0.0.0:0 &rarr; 2.128.0.101:22<br>start=as2border2</td> \n",
       "        <td id=\"T_391f9b2c_d68d_11e8_932b_8c85902fd849row1_col1\" class=\"data row1 col1\" >ACCEPTED<br><strong>1</strong>. node: as2border2<br>steps: FORWARDED(Routes: ibgp [Network: 2.128.0.0/24, Next Hop IP:2.34.101.4],ibgp [Network: 2.128.0.0/24, Next Hop IP:2.34.201.4]) &rarr; TRANSMITTED(GigabitEthernet1/0)<br><strong>2</strong>. node: as2core2<br>steps: RECEIVED(GigabitEthernet0/0) &rarr; FORWARDED(Routes: ibgp [Network: 2.128.0.0/24, Next Hop IP:2.34.201.4]) &rarr; TRANSMITTED(GigabitEthernet2/0)<br><strong>3</strong>. node: as2dist2<br>steps: RECEIVED(GigabitEthernet0/0) &rarr; FORWARDED(Routes: bgp [Network: 2.128.0.0/24, Next Hop IP:2.34.201.4]) &rarr; TRANSMITTED(GigabitEthernet2/0)<br><strong>4</strong>. node: as2dept1<br>steps: RECEIVED(GigabitEthernet1/0) &rarr; FORWARDED(Routes: connected [Network: 2.128.0.0/24, Next Hop IP:AUTO/NONE(-1l)]) &rarr; TRANSMITTED(GigabitEthernet2/0)<br><strong>5</strong>. node: host1<br>steps: RECEIVED(eth0: filter::INPUT) &rarr; ACCEPTED(InboundStep)<br><br>ACCEPTED<br><strong>1</strong>. node: as2border2<br>steps: FORWARDED(Routes: ibgp [Network: 2.128.0.0/24, Next Hop IP:2.34.101.4],ibgp [Network: 2.128.0.0/24, Next Hop IP:2.34.201.4]) &rarr; TRANSMITTED(GigabitEthernet1/0)<br><strong>2</strong>. node: as2core2<br>steps: RECEIVED(GigabitEthernet0/0) &rarr; FORWARDED(Routes: ibgp [Network: 2.128.0.0/24, Next Hop IP:2.34.101.4]) &rarr; TRANSMITTED(GigabitEthernet3/0)<br><strong>3</strong>. node: as2dist1<br>steps: RECEIVED(GigabitEthernet1/0) &rarr; FORWARDED(Routes: bgp [Network: 2.128.0.0/24, Next Hop IP:2.34.101.4]) &rarr; TRANSMITTED(GigabitEthernet2/0)<br><strong>4</strong>. node: as2dept1<br>steps: RECEIVED(GigabitEthernet0/0) &rarr; FORWARDED(Routes: connected [Network: 2.128.0.0/24, Next Hop IP:AUTO/NONE(-1l)]) &rarr; TRANSMITTED(GigabitEthernet2/0)<br><strong>5</strong>. node: host1<br>steps: RECEIVED(eth0: filter::INPUT) &rarr; ACCEPTED(InboundStep)<br><br>ACCEPTED<br><strong>1</strong>. node: as2border2<br>steps: FORWARDED(Routes: ibgp [Network: 2.128.0.0/24, Next Hop IP:2.34.101.4],ibgp [Network: 2.128.0.0/24, Next Hop IP:2.34.201.4]) &rarr; TRANSMITTED(GigabitEthernet2/0)<br><strong>2</strong>. node: as2core1<br>steps: RECEIVED(GigabitEthernet1/0) &rarr; FORWARDED(Routes: ibgp [Network: 2.128.0.0/24, Next Hop IP:2.34.101.4]) &rarr; TRANSMITTED(GigabitEthernet2/0)<br><strong>3</strong>. node: as2dist1<br>steps: RECEIVED(GigabitEthernet0/0) &rarr; FORWARDED(Routes: bgp [Network: 2.128.0.0/24, Next Hop IP:2.34.101.4]) &rarr; TRANSMITTED(GigabitEthernet2/0)<br><strong>4</strong>. node: as2dept1<br>steps: RECEIVED(GigabitEthernet0/0) &rarr; FORWARDED(Routes: connected [Network: 2.128.0.0/24, Next Hop IP:AUTO/NONE(-1l)]) &rarr; TRANSMITTED(GigabitEthernet2/0)<br><strong>5</strong>. node: host1<br>steps: RECEIVED(eth0: filter::INPUT) &rarr; ACCEPTED(InboundStep)<br><br>ACCEPTED<br><strong>1</strong>. node: as2border2<br>steps: FORWARDED(Routes: ibgp [Network: 2.128.0.0/24, Next Hop IP:2.34.101.4],ibgp [Network: 2.128.0.0/24, Next Hop IP:2.34.201.4]) &rarr; TRANSMITTED(GigabitEthernet2/0)<br><strong>2</strong>. node: as2core1<br>steps: RECEIVED(GigabitEthernet1/0) &rarr; FORWARDED(Routes: ibgp [Network: 2.128.0.0/24, Next Hop IP:2.34.201.4]) &rarr; TRANSMITTED(GigabitEthernet3/0)<br><strong>3</strong>. node: as2dist2<br>steps: RECEIVED(GigabitEthernet1/0) &rarr; FORWARDED(Routes: bgp [Network: 2.128.0.0/24, Next Hop IP:2.34.201.4]) &rarr; TRANSMITTED(GigabitEthernet2/0)<br><strong>4</strong>. node: as2dept1<br>steps: RECEIVED(GigabitEthernet1/0) &rarr; FORWARDED(Routes: connected [Network: 2.128.0.0/24, Next Hop IP:AUTO/NONE(-1l)]) &rarr; TRANSMITTED(GigabitEthernet2/0)<br><strong>5</strong>. node: host1<br>steps: RECEIVED(eth0: filter::INPUT) &rarr; ACCEPTED(InboundStep)</td> \n",
       "        <td id=\"T_391f9b2c_d68d_11e8_932b_8c85902fd849row1_col2\" class=\"data row1 col2\" >4</td> \n",
       "    </tr>    <tr> \n",
       "        <th id=\"T_391f9b2c_d68d_11e8_932b_8c85902fd849level0_row2\" class=\"row_heading level0 row2\" >2</th> \n",
       "        <td id=\"T_391f9b2c_d68d_11e8_932b_8c85902fd849row2_col0\" class=\"data row2 col0\" >0.0.0.0:0 &rarr; 2.128.0.101:22<br>start=as2core1</td> \n",
       "        <td id=\"T_391f9b2c_d68d_11e8_932b_8c85902fd849row2_col1\" class=\"data row2 col1\" >ACCEPTED<br><strong>1</strong>. node: as2core1<br>steps: FORWARDED(Routes: ibgp [Network: 2.128.0.0/24, Next Hop IP:2.34.101.4]) &rarr; TRANSMITTED(GigabitEthernet2/0)<br><strong>2</strong>. node: as2dist1<br>steps: RECEIVED(GigabitEthernet0/0) &rarr; FORWARDED(Routes: bgp [Network: 2.128.0.0/24, Next Hop IP:2.34.101.4]) &rarr; TRANSMITTED(GigabitEthernet2/0)<br><strong>3</strong>. node: as2dept1<br>steps: RECEIVED(GigabitEthernet0/0) &rarr; FORWARDED(Routes: connected [Network: 2.128.0.0/24, Next Hop IP:AUTO/NONE(-1l)]) &rarr; TRANSMITTED(GigabitEthernet2/0)<br><strong>4</strong>. node: host1<br>steps: RECEIVED(eth0: filter::INPUT) &rarr; ACCEPTED(InboundStep)<br><br>ACCEPTED<br><strong>1</strong>. node: as2core1<br>steps: FORWARDED(Routes: ibgp [Network: 2.128.0.0/24, Next Hop IP:2.34.201.4]) &rarr; TRANSMITTED(GigabitEthernet3/0)<br><strong>2</strong>. node: as2dist2<br>steps: RECEIVED(GigabitEthernet1/0) &rarr; FORWARDED(Routes: bgp [Network: 2.128.0.0/24, Next Hop IP:2.34.201.4]) &rarr; TRANSMITTED(GigabitEthernet2/0)<br><strong>3</strong>. node: as2dept1<br>steps: RECEIVED(GigabitEthernet1/0) &rarr; FORWARDED(Routes: connected [Network: 2.128.0.0/24, Next Hop IP:AUTO/NONE(-1l)]) &rarr; TRANSMITTED(GigabitEthernet2/0)<br><strong>4</strong>. node: host1<br>steps: RECEIVED(eth0: filter::INPUT) &rarr; ACCEPTED(InboundStep)</td> \n",
       "        <td id=\"T_391f9b2c_d68d_11e8_932b_8c85902fd849row2_col2\" class=\"data row2 col2\" >2</td> \n",
       "    </tr>    <tr> \n",
       "        <th id=\"T_391f9b2c_d68d_11e8_932b_8c85902fd849level0_row3\" class=\"row_heading level0 row3\" >3</th> \n",
       "        <td id=\"T_391f9b2c_d68d_11e8_932b_8c85902fd849row3_col0\" class=\"data row3 col0\" >0.0.0.0:0 &rarr; 2.128.0.101:22<br>start=as2core2</td> \n",
       "        <td id=\"T_391f9b2c_d68d_11e8_932b_8c85902fd849row3_col1\" class=\"data row3 col1\" >ACCEPTED<br><strong>1</strong>. node: as2core2<br>steps: FORWARDED(Routes: ibgp [Network: 2.128.0.0/24, Next Hop IP:2.34.201.4]) &rarr; TRANSMITTED(GigabitEthernet2/0)<br><strong>2</strong>. node: as2dist2<br>steps: RECEIVED(GigabitEthernet0/0) &rarr; FORWARDED(Routes: bgp [Network: 2.128.0.0/24, Next Hop IP:2.34.201.4]) &rarr; TRANSMITTED(GigabitEthernet2/0)<br><strong>3</strong>. node: as2dept1<br>steps: RECEIVED(GigabitEthernet1/0) &rarr; FORWARDED(Routes: connected [Network: 2.128.0.0/24, Next Hop IP:AUTO/NONE(-1l)]) &rarr; TRANSMITTED(GigabitEthernet2/0)<br><strong>4</strong>. node: host1<br>steps: RECEIVED(eth0: filter::INPUT) &rarr; ACCEPTED(InboundStep)<br><br>ACCEPTED<br><strong>1</strong>. node: as2core2<br>steps: FORWARDED(Routes: ibgp [Network: 2.128.0.0/24, Next Hop IP:2.34.101.4]) &rarr; TRANSMITTED(GigabitEthernet3/0)<br><strong>2</strong>. node: as2dist1<br>steps: RECEIVED(GigabitEthernet1/0) &rarr; FORWARDED(Routes: bgp [Network: 2.128.0.0/24, Next Hop IP:2.34.101.4]) &rarr; TRANSMITTED(GigabitEthernet2/0)<br><strong>3</strong>. node: as2dept1<br>steps: RECEIVED(GigabitEthernet0/0) &rarr; FORWARDED(Routes: connected [Network: 2.128.0.0/24, Next Hop IP:AUTO/NONE(-1l)]) &rarr; TRANSMITTED(GigabitEthernet2/0)<br><strong>4</strong>. node: host1<br>steps: RECEIVED(eth0: filter::INPUT) &rarr; ACCEPTED(InboundStep)</td> \n",
       "        <td id=\"T_391f9b2c_d68d_11e8_932b_8c85902fd849row3_col2\" class=\"data row3 col2\" >2</td> \n",
       "    </tr>    <tr> \n",
       "        <th id=\"T_391f9b2c_d68d_11e8_932b_8c85902fd849level0_row4\" class=\"row_heading level0 row4\" >4</th> \n",
       "        <td id=\"T_391f9b2c_d68d_11e8_932b_8c85902fd849row4_col0\" class=\"data row4 col0\" >0.0.0.0:0 &rarr; 2.128.0.101:22<br>start=as2dept1</td> \n",
       "        <td id=\"T_391f9b2c_d68d_11e8_932b_8c85902fd849row4_col1\" class=\"data row4 col1\" >ACCEPTED<br><strong>1</strong>. node: as2dept1<br>steps: FORWARDED(Routes: connected [Network: 2.128.0.0/24, Next Hop IP:AUTO/NONE(-1l)]) &rarr; TRANSMITTED(GigabitEthernet2/0)<br><strong>2</strong>. node: host1<br>steps: RECEIVED(eth0: filter::INPUT) &rarr; ACCEPTED(InboundStep)</td> \n",
       "        <td id=\"T_391f9b2c_d68d_11e8_932b_8c85902fd849row4_col2\" class=\"data row4 col2\" >1</td> \n",
       "    </tr>    <tr> \n",
       "        <th id=\"T_391f9b2c_d68d_11e8_932b_8c85902fd849level0_row5\" class=\"row_heading level0 row5\" >5</th> \n",
       "        <td id=\"T_391f9b2c_d68d_11e8_932b_8c85902fd849row5_col0\" class=\"data row5 col0\" >0.0.0.0:0 &rarr; 2.128.0.101:22<br>start=as2dist1</td> \n",
       "        <td id=\"T_391f9b2c_d68d_11e8_932b_8c85902fd849row5_col1\" class=\"data row5 col1\" >ACCEPTED<br><strong>1</strong>. node: as2dist1<br>steps: FORWARDED(Routes: bgp [Network: 2.128.0.0/24, Next Hop IP:2.34.101.4]) &rarr; TRANSMITTED(GigabitEthernet2/0)<br><strong>2</strong>. node: as2dept1<br>steps: RECEIVED(GigabitEthernet0/0) &rarr; FORWARDED(Routes: connected [Network: 2.128.0.0/24, Next Hop IP:AUTO/NONE(-1l)]) &rarr; TRANSMITTED(GigabitEthernet2/0)<br><strong>3</strong>. node: host1<br>steps: RECEIVED(eth0: filter::INPUT) &rarr; ACCEPTED(InboundStep)</td> \n",
       "        <td id=\"T_391f9b2c_d68d_11e8_932b_8c85902fd849row5_col2\" class=\"data row5 col2\" >1</td> \n",
       "    </tr>    <tr> \n",
       "        <th id=\"T_391f9b2c_d68d_11e8_932b_8c85902fd849level0_row6\" class=\"row_heading level0 row6\" >6</th> \n",
       "        <td id=\"T_391f9b2c_d68d_11e8_932b_8c85902fd849row6_col0\" class=\"data row6 col0\" >0.0.0.0:0 &rarr; 2.128.0.101:22<br>start=as2dist2</td> \n",
       "        <td id=\"T_391f9b2c_d68d_11e8_932b_8c85902fd849row6_col1\" class=\"data row6 col1\" >ACCEPTED<br><strong>1</strong>. node: as2dist2<br>steps: FORWARDED(Routes: bgp [Network: 2.128.0.0/24, Next Hop IP:2.34.201.4]) &rarr; TRANSMITTED(GigabitEthernet2/0)<br><strong>2</strong>. node: as2dept1<br>steps: RECEIVED(GigabitEthernet1/0) &rarr; FORWARDED(Routes: connected [Network: 2.128.0.0/24, Next Hop IP:AUTO/NONE(-1l)]) &rarr; TRANSMITTED(GigabitEthernet2/0)<br><strong>3</strong>. node: host1<br>steps: RECEIVED(eth0: filter::INPUT) &rarr; ACCEPTED(InboundStep)</td> \n",
       "        <td id=\"T_391f9b2c_d68d_11e8_932b_8c85902fd849row6_col2\" class=\"data row6 col2\" >1</td> \n",
       "    </tr></tbody> \n",
       "</table> "
      ],
      "text/plain": [
       "<pandas.io.formats.style.Styler at 0x10d518c50>"
      ]
     },
     "metadata": {},
     "output_type": "display_data"
    }
   ],
   "source": [
    "path = PathConstraints(startLocation=\"as2.*\")\n",
    "headers = HeaderConstraints(srcIps=\"0.0.0.0/0\", dstIps=\"ofLocation(host1)\", ipProtocols=\"TCP,UDP\")\n",
    "reach = bfq.reachability(pathConstraints=path, headers=headers, actions=\"accepted\").answer().frame()\n",
    "display_html(reach)"
   ]
  },
  {
   "cell_type": "markdown",
   "metadata": {},
   "source": [
    "As you can see, this query identified flows entering the network at *all* `as2...` nodes destined for `host1` that would be delivered.\n",
    "And in all cases, it was SSH traffic that was permitted. However, such output can be hard to process, therefore \n",
    "with reachability queries we will want to create queries that are the **opposite** of the property we want to quarantee.\n",
    "\n",
    "For example, let's check if any check if *any* DNS flow originating *inside* AS2 destined for `host1` is *dropped*"
   ]
  },
  {
   "cell_type": "code",
   "execution_count": 7,
   "metadata": {},
   "outputs": [
    {
     "data": {
      "text/html": [
       "<div>\n",
       "<style scoped>\n",
       "    .dataframe tbody tr th:only-of-type {\n",
       "        vertical-align: middle;\n",
       "    }\n",
       "\n",
       "    .dataframe tbody tr th {\n",
       "        vertical-align: top;\n",
       "    }\n",
       "\n",
       "    .dataframe thead th {\n",
       "        text-align: right;\n",
       "    }\n",
       "</style>\n",
       "<table border=\"1\" class=\"dataframe\">\n",
       "  <thead>\n",
       "    <tr style=\"text-align: right;\">\n",
       "      <th></th>\n",
       "      <th>Flow</th>\n",
       "      <th>Traces</th>\n",
       "      <th>TraceCount</th>\n",
       "    </tr>\n",
       "  </thead>\n",
       "  <tbody>\n",
       "  </tbody>\n",
       "</table>\n",
       "</div>"
      ],
      "text/plain": [
       "Empty DataFrame\n",
       "Columns: [Flow, Traces, TraceCount]\n",
       "Index: []"
      ]
     },
     "metadata": {},
     "output_type": "display_data"
    }
   ],
   "source": [
    "path = PathConstraints(startLocation=\"as2.*\")\n",
    "headers = HeaderConstraints(dstIps=\"ofLocation(host1)\", applications=\"SSH\")\n",
    "reach = bfq.reachability(pathConstraints=path, headers=headers, actions=\"failure\").answer().frame()\n",
    "display_html(reach)"
   ]
  },
  {
   "cell_type": "markdown",
   "metadata": {},
   "source": [
    "The fact that we get empty result means that `host1` is reachable via SSH from anywhere within AS2.\n",
    "Let's now do the same for DNS traffic:\n",
    "\n",
    "Check if *any* DNS flow originating *outside* of AS2 destined for `host1` is *dropped*\n",
    "## TODO: explain enter grammar"
   ]
  },
  {
   "cell_type": "code",
   "execution_count": 8,
   "metadata": {},
   "outputs": [
    {
     "data": {
      "text/html": [
       "<style  type=\"text/css\" >\n",
       "    #T_3a66697a_d68d_11e8_932b_8c85902fd849row0_col0 {\n",
       "            text-align:  left;\n",
       "            vertical-align:  top;\n",
       "        }    #T_3a66697a_d68d_11e8_932b_8c85902fd849row0_col1 {\n",
       "            text-align:  left;\n",
       "            vertical-align:  top;\n",
       "        }    #T_3a66697a_d68d_11e8_932b_8c85902fd849row0_col2 {\n",
       "            text-align:  left;\n",
       "            vertical-align:  top;\n",
       "        }    #T_3a66697a_d68d_11e8_932b_8c85902fd849row1_col0 {\n",
       "            text-align:  left;\n",
       "            vertical-align:  top;\n",
       "        }    #T_3a66697a_d68d_11e8_932b_8c85902fd849row1_col1 {\n",
       "            text-align:  left;\n",
       "            vertical-align:  top;\n",
       "        }    #T_3a66697a_d68d_11e8_932b_8c85902fd849row1_col2 {\n",
       "            text-align:  left;\n",
       "            vertical-align:  top;\n",
       "        }</style>  \n",
       "<table id=\"T_3a66697a_d68d_11e8_932b_8c85902fd849\" > \n",
       "<thead>    <tr> \n",
       "        <th class=\"blank level0\" ></th> \n",
       "        <th class=\"col_heading level0 col0\" >Flow</th> \n",
       "        <th class=\"col_heading level0 col1\" >Traces</th> \n",
       "        <th class=\"col_heading level0 col2\" >TraceCount</th> \n",
       "    </tr></thead> \n",
       "<tbody>    <tr> \n",
       "        <th id=\"T_3a66697a_d68d_11e8_932b_8c85902fd849level0_row0\" class=\"row_heading level0 row0\" >0</th> \n",
       "        <td id=\"T_3a66697a_d68d_11e8_932b_8c85902fd849row0_col0\" class=\"data row0 col0\" >2.0.0.0:0 &rarr; 2.128.0.101:53<br>start=as2border1 interface=GigabitEthernet0/0</td> \n",
       "        <td id=\"T_3a66697a_d68d_11e8_932b_8c85902fd849row0_col1\" class=\"data row0 col1\" >DENIED_IN<br><strong>1</strong>. node: as2border1<br>steps: DENIED(GigabitEthernet0/0: OUTSIDE_TO_INSIDE)</td> \n",
       "        <td id=\"T_3a66697a_d68d_11e8_932b_8c85902fd849row0_col2\" class=\"data row0 col2\" >1</td> \n",
       "    </tr>    <tr> \n",
       "        <th id=\"T_3a66697a_d68d_11e8_932b_8c85902fd849level0_row1\" class=\"row_heading level0 row1\" >1</th> \n",
       "        <td id=\"T_3a66697a_d68d_11e8_932b_8c85902fd849row1_col0\" class=\"data row1 col0\" >2.0.0.0:0 &rarr; 2.128.0.101:53<br>start=as2border2 interface=GigabitEthernet0/0</td> \n",
       "        <td id=\"T_3a66697a_d68d_11e8_932b_8c85902fd849row1_col1\" class=\"data row1 col1\" >DENIED_IN<br><strong>1</strong>. node: as2border2<br>steps: DENIED(GigabitEthernet0/0: OUTSIDE_TO_INSIDE)</td> \n",
       "        <td id=\"T_3a66697a_d68d_11e8_932b_8c85902fd849row1_col2\" class=\"data row1 col2\" >1</td> \n",
       "    </tr></tbody> \n",
       "</table> "
      ],
      "text/plain": [
       "<pandas.io.formats.style.Styler at 0x11cdc7c88>"
      ]
     },
     "metadata": {},
     "output_type": "display_data"
    }
   ],
   "source": [
    "path = PathConstraints(startLocation=\"enter(as2border.*[GigabitEthernet0/0])\")\n",
    "headers = HeaderConstraints(srcIps=\"0.0.0.0/0\", dstIps=\"ofLocation(host1)\", applications=\"DNS\")\n",
    "reach = bfq.reachability(pathConstraints=path, headers=headers, actions=\"failure\").answer().frame()\n",
    "display_html(reach)"
   ]
  },
  {
   "cell_type": "markdown",
   "metadata": {},
   "source": [
    "The answer is yes! That means that at least `2.0.0.0` cannot reach the DNS server due to the `OUTSIDE_TO_INSIDE` filter."
   ]
  },
  {
   "cell_type": "markdown",
   "metadata": {},
   "source": [
    "Finally, let's perform a security check, searching for any flows **accepted** by `host1` that are **not** DNS or SSH"
   ]
  },
  {
   "cell_type": "code",
   "execution_count": 9,
   "metadata": {
    "scrolled": true
   },
   "outputs": [
    {
     "data": {
      "text/html": [
       "<div>\n",
       "<style scoped>\n",
       "    .dataframe tbody tr th:only-of-type {\n",
       "        vertical-align: middle;\n",
       "    }\n",
       "\n",
       "    .dataframe tbody tr th {\n",
       "        vertical-align: top;\n",
       "    }\n",
       "\n",
       "    .dataframe thead th {\n",
       "        text-align: right;\n",
       "    }\n",
       "</style>\n",
       "<table border=\"1\" class=\"dataframe\">\n",
       "  <thead>\n",
       "    <tr style=\"text-align: right;\">\n",
       "      <th></th>\n",
       "      <th>Flow</th>\n",
       "      <th>Traces</th>\n",
       "      <th>TraceCount</th>\n",
       "    </tr>\n",
       "  </thead>\n",
       "  <tbody>\n",
       "  </tbody>\n",
       "</table>\n",
       "</div>"
      ],
      "text/plain": [
       "Empty DataFrame\n",
       "Columns: [Flow, Traces, TraceCount]\n",
       "Index: []"
      ]
     },
     "metadata": {},
     "output_type": "display_data"
    }
   ],
   "source": [
    "path = PathConstraints(startLocation=\"enter(as2border.*[GigabitEthernet0/0])\")\n",
    "headers = HeaderConstraints(srcIps=\"0.0.0.0/0\", dstIps=\"ofLocation(host1)\", ipProtocols=\"TCP,UDP\", dstPorts=\"!22,!53\")\n",
    "reach = bfq.reachability(pathConstraints=path, headers=headers, actions=\"accepted\").answer().frame()\n",
    "display_html(reach)"
   ]
  },
  {
   "cell_type": "markdown",
   "metadata": {},
   "source": [
    "Sucess! No unauthorized (DNS or SSH) flows will reach `host1`\n",
    "\n",
    "### Wrap-up\n",
    "\n",
    "This concludes the notebook. To recap, in this notebook we covered the foundational tasks for path analysis:\n",
    "\n",
    "1. We performed a traceroute to check connectivity to `host1`\n",
    "2. Analyzed detailed path & hop information for the traceroute\n",
    "3. Explored a space of flows with the reachablity question and found a ACL bug that prevents some clients from reaching the DNS server\n",
    "4. Perfomed a security check that ensures that only SSH and DNS traffic can reach `host1`\n",
    "\n",
    "We hope you found this notebook useful and informative. Future notebooks will dive into more advanced topics ensuring planned configuration changes do not have unintended consequences. Stay tuned!\n",
    "\n",
    "### Want to know more? \n",
    "\n",
    "Reach out to us through [Slack](https://join.slack.com/t/batfish-org/shared_invite/enQtMzA0Nzg2OTAzNzQ1LTUxOTJlY2YyNTVlNGQ3MTJkOTIwZTU2YjY3YzRjZWFiYzE4ODE5ODZiNjA4NGI5NTJhZmU2ZTllOTMwZDhjMzA) or [Github](https://github.com/batfish/batfish) to learn more, or send feedback."
   ]
  }
 ],
 "metadata": {
  "hide_input": false,
  "kernelspec": {
   "display_name": "Python 3",
   "language": "python",
   "name": "python3"
  },
  "language_info": {
   "codemirror_mode": {
    "name": "ipython",
    "version": 3
   },
   "file_extension": ".py",
   "mimetype": "text/x-python",
   "name": "python",
   "nbconvert_exporter": "python",
   "pygments_lexer": "ipython3",
   "version": "3.7.0"
  },
  "varInspector": {
   "cols": {
    "lenName": 16,
    "lenType": 16,
    "lenVar": 40
   },
   "kernels_config": {
    "python": {
     "delete_cmd_postfix": "",
     "delete_cmd_prefix": "del ",
     "library": "var_list.py",
     "varRefreshCmd": "print(var_dic_list())"
    },
    "r": {
     "delete_cmd_postfix": ") ",
     "delete_cmd_prefix": "rm(",
     "library": "var_list.r",
     "varRefreshCmd": "cat(var_dic_list()) "
    }
   },
   "types_to_exclude": [
    "module",
    "function",
    "builtin_function_or_method",
    "instance",
    "_Feature"
   ],
   "window_display": false
  }
 },
 "nbformat": 4,
 "nbformat_minor": 2
}
